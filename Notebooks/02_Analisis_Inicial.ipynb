{
 "cells": [
  {
   "attachments": {},
   "cell_type": "markdown",
   "metadata": {},
   "source": [
    "# Exploracion Inicial"
   ]
  },
  {
   "cell_type": "code",
   "execution_count": 1,
   "metadata": {},
   "outputs": [],
   "source": [
    "import pandas as pd\n",
    "import numpy as np"
   ]
  },
  {
   "cell_type": "code",
   "execution_count": 2,
   "metadata": {},
   "outputs": [
    {
     "name": "stderr",
     "output_type": "stream",
     "text": [
      "/var/folders/_7/w3c31kvd4p94jdl54j1_m3p98zhdhc/T/ipykernel_89401/3598093425.py:1: DtypeWarning: Columns (2) have mixed types. Specify dtype option on import or set low_memory=False.\n",
      "  curdf = pd.read_csv('../data/interim/curdf.csv')\n",
      "/var/folders/_7/w3c31kvd4p94jdl54j1_m3p98zhdhc/T/ipykernel_89401/3598093425.py:3: DtypeWarning: Columns (1,5) have mixed types. Specify dtype option on import or set low_memory=False.\n",
      "  findf = pd.read_csv('../data/interim/findf.csv')\n"
     ]
    }
   ],
   "source": [
    "curdf = pd.read_csv('../data/interim/curdf.csv')\n",
    "datdf = pd.read_csv('../data/interim/datdf.csv')\n",
    "findf = pd.read_csv('../data/interim/findf.csv')"
   ]
  },
  {
   "cell_type": "code",
   "execution_count": 3,
   "metadata": {},
   "outputs": [
    {
     "name": "stdout",
     "output_type": "stream",
     "text": [
      "cur shape:  (581295, 12)\n",
      "dat shape:  (24839, 10)\n",
      "fin shape:  (554523, 7)\n"
     ]
    }
   ],
   "source": [
    "print('cur shape: ',curdf.shape)\n",
    "print('dat shape: ',datdf.shape)\n",
    "print('fin shape: ',findf.shape)"
   ]
  },
  {
   "cell_type": "code",
   "execution_count": 4,
   "metadata": {},
   "outputs": [
    {
     "data": {
      "text/plain": [
       "Index(['codigo_alumno', 'curso', 'codigo_materia', 'departamento', 'modalidad',\n",
       "       'turno', 'ciclo_lectivo', 'tipo_de_aprobacion',\n",
       "       'cantidad_recursada_regular', 'descripción_recursada_regular',\n",
       "       'cantidad_recursada_libre', 'descripción_de_recursada_libre'],\n",
       "      dtype='object')"
      ]
     },
     "execution_count": 4,
     "metadata": {},
     "output_type": "execute_result"
    }
   ],
   "source": [
    "curdf.columns"
   ]
  },
  {
   "cell_type": "code",
   "execution_count": 5,
   "metadata": {},
   "outputs": [
    {
     "data": {
      "text/plain": [
       "Index(['codigo_alumno', 'codigo_materia', 'anio_academico', 'nota', 'aprobado',\n",
       "       'promociono', 'año_cursada'],\n",
       "      dtype='object')"
      ]
     },
     "execution_count": 5,
     "metadata": {},
     "output_type": "execute_result"
    }
   ],
   "source": [
    "findf.columns"
   ]
  },
  {
   "cell_type": "code",
   "execution_count": 6,
   "metadata": {},
   "outputs": [
    {
     "data": {
      "text/plain": [
       "Index(['codigo_alumno', 'pais', 'localidad', 'provincia', 'titulo_secundario',\n",
       "       'estado_civil', 'sexo', 'año_nacimiento', 'año_ingreso',\n",
       "       'codigo_propuesta'],\n",
       "      dtype='object')"
      ]
     },
     "execution_count": 6,
     "metadata": {},
     "output_type": "execute_result"
    }
   ],
   "source": [
    "datdf.columns"
   ]
  },
  {
   "attachments": {},
   "cell_type": "markdown",
   "metadata": {},
   "source": [
    "# Analisis Dataset Datos"
   ]
  },
  {
   "attachments": {},
   "cell_type": "markdown",
   "metadata": {},
   "source": [
    "## Datos Alumnos"
   ]
  },
  {
   "cell_type": "code",
   "execution_count": 7,
   "metadata": {},
   "outputs": [
    {
     "data": {
      "text/html": [
       "<div>\n",
       "<style scoped>\n",
       "    .dataframe tbody tr th:only-of-type {\n",
       "        vertical-align: middle;\n",
       "    }\n",
       "\n",
       "    .dataframe tbody tr th {\n",
       "        vertical-align: top;\n",
       "    }\n",
       "\n",
       "    .dataframe thead th {\n",
       "        text-align: right;\n",
       "    }\n",
       "</style>\n",
       "<table border=\"1\" class=\"dataframe\">\n",
       "  <thead>\n",
       "    <tr style=\"text-align: right;\">\n",
       "      <th></th>\n",
       "      <th>codigo_alumno</th>\n",
       "      <th>pais</th>\n",
       "      <th>localidad</th>\n",
       "      <th>provincia</th>\n",
       "      <th>titulo_secundario</th>\n",
       "      <th>estado_civil</th>\n",
       "      <th>sexo</th>\n",
       "      <th>año_nacimiento</th>\n",
       "      <th>año_ingreso</th>\n",
       "      <th>codigo_propuesta</th>\n",
       "    </tr>\n",
       "  </thead>\n",
       "  <tbody>\n",
       "    <tr>\n",
       "      <th>0</th>\n",
       "      <td>27</td>\n",
       "      <td>NaN</td>\n",
       "      <td>NaN</td>\n",
       "      <td>NaN</td>\n",
       "      <td>NaN</td>\n",
       "      <td>Casado</td>\n",
       "      <td>M</td>\n",
       "      <td>1974</td>\n",
       "      <td>1993</td>\n",
       "      <td>K</td>\n",
       "    </tr>\n",
       "    <tr>\n",
       "      <th>1</th>\n",
       "      <td>53</td>\n",
       "      <td>NaN</td>\n",
       "      <td>NaN</td>\n",
       "      <td>NaN</td>\n",
       "      <td>NaN</td>\n",
       "      <td>Soltero</td>\n",
       "      <td>M</td>\n",
       "      <td>1974</td>\n",
       "      <td>1999</td>\n",
       "      <td>K</td>\n",
       "    </tr>\n",
       "    <tr>\n",
       "      <th>2</th>\n",
       "      <td>58</td>\n",
       "      <td>NaN</td>\n",
       "      <td>NaN</td>\n",
       "      <td>NaN</td>\n",
       "      <td>NaN</td>\n",
       "      <td>Soltero</td>\n",
       "      <td>M</td>\n",
       "      <td>1974</td>\n",
       "      <td>1995</td>\n",
       "      <td>K</td>\n",
       "    </tr>\n",
       "    <tr>\n",
       "      <th>3</th>\n",
       "      <td>72</td>\n",
       "      <td>NaN</td>\n",
       "      <td>NaN</td>\n",
       "      <td>NaN</td>\n",
       "      <td>NaN</td>\n",
       "      <td>Soltero</td>\n",
       "      <td>M</td>\n",
       "      <td>1974</td>\n",
       "      <td>1995</td>\n",
       "      <td>K</td>\n",
       "    </tr>\n",
       "    <tr>\n",
       "      <th>4</th>\n",
       "      <td>86</td>\n",
       "      <td>Argentina</td>\n",
       "      <td>CABA - Ciudad Autónoma de Buenos Aires</td>\n",
       "      <td>Ciudad Autónoma de Buenos Aires</td>\n",
       "      <td>NaN</td>\n",
       "      <td>Soltero</td>\n",
       "      <td>M</td>\n",
       "      <td>1974</td>\n",
       "      <td>1999</td>\n",
       "      <td>K</td>\n",
       "    </tr>\n",
       "  </tbody>\n",
       "</table>\n",
       "</div>"
      ],
      "text/plain": [
       "   codigo_alumno       pais                               localidad  \\\n",
       "0             27        NaN                                     NaN   \n",
       "1             53        NaN                                     NaN   \n",
       "2             58        NaN                                     NaN   \n",
       "3             72        NaN                                     NaN   \n",
       "4             86  Argentina  CABA - Ciudad Autónoma de Buenos Aires   \n",
       "\n",
       "                         provincia titulo_secundario estado_civil sexo  \\\n",
       "0                              NaN               NaN       Casado    M   \n",
       "1                              NaN               NaN      Soltero    M   \n",
       "2                              NaN               NaN      Soltero    M   \n",
       "3                              NaN               NaN      Soltero    M   \n",
       "4  Ciudad Autónoma de Buenos Aires               NaN      Soltero    M   \n",
       "\n",
       "   año_nacimiento  año_ingreso codigo_propuesta  \n",
       "0            1974         1993                K  \n",
       "1            1974         1999                K  \n",
       "2            1974         1995                K  \n",
       "3            1974         1995                K  \n",
       "4            1974         1999                K  "
      ]
     },
     "execution_count": 7,
     "metadata": {},
     "output_type": "execute_result"
    }
   ],
   "source": [
    "datdf.head()"
   ]
  },
  {
   "cell_type": "code",
   "execution_count": 8,
   "metadata": {},
   "outputs": [
    {
     "name": "stderr",
     "output_type": "stream",
     "text": [
      "/Users/sjaremczuk/Library/Caches/pypoetry/virtualenvs/tesis-ds-polkNLC9-py3.9/lib/python3.9/site-packages/numba/core/decorators.py:262: NumbaDeprecationWarning: numba.generated_jit is deprecated. Please see the documentation at: https://numba.readthedocs.io/en/stable/reference/deprecation.html#deprecation-of-generated-jit for more information and advice on a suitable replacement.\n",
      "  warnings.warn(msg, NumbaDeprecationWarning)\n",
      "/Users/sjaremczuk/Library/Caches/pypoetry/virtualenvs/tesis-ds-polkNLC9-py3.9/lib/python3.9/site-packages/visions/backends/shared/nan_handling.py:51: NumbaDeprecationWarning: The 'nopython' keyword argument was not supplied to the 'numba.jit' decorator. The implicit default value for this argument is currently False, but it will be changed to True in Numba 0.59.0. See https://numba.readthedocs.io/en/stable/reference/deprecation.html#deprecation-of-object-mode-fall-back-behaviour-when-using-jit for details.\n",
      "  def hasna(x: np.ndarray) -> bool:\n"
     ]
    }
   ],
   "source": [
    "from ydata_profiling import ProfileReport"
   ]
  },
  {
   "cell_type": "code",
   "execution_count": 9,
   "metadata": {},
   "outputs": [],
   "source": [
    "datdfpr = ProfileReport(datdf, title=\"Datos Alumnos - Profiling Report\")"
   ]
  },
  {
   "cell_type": "code",
   "execution_count": 10,
   "metadata": {},
   "outputs": [
    {
     "data": {
      "application/vnd.jupyter.widget-view+json": {
       "model_id": "aee740aaf25a46fc82baa1f950b89f4a",
       "version_major": 2,
       "version_minor": 0
      },
      "text/plain": [
       "Summarize dataset:   0%|          | 0/5 [00:00<?, ?it/s]"
      ]
     },
     "metadata": {},
     "output_type": "display_data"
    },
    {
     "data": {
      "application/vnd.jupyter.widget-view+json": {
       "model_id": "f98633bcf63a4b8daae1cca8bee22b08",
       "version_major": 2,
       "version_minor": 0
      },
      "text/plain": [
       "Generate report structure:   0%|          | 0/1 [00:00<?, ?it/s]"
      ]
     },
     "metadata": {},
     "output_type": "display_data"
    },
    {
     "data": {
      "application/vnd.jupyter.widget-view+json": {
       "model_id": "97efdbacfb2640899de8e7c840c08272",
       "version_major": 2,
       "version_minor": 0
      },
      "text/plain": [
       "Render HTML:   0%|          | 0/1 [00:00<?, ?it/s]"
      ]
     },
     "metadata": {},
     "output_type": "display_data"
    },
    {
     "data": {
      "application/vnd.jupyter.widget-view+json": {
       "model_id": "8b8d8029d1674115b60516c870e280ce",
       "version_major": 2,
       "version_minor": 0
      },
      "text/plain": [
       "Export report to file:   0%|          | 0/1 [00:00<?, ?it/s]"
      ]
     },
     "metadata": {},
     "output_type": "display_data"
    }
   ],
   "source": [
    "datdfpr.to_file(\"reportes/Alumnos_ProfileReport.html\")"
   ]
  },
  {
   "attachments": {},
   "cell_type": "markdown",
   "metadata": {},
   "source": [
    "### Criterios basados en el análsis del dataset"
   ]
  },
  {
   "attachments": {},
   "cell_type": "markdown",
   "metadata": {},
   "source": [
    "* `codigo_alumno`\n",
    "    - id\n",
    "* `pais`\n",
    "    - decision -> `eliminar la variable`\n",
    "    - la mayoria es argentina 74.9%\n",
    "    - 25% missing -> no esta mal\n",
    "    - puedo dejarlo por casos particulares pero al no tener varianza no ayuda\n",
    "* `localidad`\n",
    "    - analizarlo mas en profundidad para tomar decision\n",
    "* `provincia`\n",
    "    - muy desbalanceado pero podria funcionar para algunas cosas\n",
    "    - caba 46%, bs as 26%, missing 25%, y otros menores de 1%\n",
    "* `titulo_secundario`\n",
    "    - decisión -> `eliminar variable`\n",
    "    - 51% de missing\n",
    "    - se puede usar para profundizar algun análisis particular si vale la pena\n",
    "* `estado_civil`\n",
    "    - decision -> `eliminar variable`\n",
    "    - muy desbalanceado\n",
    "    - 92% soltero\n",
    "    - se podria utilizar para algun analisis particular\n",
    "    - dato no actualizado a través dle tiempo\n",
    "* `sexo`\n",
    "    - 83,4% M - 16,6% F\n",
    "* `año_nacimiento`\n",
    "    - decisión -> `usar variable`\n",
    "    - tiene errores y outliers (nacimeinto en 1900 por ejemplo)\n",
    "    - arreglar con criterio esos casos\n",
    "    - modificar el nombre para sacar la letra ñ\n",
    "* `año_ingreso`\n",
    "    - decisión -> `usar variable`\n",
    "    - hay casos viejo\n",
    "        - el percentil 5 ya es 1999 de ingreso que podria ser un criterio para evitar problemas de outliers y fata de información en planes viejos y ese tipo de cosas\n",
    "    - hay que analizar si las personas que año de ingreso viejos terminaron la facultad\n",
    "* `codigo_propuesto`\n",
    "    - decision -> `usar variable`\n",
    "    - tener en cuenta que debe ser cuando ingresa peo tmb pudo haber cambaido de carrera\n",
    "        - usar codigo de materia para saber eso\n",
    "    - 9701 K, 3628 R, 3116 S, 2777 V, etc\n",
    "\n"
   ]
  },
  {
   "attachments": {},
   "cell_type": "markdown",
   "metadata": {},
   "source": [
    "## Datos Cursadas"
   ]
  },
  {
   "cell_type": "code",
   "execution_count": 11,
   "metadata": {},
   "outputs": [],
   "source": [
    "curdfpr = ProfileReport(curdf, title=\"Datos Cursadas - Profiling Report\")"
   ]
  },
  {
   "cell_type": "code",
   "execution_count": 12,
   "metadata": {},
   "outputs": [
    {
     "data": {
      "application/vnd.jupyter.widget-view+json": {
       "model_id": "8c9ec30d80c94853a56da8963e10f780",
       "version_major": 2,
       "version_minor": 0
      },
      "text/plain": [
       "Summarize dataset:   0%|          | 0/5 [00:00<?, ?it/s]"
      ]
     },
     "metadata": {},
     "output_type": "display_data"
    },
    {
     "data": {
      "application/vnd.jupyter.widget-view+json": {
       "model_id": "643db3762e8f468283f993dce8aa0e26",
       "version_major": 2,
       "version_minor": 0
      },
      "text/plain": [
       "Generate report structure:   0%|          | 0/1 [00:00<?, ?it/s]"
      ]
     },
     "metadata": {},
     "output_type": "display_data"
    },
    {
     "data": {
      "application/vnd.jupyter.widget-view+json": {
       "model_id": "3b814107ad8b4d08b902a1685a7d3e90",
       "version_major": 2,
       "version_minor": 0
      },
      "text/plain": [
       "Render HTML:   0%|          | 0/1 [00:00<?, ?it/s]"
      ]
     },
     "metadata": {},
     "output_type": "display_data"
    },
    {
     "data": {
      "application/vnd.jupyter.widget-view+json": {
       "model_id": "a9181b132835495ab3f8a50045ebe4dc",
       "version_major": 2,
       "version_minor": 0
      },
      "text/plain": [
       "Export report to file:   0%|          | 0/1 [00:00<?, ?it/s]"
      ]
     },
     "metadata": {},
     "output_type": "display_data"
    }
   ],
   "source": [
    "curdfpr.to_file(\"reportes/Cursadas_ProfileReport.html\")"
   ]
  },
  {
   "attachments": {},
   "cell_type": "markdown",
   "metadata": {},
   "source": [
    "### Criterios basados en el análsis del dataset"
   ]
  },
  {
   "attachments": {},
   "cell_type": "markdown",
   "metadata": {},
   "source": [
    "* `codigo_alumno`\n",
    "    - id\n",
    "* `curso`\n",
    "    - decisión -> `usar variable`\n",
    "* `codigo_materia`\n",
    "    - no soportado en el analisis estadistico\n",
    "        - trabajar un poco en esta variable para dsps hacer estadistica\n",
    "* `departamento`\n",
    "    - decisión -> `usar variable`\n",
    "    - a que departamento corresponde cada materia. Una carrera puede tener materias de distintos departamentos. como las básicas que las tienen todas las carreras\n",
    "* `modalidad`\n",
    "    - decisión -> `eliminar variable`\n",
    "    - muy desbalanceada a precencial y las que no son solo presencial son un mix entre presencila y distancia\n",
    "* `turno`\n",
    "    - decisión -> `usar variable`\n",
    "    - 10% missing -> ver si se puede averiguar los datos que faltan o tomar criterio\n",
    "* `ciclo_lectivo`\n",
    "    - decisión -> `usar variable`\n",
    "    - el minimo es 1997\n",
    "        - tener en cuenta esto por los datos viejos de año de ingreso o nacimiento\n",
    "        - puede ser un criterio para descartar otros datos y hacer limpieza o modificar pensando que el dato de año viejo no es bueno\n",
    "* `tipo_de_aprobacion`\n",
    "    - decision -> `usarlo solo en caso de las promociones si es que no está el registro del final`\n",
    "    - Regularidad, Promoción\t289237\t49.8%\n",
    "    - Promoción, Regularidad\t286618\t49.3%\n",
    "    - Regularidad\t5424\t 0.9%\n",
    "    - Promoción 16\t < 0.1%\n",
    "* `cantidad_cursada_regular`\n",
    "    - decision -> `usar variable`\n",
    "    - cantidad de veces que recurso una materia o el numero de vez que ese ese registro en el que esta recursando la materia\n",
    "        - analizar un poco mas con los casos >0 a ver bien que significa.\n",
    "        - esto puede ayudar a que si no tenemos el cuatrimestre pero el registro de la materia se duplica el ciclo_lectivo y este registro incrementa en u numero, identificaria el cuatrimestre\n",
    "    - tiene muchos ceros pero eso significa que curso y aprobó y no tuvo necesidad de recursar\n",
    "* `descripcion_recusada_regular`\n",
    "    - decision -> `usar variable`\n",
    "        - es la pareja de `cantidad_cursada_regular` -> `usar una de las 2 variables` o usarla para entender bien como es la variable\n",
    "* `cantidad_recursada_libre`\n",
    "    - decisión -> `usar variable`\n",
    "        - tiene alta correlacion con la anterior `cantidad_cusada_regular`\n",
    "        - analizar bien cual es la diferencia y como utilizarlas. quizas solo haya que utilizar una sola o transformar ambas en una sola variable\n",
    "* `descripcion_recursada_libre`\n",
    "    - decisión -> `usar variable`\n",
    "        - es la pareja de `cantidad_recursada_libre`\n",
    "        - la libreria d eprofiling no la soporto, analizar manualmente\n",
    "\n",
    "---\n",
    "* `WARNING`\n",
    "    - hay varias filas duplicadas\n",
    "        - ver bien porque y si es realidad esta mal calculado la variable de recursadas por ser el mismo ciclo lectivo o si se duplico sin querer y hay que borrarlo"
   ]
  },
  {
   "attachments": {},
   "cell_type": "markdown",
   "metadata": {},
   "source": [
    "## Datos Finales"
   ]
  },
  {
   "cell_type": "code",
   "execution_count": 13,
   "metadata": {},
   "outputs": [],
   "source": [
    "findfpr = ProfileReport(findf, title=\"Datos Finales - Profiling Report\")"
   ]
  },
  {
   "cell_type": "code",
   "execution_count": 14,
   "metadata": {},
   "outputs": [
    {
     "data": {
      "application/vnd.jupyter.widget-view+json": {
       "model_id": "5b175f3a3eeb4a78bda8cf7873317bda",
       "version_major": 2,
       "version_minor": 0
      },
      "text/plain": [
       "Summarize dataset:   0%|          | 0/5 [00:00<?, ?it/s]"
      ]
     },
     "metadata": {},
     "output_type": "display_data"
    },
    {
     "data": {
      "application/vnd.jupyter.widget-view+json": {
       "model_id": "f2be35bba4164a1bb2cd7f9481b1e422",
       "version_major": 2,
       "version_minor": 0
      },
      "text/plain": [
       "Generate report structure:   0%|          | 0/1 [00:00<?, ?it/s]"
      ]
     },
     "metadata": {},
     "output_type": "display_data"
    },
    {
     "data": {
      "application/vnd.jupyter.widget-view+json": {
       "model_id": "b3fa56c01f1b49c28a9aaf45d9b8f189",
       "version_major": 2,
       "version_minor": 0
      },
      "text/plain": [
       "Render HTML:   0%|          | 0/1 [00:00<?, ?it/s]"
      ]
     },
     "metadata": {},
     "output_type": "display_data"
    },
    {
     "data": {
      "application/vnd.jupyter.widget-view+json": {
       "model_id": "00987d0705e94ae6b9fe832fb4e1c41f",
       "version_major": 2,
       "version_minor": 0
      },
      "text/plain": [
       "Export report to file:   0%|          | 0/1 [00:00<?, ?it/s]"
      ]
     },
     "metadata": {},
     "output_type": "display_data"
    }
   ],
   "source": [
    "findfpr.to_file(\"reportes/Finales_ProfileReport.html\")"
   ]
  },
  {
   "attachments": {},
   "cell_type": "markdown",
   "metadata": {},
   "source": [
    "### Criterios basados en el análsis del dataset"
   ]
  },
  {
   "attachments": {},
   "cell_type": "markdown",
   "metadata": {},
   "source": [
    "* `codigo_alumno`\n",
    "    - id\n",
    "* `codigo_materia`\n",
    "    - decision -> `usar variable`\n",
    "    - no soportado\n",
    "    - analizar manual o cambiarlo para que lo tome la libreria\n",
    "* `anio_academico`\n",
    "    - decisión -> `usar variable`\n",
    "    - minimo 1972\n",
    "* `nota`\n",
    "    - decision -> `usar variable`\n",
    "    - tiene mezclado numeros y 'aprobado' etc\n",
    "        - hay que mejorar la variable para utilizarla -> hay otra variable `aprobado`. Hacer algo entre ambos.\n",
    "        - tomar un criterio para esos casos\n",
    "    - tiene missings\n",
    "        - puede ser que sean ausentes\n",
    "            - averiguar mejor analizando mas en profundidad los datos\n",
    "            - adoptar criterio\n",
    "* `aprobado`\n",
    "    - decision -> `verificar`\n",
    "    - tiene muchos missings\n",
    "    - pareceria ser muy parecida a la variable `nota`\n",
    "        - analizar bien la relacion entre ambas\n",
    "        - quizas se pueda utilizar una sola\n",
    "* `promociono`\n",
    "    - decision -> `verificar` \n",
    "    - no soportada\n",
    "        - analizar manualmente\n",
    "* `año_cursada`\n",
    "    - decision -> `usar variable pero verificar con el dataser de Cursadas`\n",
    "    - minimo 1997\n",
    "    - tiene 30% de missings\n",
    "\n",
    "---\n",
    "* `WARNING`\n",
    "    - Tiene filas duplicadas\n",
    "        - analizar bien que puede llegar a significar\n",
    "            - si es un error -> borrarlas\n",
    "            - intuision -> quizas si desaprobo o se ausento al final en el mismo año\n"
   ]
  },
  {
   "attachments": {},
   "cell_type": "markdown",
   "metadata": {},
   "source": [
    "# Cosas que habría que pedir de los datos"
   ]
  },
  {
   "attachments": {},
   "cell_type": "markdown",
   "metadata": {},
   "source": [
    "* `cursadas`\n",
    "    - el cuatrimestre de la cursada\n",
    "    - la o las notas de las cursadas\n",
    "    - claridad sobre la variable `tipo_de_aprobacion`\n"
   ]
  }
 ],
 "metadata": {
  "kernelspec": {
   "display_name": "Python 3.8.10 ('tesis-9WwmOtq2-py3.8')",
   "language": "python",
   "name": "python3"
  },
  "language_info": {
   "codemirror_mode": {
    "name": "ipython",
    "version": 3
   },
   "file_extension": ".py",
   "mimetype": "text/x-python",
   "name": "python",
   "nbconvert_exporter": "python",
   "pygments_lexer": "ipython3",
   "version": "3.9.4"
  },
  "orig_nbformat": 4,
  "vscode": {
   "interpreter": {
    "hash": "c1241d3ae1d9ef889cb983698819564df5bcd3d314d5bb2265dfbf272bfe2174"
   }
  }
 },
 "nbformat": 4,
 "nbformat_minor": 2
}
