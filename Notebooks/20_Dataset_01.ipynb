{
 "cells": [
  {
   "attachments": {},
   "cell_type": "markdown",
   "metadata": {},
   "source": [
    "# Universo / Target"
   ]
  },
  {
   "attachments": {},
   "cell_type": "markdown",
   "metadata": {},
   "source": [
    "## Definición de target\n",
    "\n",
    "Target = 1 cuando el alumno no curso ni rindió finales por 2 ciclos lectivos consecutivos\n",
    "\n",
    "## Dataset a armar\n",
    "\n",
    "ejemplo\n",
    "\n",
    "| Alumno | Ciclo | Target |\n",
    "| --- | --- | --- |\n",
    "| 1 | 2010 | 0 |\n",
    "| 1 | 2011 | 0 |\n",
    "| 1 | 2012 | 1 |\n",
    "| 1 | 2013 | 1 |\n",
    "| 2 | 2012 | 0 |\n",
    "| 2 | 2013 | 0 |\n",
    "| 2 | 2014 | 0 |\n",
    "| 2 | 2015 | 0 |\n",
    "\n",
    "- ciclo minimo es el año de ingreso del alumno\n",
    "- ciclo maximo es el año de egreso del alumno o del ultimo registro (cursadas o finales) + 2\n",
    "\n",
    "\n"
   ]
  },
  {
   "cell_type": "code",
   "execution_count": 2,
   "metadata": {},
   "outputs": [],
   "source": [
    "import pandas as pd\n",
    "import numpy as np"
   ]
  },
  {
   "cell_type": "code",
   "execution_count": 3,
   "metadata": {},
   "outputs": [
    {
     "name": "stderr",
     "output_type": "stream",
     "text": [
      "/Users/sjaremczuk/Library/Caches/pypoetry/virtualenvs/tesis-ds-polkNLC9-py3.9/lib/python3.9/site-packages/numba/core/decorators.py:262: NumbaDeprecationWarning: numba.generated_jit is deprecated. Please see the documentation at: https://numba.readthedocs.io/en/stable/reference/deprecation.html#deprecation-of-generated-jit for more information and advice on a suitable replacement.\n",
      "  warnings.warn(msg, NumbaDeprecationWarning)\n",
      "/Users/sjaremczuk/Library/Caches/pypoetry/virtualenvs/tesis-ds-polkNLC9-py3.9/lib/python3.9/site-packages/visions/backends/shared/nan_handling.py:51: NumbaDeprecationWarning: The 'nopython' keyword argument was not supplied to the 'numba.jit' decorator. The implicit default value for this argument is currently False, but it will be changed to True in Numba 0.59.0. See https://numba.readthedocs.io/en/stable/reference/deprecation.html#deprecation-of-object-mode-fall-back-behaviour-when-using-jit for details.\n",
      "  def hasna(x: np.ndarray) -> bool:\n"
     ]
    }
   ],
   "source": [
    "from ydata_profiling import ProfileReport"
   ]
  },
  {
   "attachments": {},
   "cell_type": "markdown",
   "metadata": {},
   "source": [
    "## Datos de entrada"
   ]
  },
  {
   "cell_type": "code",
   "execution_count": 28,
   "metadata": {},
   "outputs": [
    {
     "name": "stdout",
     "output_type": "stream",
     "text": [
      "cur shape:  (510290, 8)\n",
      "cur_comp shape:  (79565, 8)\n",
      "datdf shape:  (22157, 5)\n",
      "fin shape:  (475362, 7)\n"
     ]
    }
   ],
   "source": [
    "curdf = pd.read_pickle('../data/raw_cleaned/curdf_01.pkl')\n",
    "print('cur shape: ',curdf.shape)\n",
    "curdf_comp = pd.read_pickle('../data/raw_cleaned/curdf_complementario_01.pkl')\n",
    "print('cur_comp shape: ',curdf_comp.shape)\n",
    "datdf = pd.read_pickle('../data/raw_cleaned/datdf_01.pkl')\n",
    "print('datdf shape: ',datdf.shape)\n",
    "findf = pd.read_pickle('../data/raw_cleaned/findf_01.pkl')\n",
    "print('fin shape: ',findf.shape)"
   ]
  },
  {
   "attachments": {},
   "cell_type": "markdown",
   "metadata": {},
   "source": [
    "## Armar Dataset con datos de cursadas (base + complementario) y finales"
   ]
  },
  {
   "cell_type": "code",
   "execution_count": 5,
   "metadata": {},
   "outputs": [
    {
     "data": {
      "text/html": [
       "<div>\n",
       "<style scoped>\n",
       "    .dataframe tbody tr th:only-of-type {\n",
       "        vertical-align: middle;\n",
       "    }\n",
       "\n",
       "    .dataframe tbody tr th {\n",
       "        vertical-align: top;\n",
       "    }\n",
       "\n",
       "    .dataframe thead th {\n",
       "        text-align: right;\n",
       "    }\n",
       "</style>\n",
       "<table border=\"1\" class=\"dataframe\">\n",
       "  <thead>\n",
       "    <tr style=\"text-align: right;\">\n",
       "      <th></th>\n",
       "      <th>codigo_alumno</th>\n",
       "      <th>curso</th>\n",
       "      <th>codigo_materia</th>\n",
       "      <th>departamento</th>\n",
       "      <th>turno</th>\n",
       "      <th>ciclo_lectivo</th>\n",
       "      <th>cant_cursada</th>\n",
       "      <th>cant_total_cursadas</th>\n",
       "    </tr>\n",
       "  </thead>\n",
       "  <tbody>\n",
       "    <tr>\n",
       "      <th>4494</th>\n",
       "      <td>10035</td>\n",
       "      <td>K4153</td>\n",
       "      <td>950310</td>\n",
       "      <td>Unidad Docente Básica Legislación y Economía</td>\n",
       "      <td>Noche</td>\n",
       "      <td>2006.0</td>\n",
       "      <td>1.0</td>\n",
       "      <td>1</td>\n",
       "    </tr>\n",
       "    <tr>\n",
       "      <th>4497</th>\n",
       "      <td>10035</td>\n",
       "      <td>K3051</td>\n",
       "      <td>952028</td>\n",
       "      <td>NaN</td>\n",
       "      <td>Noche</td>\n",
       "      <td>2007.0</td>\n",
       "      <td>1.0</td>\n",
       "      <td>1</td>\n",
       "    </tr>\n",
       "    <tr>\n",
       "      <th>4492</th>\n",
       "      <td>10035</td>\n",
       "      <td>K3001</td>\n",
       "      <td>952030</td>\n",
       "      <td>NaN</td>\n",
       "      <td>Mañana</td>\n",
       "      <td>2006.0</td>\n",
       "      <td>1.0</td>\n",
       "      <td>1</td>\n",
       "    </tr>\n",
       "    <tr>\n",
       "      <th>4498</th>\n",
       "      <td>10035</td>\n",
       "      <td>K3071</td>\n",
       "      <td>952031</td>\n",
       "      <td>NaN</td>\n",
       "      <td>Noche</td>\n",
       "      <td>2007.0</td>\n",
       "      <td>1.0</td>\n",
       "      <td>1</td>\n",
       "    </tr>\n",
       "    <tr>\n",
       "      <th>4502</th>\n",
       "      <td>10035</td>\n",
       "      <td>K4051</td>\n",
       "      <td>952033</td>\n",
       "      <td>Departamento de Ing. en Sistemas de Información</td>\n",
       "      <td>Noche</td>\n",
       "      <td>2008.0</td>\n",
       "      <td>1.0</td>\n",
       "      <td>1</td>\n",
       "    </tr>\n",
       "  </tbody>\n",
       "</table>\n",
       "</div>"
      ],
      "text/plain": [
       "     codigo_alumno  curso codigo_materia  \\\n",
       "4494         10035  K4153         950310   \n",
       "4497         10035  K3051         952028   \n",
       "4492         10035  K3001         952030   \n",
       "4498         10035  K3071         952031   \n",
       "4502         10035  K4051         952033   \n",
       "\n",
       "                                         departamento   turno  ciclo_lectivo  \\\n",
       "4494     Unidad Docente Básica Legislación y Economía   Noche         2006.0   \n",
       "4497                                              NaN   Noche         2007.0   \n",
       "4492                                              NaN  Mañana         2006.0   \n",
       "4498                                              NaN   Noche         2007.0   \n",
       "4502  Departamento de Ing. en Sistemas de Información   Noche         2008.0   \n",
       "\n",
       "      cant_cursada  cant_total_cursadas  \n",
       "4494           1.0                    1  \n",
       "4497           1.0                    1  \n",
       "4492           1.0                    1  \n",
       "4498           1.0                    1  \n",
       "4502           1.0                    1  "
      ]
     },
     "execution_count": 5,
     "metadata": {},
     "output_type": "execute_result"
    }
   ],
   "source": [
    "cur = pd.concat([curdf,curdf_comp],axis=0)\n",
    "cur.head()"
   ]
  },
  {
   "cell_type": "code",
   "execution_count": 6,
   "metadata": {},
   "outputs": [
    {
     "data": {
      "text/plain": [
       "(589855, 8)"
      ]
     },
     "execution_count": 6,
     "metadata": {},
     "output_type": "execute_result"
    }
   ],
   "source": [
    "cur.shape"
   ]
  },
  {
   "cell_type": "code",
   "execution_count": 7,
   "metadata": {},
   "outputs": [
    {
     "data": {
      "text/html": [
       "<div>\n",
       "<style scoped>\n",
       "    .dataframe tbody tr th:only-of-type {\n",
       "        vertical-align: middle;\n",
       "    }\n",
       "\n",
       "    .dataframe tbody tr th {\n",
       "        vertical-align: top;\n",
       "    }\n",
       "\n",
       "    .dataframe thead th {\n",
       "        text-align: right;\n",
       "    }\n",
       "</style>\n",
       "<table border=\"1\" class=\"dataframe\">\n",
       "  <thead>\n",
       "    <tr style=\"text-align: right;\">\n",
       "      <th></th>\n",
       "      <th>codigo_alumno</th>\n",
       "      <th>curso</th>\n",
       "      <th>codigo_materia</th>\n",
       "      <th>departamento</th>\n",
       "      <th>turno</th>\n",
       "      <th>ciclo_lectivo</th>\n",
       "      <th>cant_cursada</th>\n",
       "      <th>cant_total_cursadas</th>\n",
       "    </tr>\n",
       "  </thead>\n",
       "  <tbody>\n",
       "    <tr>\n",
       "      <th>18038</th>\n",
       "      <td>9531</td>\n",
       "      <td>S/D</td>\n",
       "      <td>82060</td>\n",
       "      <td>S/D</td>\n",
       "      <td>S/D</td>\n",
       "      <td>2010.0</td>\n",
       "      <td>1.0</td>\n",
       "      <td>1</td>\n",
       "    </tr>\n",
       "    <tr>\n",
       "      <th>18039</th>\n",
       "      <td>9531</td>\n",
       "      <td>S/D</td>\n",
       "      <td>82062</td>\n",
       "      <td>S/D</td>\n",
       "      <td>S/D</td>\n",
       "      <td>2010.0</td>\n",
       "      <td>1.0</td>\n",
       "      <td>1</td>\n",
       "    </tr>\n",
       "    <tr>\n",
       "      <th>18085</th>\n",
       "      <td>9535</td>\n",
       "      <td>S/D</td>\n",
       "      <td>82036</td>\n",
       "      <td>S/D</td>\n",
       "      <td>S/D</td>\n",
       "      <td>2011.0</td>\n",
       "      <td>1.0</td>\n",
       "      <td>1</td>\n",
       "    </tr>\n",
       "    <tr>\n",
       "      <th>18839</th>\n",
       "      <td>9774</td>\n",
       "      <td>S/D</td>\n",
       "      <td>82025</td>\n",
       "      <td>S/D</td>\n",
       "      <td>S/D</td>\n",
       "      <td>2009.0</td>\n",
       "      <td>1.0</td>\n",
       "      <td>1</td>\n",
       "    </tr>\n",
       "    <tr>\n",
       "      <th>19551</th>\n",
       "      <td>9931</td>\n",
       "      <td>S/D</td>\n",
       "      <td>952072</td>\n",
       "      <td>S/D</td>\n",
       "      <td>S/D</td>\n",
       "      <td>2006.0</td>\n",
       "      <td>1.0</td>\n",
       "      <td>1</td>\n",
       "    </tr>\n",
       "  </tbody>\n",
       "</table>\n",
       "</div>"
      ],
      "text/plain": [
       "      codigo_alumno curso codigo_materia departamento turno  ciclo_lectivo  \\\n",
       "18038          9531   S/D          82060          S/D   S/D         2010.0   \n",
       "18039          9531   S/D          82062          S/D   S/D         2010.0   \n",
       "18085          9535   S/D          82036          S/D   S/D         2011.0   \n",
       "18839          9774   S/D          82025          S/D   S/D         2009.0   \n",
       "19551          9931   S/D         952072          S/D   S/D         2006.0   \n",
       "\n",
       "       cant_cursada  cant_total_cursadas  \n",
       "18038           1.0                    1  \n",
       "18039           1.0                    1  \n",
       "18085           1.0                    1  \n",
       "18839           1.0                    1  \n",
       "19551           1.0                    1  "
      ]
     },
     "execution_count": 7,
     "metadata": {},
     "output_type": "execute_result"
    }
   ],
   "source": [
    "cur.tail()"
   ]
  },
  {
   "cell_type": "code",
   "execution_count": 8,
   "metadata": {},
   "outputs": [
    {
     "data": {
      "text/html": [
       "<div>\n",
       "<style scoped>\n",
       "    .dataframe tbody tr th:only-of-type {\n",
       "        vertical-align: middle;\n",
       "    }\n",
       "\n",
       "    .dataframe tbody tr th {\n",
       "        vertical-align: top;\n",
       "    }\n",
       "\n",
       "    .dataframe thead th {\n",
       "        text-align: right;\n",
       "    }\n",
       "</style>\n",
       "<table border=\"1\" class=\"dataframe\">\n",
       "  <thead>\n",
       "    <tr style=\"text-align: right;\">\n",
       "      <th></th>\n",
       "      <th>codigo_alumno</th>\n",
       "      <th>codigo_materia</th>\n",
       "      <th>anio_academico</th>\n",
       "      <th>nota_num</th>\n",
       "      <th>nota_cual</th>\n",
       "      <th>nota_txt</th>\n",
       "      <th>cant_finales</th>\n",
       "    </tr>\n",
       "  </thead>\n",
       "  <tbody>\n",
       "    <tr>\n",
       "      <th>20181</th>\n",
       "      <td>10035</td>\n",
       "      <td>950309</td>\n",
       "      <td>2006.0</td>\n",
       "      <td>2.0</td>\n",
       "      <td>NaN</td>\n",
       "      <td>No Aprobada</td>\n",
       "      <td>1.0</td>\n",
       "    </tr>\n",
       "    <tr>\n",
       "      <th>20182</th>\n",
       "      <td>10035</td>\n",
       "      <td>950309</td>\n",
       "      <td>2006.0</td>\n",
       "      <td>4.0</td>\n",
       "      <td>NaN</td>\n",
       "      <td>Aprobada</td>\n",
       "      <td>2.0</td>\n",
       "    </tr>\n",
       "    <tr>\n",
       "      <th>20183</th>\n",
       "      <td>10035</td>\n",
       "      <td>950310</td>\n",
       "      <td>2006.0</td>\n",
       "      <td>7.0</td>\n",
       "      <td>NaN</td>\n",
       "      <td>Aprobada</td>\n",
       "      <td>1.0</td>\n",
       "    </tr>\n",
       "    <tr>\n",
       "      <th>20173</th>\n",
       "      <td>10035</td>\n",
       "      <td>950611</td>\n",
       "      <td>2004.0</td>\n",
       "      <td>4.0</td>\n",
       "      <td>NaN</td>\n",
       "      <td>Aprobada</td>\n",
       "      <td>1.0</td>\n",
       "    </tr>\n",
       "    <tr>\n",
       "      <th>20166</th>\n",
       "      <td>10035</td>\n",
       "      <td>950701</td>\n",
       "      <td>2003.0</td>\n",
       "      <td>4.0</td>\n",
       "      <td>NaN</td>\n",
       "      <td>Aprobada</td>\n",
       "      <td>1.0</td>\n",
       "    </tr>\n",
       "  </tbody>\n",
       "</table>\n",
       "</div>"
      ],
      "text/plain": [
       "      codigo_alumno codigo_materia  anio_academico  nota_num nota_cual  \\\n",
       "20181         10035         950309          2006.0       2.0       NaN   \n",
       "20182         10035         950309          2006.0       4.0       NaN   \n",
       "20183         10035         950310          2006.0       7.0       NaN   \n",
       "20173         10035         950611          2004.0       4.0       NaN   \n",
       "20166         10035         950701          2003.0       4.0       NaN   \n",
       "\n",
       "          nota_txt  cant_finales  \n",
       "20181  No Aprobada           1.0  \n",
       "20182     Aprobada           2.0  \n",
       "20183     Aprobada           1.0  \n",
       "20173     Aprobada           1.0  \n",
       "20166     Aprobada           1.0  "
      ]
     },
     "execution_count": 8,
     "metadata": {},
     "output_type": "execute_result"
    }
   ],
   "source": [
    "findf.head()"
   ]
  },
  {
   "cell_type": "code",
   "execution_count": 11,
   "metadata": {},
   "outputs": [],
   "source": [
    "df = pd.concat( \n",
    "    [cur[['codigo_alumno', 'ciclo_lectivo']].copy().drop_duplicates(), \n",
    "    findf[['codigo_alumno', 'anio_academico']].copy().drop_duplicates().rename(columns={'anio_academico':'ciclo_lectivo'})], axis=0). \\\n",
    "    drop_duplicates().sort_values(['codigo_alumno', 'ciclo_lectivo']).reset_index(drop=True)\n"
   ]
  },
  {
   "cell_type": "code",
   "execution_count": 12,
   "metadata": {},
   "outputs": [
    {
     "data": {
      "text/html": [
       "<div>\n",
       "<style scoped>\n",
       "    .dataframe tbody tr th:only-of-type {\n",
       "        vertical-align: middle;\n",
       "    }\n",
       "\n",
       "    .dataframe tbody tr th {\n",
       "        vertical-align: top;\n",
       "    }\n",
       "\n",
       "    .dataframe thead th {\n",
       "        text-align: right;\n",
       "    }\n",
       "</style>\n",
       "<table border=\"1\" class=\"dataframe\">\n",
       "  <thead>\n",
       "    <tr style=\"text-align: right;\">\n",
       "      <th></th>\n",
       "      <th>codigo_alumno</th>\n",
       "      <th>ciclo_lectivo</th>\n",
       "    </tr>\n",
       "  </thead>\n",
       "  <tbody>\n",
       "    <tr>\n",
       "      <th>0</th>\n",
       "      <td>10035</td>\n",
       "      <td>2002.0</td>\n",
       "    </tr>\n",
       "    <tr>\n",
       "      <th>1</th>\n",
       "      <td>10035</td>\n",
       "      <td>2003.0</td>\n",
       "    </tr>\n",
       "    <tr>\n",
       "      <th>2</th>\n",
       "      <td>10035</td>\n",
       "      <td>2004.0</td>\n",
       "    </tr>\n",
       "    <tr>\n",
       "      <th>3</th>\n",
       "      <td>10035</td>\n",
       "      <td>2005.0</td>\n",
       "    </tr>\n",
       "    <tr>\n",
       "      <th>4</th>\n",
       "      <td>10035</td>\n",
       "      <td>2006.0</td>\n",
       "    </tr>\n",
       "  </tbody>\n",
       "</table>\n",
       "</div>"
      ],
      "text/plain": [
       "  codigo_alumno  ciclo_lectivo\n",
       "0         10035         2002.0\n",
       "1         10035         2003.0\n",
       "2         10035         2004.0\n",
       "3         10035         2005.0\n",
       "4         10035         2006.0"
      ]
     },
     "execution_count": 12,
     "metadata": {},
     "output_type": "execute_result"
    }
   ],
   "source": [
    "df.head()"
   ]
  },
  {
   "cell_type": "code",
   "execution_count": 13,
   "metadata": {},
   "outputs": [
    {
     "data": {
      "text/plain": [
       "(147536, 2)"
      ]
     },
     "execution_count": 13,
     "metadata": {},
     "output_type": "execute_result"
    }
   ],
   "source": [
    "df.shape"
   ]
  },
  {
   "cell_type": "code",
   "execution_count": 14,
   "metadata": {},
   "outputs": [
    {
     "data": {
      "text/plain": [
       "0"
      ]
     },
     "execution_count": 14,
     "metadata": {},
     "output_type": "execute_result"
    }
   ],
   "source": [
    "df.duplicated().sum()"
   ]
  },
  {
   "cell_type": "code",
   "execution_count": 16,
   "metadata": {},
   "outputs": [
    {
     "data": {
      "text/html": [
       "<div>\n",
       "<style scoped>\n",
       "    .dataframe tbody tr th:only-of-type {\n",
       "        vertical-align: middle;\n",
       "    }\n",
       "\n",
       "    .dataframe tbody tr th {\n",
       "        vertical-align: top;\n",
       "    }\n",
       "\n",
       "    .dataframe thead th {\n",
       "        text-align: right;\n",
       "    }\n",
       "</style>\n",
       "<table border=\"1\" class=\"dataframe\">\n",
       "  <thead>\n",
       "    <tr style=\"text-align: right;\">\n",
       "      <th></th>\n",
       "      <th>codigo_alumno</th>\n",
       "      <th>sexo</th>\n",
       "      <th>anio_nacimiento</th>\n",
       "      <th>anio_ingreso</th>\n",
       "      <th>codigo_carrera_ingreso</th>\n",
       "    </tr>\n",
       "  </thead>\n",
       "  <tbody>\n",
       "    <tr>\n",
       "      <th>0</th>\n",
       "      <td>27</td>\n",
       "      <td>M</td>\n",
       "      <td>1974</td>\n",
       "      <td>1993</td>\n",
       "      <td>K</td>\n",
       "    </tr>\n",
       "    <tr>\n",
       "      <th>1</th>\n",
       "      <td>53</td>\n",
       "      <td>M</td>\n",
       "      <td>1974</td>\n",
       "      <td>1999</td>\n",
       "      <td>K</td>\n",
       "    </tr>\n",
       "    <tr>\n",
       "      <th>2</th>\n",
       "      <td>58</td>\n",
       "      <td>M</td>\n",
       "      <td>1974</td>\n",
       "      <td>1995</td>\n",
       "      <td>K</td>\n",
       "    </tr>\n",
       "    <tr>\n",
       "      <th>3</th>\n",
       "      <td>72</td>\n",
       "      <td>M</td>\n",
       "      <td>1974</td>\n",
       "      <td>1995</td>\n",
       "      <td>K</td>\n",
       "    </tr>\n",
       "    <tr>\n",
       "      <th>4</th>\n",
       "      <td>86</td>\n",
       "      <td>M</td>\n",
       "      <td>1974</td>\n",
       "      <td>1999</td>\n",
       "      <td>K</td>\n",
       "    </tr>\n",
       "  </tbody>\n",
       "</table>\n",
       "</div>"
      ],
      "text/plain": [
       "  codigo_alumno sexo  anio_nacimiento  anio_ingreso codigo_carrera_ingreso\n",
       "0            27    M             1974          1993                      K\n",
       "1            53    M             1974          1999                      K\n",
       "2            58    M             1974          1995                      K\n",
       "3            72    M             1974          1995                      K\n",
       "4            86    M             1974          1999                      K"
      ]
     },
     "execution_count": 16,
     "metadata": {},
     "output_type": "execute_result"
    }
   ],
   "source": [
    "# traigo el año de ingreso para cada alumno\n",
    "\n",
    "datdf.head()"
   ]
  },
  {
   "cell_type": "code",
   "execution_count": 17,
   "metadata": {},
   "outputs": [
    {
     "data": {
      "text/html": [
       "<div>\n",
       "<style scoped>\n",
       "    .dataframe tbody tr th:only-of-type {\n",
       "        vertical-align: middle;\n",
       "    }\n",
       "\n",
       "    .dataframe tbody tr th {\n",
       "        vertical-align: top;\n",
       "    }\n",
       "\n",
       "    .dataframe thead th {\n",
       "        text-align: right;\n",
       "    }\n",
       "</style>\n",
       "<table border=\"1\" class=\"dataframe\">\n",
       "  <thead>\n",
       "    <tr style=\"text-align: right;\">\n",
       "      <th></th>\n",
       "      <th>codigo_alumno</th>\n",
       "      <th>ciclo_lectivo</th>\n",
       "      <th>anio_ingreso</th>\n",
       "    </tr>\n",
       "  </thead>\n",
       "  <tbody>\n",
       "    <tr>\n",
       "      <th>0</th>\n",
       "      <td>10035</td>\n",
       "      <td>2002.0</td>\n",
       "      <td>2002</td>\n",
       "    </tr>\n",
       "    <tr>\n",
       "      <th>1</th>\n",
       "      <td>10035</td>\n",
       "      <td>2003.0</td>\n",
       "      <td>2002</td>\n",
       "    </tr>\n",
       "    <tr>\n",
       "      <th>2</th>\n",
       "      <td>10035</td>\n",
       "      <td>2004.0</td>\n",
       "      <td>2002</td>\n",
       "    </tr>\n",
       "    <tr>\n",
       "      <th>3</th>\n",
       "      <td>10035</td>\n",
       "      <td>2005.0</td>\n",
       "      <td>2002</td>\n",
       "    </tr>\n",
       "    <tr>\n",
       "      <th>4</th>\n",
       "      <td>10035</td>\n",
       "      <td>2006.0</td>\n",
       "      <td>2002</td>\n",
       "    </tr>\n",
       "  </tbody>\n",
       "</table>\n",
       "</div>"
      ],
      "text/plain": [
       "  codigo_alumno  ciclo_lectivo  anio_ingreso\n",
       "0         10035         2002.0          2002\n",
       "1         10035         2003.0          2002\n",
       "2         10035         2004.0          2002\n",
       "3         10035         2005.0          2002\n",
       "4         10035         2006.0          2002"
      ]
     },
     "execution_count": 17,
     "metadata": {},
     "output_type": "execute_result"
    }
   ],
   "source": [
    "aux = datdf[['codigo_alumno', 'anio_ingreso']].drop_duplicates().copy()\n",
    "\n",
    "df = pd.merge(df, aux, on='codigo_alumno', how='left')\n",
    "\n",
    "df.head()"
   ]
  },
  {
   "cell_type": "code",
   "execution_count": 18,
   "metadata": {},
   "outputs": [
    {
     "data": {
      "text/plain": [
       "(147536, 3)"
      ]
     },
     "execution_count": 18,
     "metadata": {},
     "output_type": "execute_result"
    }
   ],
   "source": [
    "df.shape"
   ]
  },
  {
   "cell_type": "code",
   "execution_count": 21,
   "metadata": {},
   "outputs": [
    {
     "data": {
      "text/html": [
       "<div>\n",
       "<style scoped>\n",
       "    .dataframe tbody tr th:only-of-type {\n",
       "        vertical-align: middle;\n",
       "    }\n",
       "\n",
       "    .dataframe tbody tr th {\n",
       "        vertical-align: top;\n",
       "    }\n",
       "\n",
       "    .dataframe thead th {\n",
       "        text-align: right;\n",
       "    }\n",
       "</style>\n",
       "<table border=\"1\" class=\"dataframe\">\n",
       "  <thead>\n",
       "    <tr style=\"text-align: right;\">\n",
       "      <th></th>\n",
       "      <th>codigo_alumno</th>\n",
       "      <th>ciclo_lectivo</th>\n",
       "      <th>anio_ingreso</th>\n",
       "      <th>delta_ciclo_lectivo</th>\n",
       "    </tr>\n",
       "  </thead>\n",
       "  <tbody>\n",
       "    <tr>\n",
       "      <th>0</th>\n",
       "      <td>10035</td>\n",
       "      <td>2002.0</td>\n",
       "      <td>2002</td>\n",
       "      <td>NaN</td>\n",
       "    </tr>\n",
       "    <tr>\n",
       "      <th>1</th>\n",
       "      <td>10035</td>\n",
       "      <td>2003.0</td>\n",
       "      <td>2002</td>\n",
       "      <td>1.0</td>\n",
       "    </tr>\n",
       "    <tr>\n",
       "      <th>2</th>\n",
       "      <td>10035</td>\n",
       "      <td>2004.0</td>\n",
       "      <td>2002</td>\n",
       "      <td>1.0</td>\n",
       "    </tr>\n",
       "    <tr>\n",
       "      <th>3</th>\n",
       "      <td>10035</td>\n",
       "      <td>2005.0</td>\n",
       "      <td>2002</td>\n",
       "      <td>1.0</td>\n",
       "    </tr>\n",
       "    <tr>\n",
       "      <th>4</th>\n",
       "      <td>10035</td>\n",
       "      <td>2006.0</td>\n",
       "      <td>2002</td>\n",
       "      <td>1.0</td>\n",
       "    </tr>\n",
       "    <tr>\n",
       "      <th>5</th>\n",
       "      <td>10035</td>\n",
       "      <td>2007.0</td>\n",
       "      <td>2002</td>\n",
       "      <td>1.0</td>\n",
       "    </tr>\n",
       "    <tr>\n",
       "      <th>6</th>\n",
       "      <td>10035</td>\n",
       "      <td>2008.0</td>\n",
       "      <td>2002</td>\n",
       "      <td>1.0</td>\n",
       "    </tr>\n",
       "    <tr>\n",
       "      <th>7</th>\n",
       "      <td>10035</td>\n",
       "      <td>2009.0</td>\n",
       "      <td>2002</td>\n",
       "      <td>1.0</td>\n",
       "    </tr>\n",
       "    <tr>\n",
       "      <th>8</th>\n",
       "      <td>10036</td>\n",
       "      <td>2003.0</td>\n",
       "      <td>2003</td>\n",
       "      <td>NaN</td>\n",
       "    </tr>\n",
       "    <tr>\n",
       "      <th>9</th>\n",
       "      <td>10036</td>\n",
       "      <td>2004.0</td>\n",
       "      <td>2003</td>\n",
       "      <td>1.0</td>\n",
       "    </tr>\n",
       "    <tr>\n",
       "      <th>10</th>\n",
       "      <td>10036</td>\n",
       "      <td>2007.0</td>\n",
       "      <td>2003</td>\n",
       "      <td>3.0</td>\n",
       "    </tr>\n",
       "    <tr>\n",
       "      <th>11</th>\n",
       "      <td>10039</td>\n",
       "      <td>2000.0</td>\n",
       "      <td>2000</td>\n",
       "      <td>NaN</td>\n",
       "    </tr>\n",
       "    <tr>\n",
       "      <th>12</th>\n",
       "      <td>10039</td>\n",
       "      <td>2001.0</td>\n",
       "      <td>2000</td>\n",
       "      <td>1.0</td>\n",
       "    </tr>\n",
       "    <tr>\n",
       "      <th>13</th>\n",
       "      <td>10039</td>\n",
       "      <td>2002.0</td>\n",
       "      <td>2000</td>\n",
       "      <td>1.0</td>\n",
       "    </tr>\n",
       "    <tr>\n",
       "      <th>14</th>\n",
       "      <td>10039</td>\n",
       "      <td>2003.0</td>\n",
       "      <td>2000</td>\n",
       "      <td>1.0</td>\n",
       "    </tr>\n",
       "    <tr>\n",
       "      <th>15</th>\n",
       "      <td>10039</td>\n",
       "      <td>2004.0</td>\n",
       "      <td>2000</td>\n",
       "      <td>1.0</td>\n",
       "    </tr>\n",
       "    <tr>\n",
       "      <th>16</th>\n",
       "      <td>10039</td>\n",
       "      <td>2005.0</td>\n",
       "      <td>2000</td>\n",
       "      <td>1.0</td>\n",
       "    </tr>\n",
       "    <tr>\n",
       "      <th>17</th>\n",
       "      <td>10039</td>\n",
       "      <td>2006.0</td>\n",
       "      <td>2000</td>\n",
       "      <td>1.0</td>\n",
       "    </tr>\n",
       "    <tr>\n",
       "      <th>18</th>\n",
       "      <td>10039</td>\n",
       "      <td>2007.0</td>\n",
       "      <td>2000</td>\n",
       "      <td>1.0</td>\n",
       "    </tr>\n",
       "    <tr>\n",
       "      <th>19</th>\n",
       "      <td>10042</td>\n",
       "      <td>2000.0</td>\n",
       "      <td>2000</td>\n",
       "      <td>NaN</td>\n",
       "    </tr>\n",
       "  </tbody>\n",
       "</table>\n",
       "</div>"
      ],
      "text/plain": [
       "   codigo_alumno  ciclo_lectivo  anio_ingreso  delta_ciclo_lectivo\n",
       "0          10035         2002.0          2002                  NaN\n",
       "1          10035         2003.0          2002                  1.0\n",
       "2          10035         2004.0          2002                  1.0\n",
       "3          10035         2005.0          2002                  1.0\n",
       "4          10035         2006.0          2002                  1.0\n",
       "5          10035         2007.0          2002                  1.0\n",
       "6          10035         2008.0          2002                  1.0\n",
       "7          10035         2009.0          2002                  1.0\n",
       "8          10036         2003.0          2003                  NaN\n",
       "9          10036         2004.0          2003                  1.0\n",
       "10         10036         2007.0          2003                  3.0\n",
       "11         10039         2000.0          2000                  NaN\n",
       "12         10039         2001.0          2000                  1.0\n",
       "13         10039         2002.0          2000                  1.0\n",
       "14         10039         2003.0          2000                  1.0\n",
       "15         10039         2004.0          2000                  1.0\n",
       "16         10039         2005.0          2000                  1.0\n",
       "17         10039         2006.0          2000                  1.0\n",
       "18         10039         2007.0          2000                  1.0\n",
       "19         10042         2000.0          2000                  NaN"
      ]
     },
     "execution_count": 21,
     "metadata": {},
     "output_type": "execute_result"
    }
   ],
   "source": [
    "# calcular el tiempo que pasa entre un ciclo lectivo y el siguiente para un mismo alumno\n",
    "aux = df.copy()\n",
    "aux['delta_ciclo_lectivo'] = aux.groupby('codigo_alumno')['ciclo_lectivo'].transform(lambda x: x - x.shift(1))\n",
    "aux.head(20)"
   ]
  },
  {
   "cell_type": "code",
   "execution_count": 24,
   "metadata": {},
   "outputs": [
    {
     "data": {
      "text/plain": [
       "False    144245\n",
       "True       3291\n",
       "Name: delta_ciclo_lectivo, dtype: int64"
      ]
     },
     "execution_count": 24,
     "metadata": {},
     "output_type": "execute_result"
    }
   ],
   "source": [
    "(aux.delta_ciclo_lectivo > 2).value_counts()"
   ]
  },
  {
   "cell_type": "code",
   "execution_count": 25,
   "metadata": {},
   "outputs": [
    {
     "data": {
      "text/plain": [
       "0.02281534888557662"
      ]
     },
     "execution_count": 25,
     "metadata": {},
     "output_type": "execute_result"
    }
   ],
   "source": [
    "3291/144245"
   ]
  },
  {
   "attachments": {},
   "cell_type": "markdown",
   "metadata": {},
   "source": [
    "### conclusión\n",
    "\n",
    "tenemos un 2,28% de desertores\n",
    "\n",
    "dataset desbalanceado\n"
   ]
  },
  {
   "attachments": {},
   "cell_type": "markdown",
   "metadata": {},
   "source": [
    "## Armar Dataset con datos de cursadas (base) y finales"
   ]
  },
  {
   "cell_type": "code",
   "execution_count": 41,
   "metadata": {},
   "outputs": [],
   "source": [
    "df = pd.concat( \n",
    "    [curdf[['codigo_alumno', 'ciclo_lectivo']].copy().drop_duplicates(), \n",
    "    findf[['codigo_alumno', 'anio_academico']].copy().drop_duplicates().rename(columns={'anio_academico':'ciclo_lectivo'})], axis=0). \\\n",
    "    drop_duplicates().sort_values(['codigo_alumno', 'ciclo_lectivo']).reset_index(drop=True)\n"
   ]
  },
  {
   "cell_type": "code",
   "execution_count": 42,
   "metadata": {},
   "outputs": [
    {
     "data": {
      "text/plain": [
       "(147536, 2)"
      ]
     },
     "execution_count": 42,
     "metadata": {},
     "output_type": "execute_result"
    }
   ],
   "source": [
    "df.shape"
   ]
  },
  {
   "cell_type": "code",
   "execution_count": 43,
   "metadata": {},
   "outputs": [
    {
     "data": {
      "text/html": [
       "<div>\n",
       "<style scoped>\n",
       "    .dataframe tbody tr th:only-of-type {\n",
       "        vertical-align: middle;\n",
       "    }\n",
       "\n",
       "    .dataframe tbody tr th {\n",
       "        vertical-align: top;\n",
       "    }\n",
       "\n",
       "    .dataframe thead th {\n",
       "        text-align: right;\n",
       "    }\n",
       "</style>\n",
       "<table border=\"1\" class=\"dataframe\">\n",
       "  <thead>\n",
       "    <tr style=\"text-align: right;\">\n",
       "      <th></th>\n",
       "      <th>codigo_alumno</th>\n",
       "      <th>ciclo_lectivo</th>\n",
       "      <th>delta_ciclo_lectivo</th>\n",
       "    </tr>\n",
       "  </thead>\n",
       "  <tbody>\n",
       "    <tr>\n",
       "      <th>0</th>\n",
       "      <td>10035</td>\n",
       "      <td>2002.0</td>\n",
       "      <td>NaN</td>\n",
       "    </tr>\n",
       "    <tr>\n",
       "      <th>1</th>\n",
       "      <td>10035</td>\n",
       "      <td>2003.0</td>\n",
       "      <td>1.0</td>\n",
       "    </tr>\n",
       "    <tr>\n",
       "      <th>2</th>\n",
       "      <td>10035</td>\n",
       "      <td>2004.0</td>\n",
       "      <td>1.0</td>\n",
       "    </tr>\n",
       "    <tr>\n",
       "      <th>3</th>\n",
       "      <td>10035</td>\n",
       "      <td>2005.0</td>\n",
       "      <td>1.0</td>\n",
       "    </tr>\n",
       "    <tr>\n",
       "      <th>4</th>\n",
       "      <td>10035</td>\n",
       "      <td>2006.0</td>\n",
       "      <td>1.0</td>\n",
       "    </tr>\n",
       "    <tr>\n",
       "      <th>5</th>\n",
       "      <td>10035</td>\n",
       "      <td>2007.0</td>\n",
       "      <td>1.0</td>\n",
       "    </tr>\n",
       "    <tr>\n",
       "      <th>6</th>\n",
       "      <td>10035</td>\n",
       "      <td>2008.0</td>\n",
       "      <td>1.0</td>\n",
       "    </tr>\n",
       "    <tr>\n",
       "      <th>7</th>\n",
       "      <td>10035</td>\n",
       "      <td>2009.0</td>\n",
       "      <td>1.0</td>\n",
       "    </tr>\n",
       "    <tr>\n",
       "      <th>8</th>\n",
       "      <td>10036</td>\n",
       "      <td>2003.0</td>\n",
       "      <td>NaN</td>\n",
       "    </tr>\n",
       "    <tr>\n",
       "      <th>9</th>\n",
       "      <td>10036</td>\n",
       "      <td>2004.0</td>\n",
       "      <td>1.0</td>\n",
       "    </tr>\n",
       "    <tr>\n",
       "      <th>10</th>\n",
       "      <td>10036</td>\n",
       "      <td>2007.0</td>\n",
       "      <td>3.0</td>\n",
       "    </tr>\n",
       "    <tr>\n",
       "      <th>11</th>\n",
       "      <td>10039</td>\n",
       "      <td>2000.0</td>\n",
       "      <td>NaN</td>\n",
       "    </tr>\n",
       "    <tr>\n",
       "      <th>12</th>\n",
       "      <td>10039</td>\n",
       "      <td>2001.0</td>\n",
       "      <td>1.0</td>\n",
       "    </tr>\n",
       "    <tr>\n",
       "      <th>13</th>\n",
       "      <td>10039</td>\n",
       "      <td>2002.0</td>\n",
       "      <td>1.0</td>\n",
       "    </tr>\n",
       "    <tr>\n",
       "      <th>14</th>\n",
       "      <td>10039</td>\n",
       "      <td>2003.0</td>\n",
       "      <td>1.0</td>\n",
       "    </tr>\n",
       "    <tr>\n",
       "      <th>15</th>\n",
       "      <td>10039</td>\n",
       "      <td>2004.0</td>\n",
       "      <td>1.0</td>\n",
       "    </tr>\n",
       "    <tr>\n",
       "      <th>16</th>\n",
       "      <td>10039</td>\n",
       "      <td>2005.0</td>\n",
       "      <td>1.0</td>\n",
       "    </tr>\n",
       "    <tr>\n",
       "      <th>17</th>\n",
       "      <td>10039</td>\n",
       "      <td>2006.0</td>\n",
       "      <td>1.0</td>\n",
       "    </tr>\n",
       "    <tr>\n",
       "      <th>18</th>\n",
       "      <td>10039</td>\n",
       "      <td>2007.0</td>\n",
       "      <td>1.0</td>\n",
       "    </tr>\n",
       "    <tr>\n",
       "      <th>19</th>\n",
       "      <td>10042</td>\n",
       "      <td>2000.0</td>\n",
       "      <td>NaN</td>\n",
       "    </tr>\n",
       "  </tbody>\n",
       "</table>\n",
       "</div>"
      ],
      "text/plain": [
       "   codigo_alumno  ciclo_lectivo  delta_ciclo_lectivo\n",
       "0          10035         2002.0                  NaN\n",
       "1          10035         2003.0                  1.0\n",
       "2          10035         2004.0                  1.0\n",
       "3          10035         2005.0                  1.0\n",
       "4          10035         2006.0                  1.0\n",
       "5          10035         2007.0                  1.0\n",
       "6          10035         2008.0                  1.0\n",
       "7          10035         2009.0                  1.0\n",
       "8          10036         2003.0                  NaN\n",
       "9          10036         2004.0                  1.0\n",
       "10         10036         2007.0                  3.0\n",
       "11         10039         2000.0                  NaN\n",
       "12         10039         2001.0                  1.0\n",
       "13         10039         2002.0                  1.0\n",
       "14         10039         2003.0                  1.0\n",
       "15         10039         2004.0                  1.0\n",
       "16         10039         2005.0                  1.0\n",
       "17         10039         2006.0                  1.0\n",
       "18         10039         2007.0                  1.0\n",
       "19         10042         2000.0                  NaN"
      ]
     },
     "execution_count": 43,
     "metadata": {},
     "output_type": "execute_result"
    }
   ],
   "source": [
    "# calcular el tiempo que pasa entre un ciclo lectivo y el siguiente para un mismo alumno\n",
    "aux = df.copy()\n",
    "aux['delta_ciclo_lectivo'] = aux.groupby('codigo_alumno')['ciclo_lectivo'].transform(lambda x: x - x.shift(1))\n",
    "aux.head(20)"
   ]
  },
  {
   "cell_type": "code",
   "execution_count": 48,
   "metadata": {},
   "outputs": [
    {
     "data": {
      "text/plain": [
       "False    144245\n",
       "True       3291\n",
       "Name: delta_ciclo_lectivo, dtype: int64"
      ]
     },
     "execution_count": 48,
     "metadata": {},
     "output_type": "execute_result"
    }
   ],
   "source": [
    "(aux.delta_ciclo_lectivo > 2).value_counts()"
   ]
  },
  {
   "attachments": {},
   "cell_type": "markdown",
   "metadata": {},
   "source": [
    "### conclusion\n",
    "\n",
    "da la misma proporcion usando o no las cursadas complementarias"
   ]
  },
  {
   "attachments": {},
   "cell_type": "markdown",
   "metadata": {},
   "source": [
    "## Análsis de dataset si se hace a nivel alumno"
   ]
  },
  {
   "attachments": {},
   "cell_type": "markdown",
   "metadata": {},
   "source": [
    "### Contemplando solo el ultimo ciclo"
   ]
  },
  {
   "cell_type": "code",
   "execution_count": 50,
   "metadata": {},
   "outputs": [],
   "source": [
    "# agrupar aux por alumno y filtrar fila con maximo ciclo lectivo\n",
    "aux_alumno = aux.sort_values(['codigo_alumno', 'ciclo_lectivo']).groupby('codigo_alumno').last().reset_index().copy()"
   ]
  },
  {
   "cell_type": "code",
   "execution_count": 51,
   "metadata": {},
   "outputs": [
    {
     "data": {
      "text/html": [
       "<div>\n",
       "<style scoped>\n",
       "    .dataframe tbody tr th:only-of-type {\n",
       "        vertical-align: middle;\n",
       "    }\n",
       "\n",
       "    .dataframe tbody tr th {\n",
       "        vertical-align: top;\n",
       "    }\n",
       "\n",
       "    .dataframe thead th {\n",
       "        text-align: right;\n",
       "    }\n",
       "</style>\n",
       "<table border=\"1\" class=\"dataframe\">\n",
       "  <thead>\n",
       "    <tr style=\"text-align: right;\">\n",
       "      <th></th>\n",
       "      <th>codigo_alumno</th>\n",
       "      <th>ciclo_lectivo</th>\n",
       "      <th>delta_ciclo_lectivo</th>\n",
       "    </tr>\n",
       "  </thead>\n",
       "  <tbody>\n",
       "    <tr>\n",
       "      <th>0</th>\n",
       "      <td>10035</td>\n",
       "      <td>2009.0</td>\n",
       "      <td>1.0</td>\n",
       "    </tr>\n",
       "    <tr>\n",
       "      <th>1</th>\n",
       "      <td>10036</td>\n",
       "      <td>2007.0</td>\n",
       "      <td>3.0</td>\n",
       "    </tr>\n",
       "    <tr>\n",
       "      <th>2</th>\n",
       "      <td>10039</td>\n",
       "      <td>2007.0</td>\n",
       "      <td>1.0</td>\n",
       "    </tr>\n",
       "    <tr>\n",
       "      <th>3</th>\n",
       "      <td>10042</td>\n",
       "      <td>2008.0</td>\n",
       "      <td>1.0</td>\n",
       "    </tr>\n",
       "    <tr>\n",
       "      <th>4</th>\n",
       "      <td>10044</td>\n",
       "      <td>2007.0</td>\n",
       "      <td>1.0</td>\n",
       "    </tr>\n",
       "  </tbody>\n",
       "</table>\n",
       "</div>"
      ],
      "text/plain": [
       "  codigo_alumno  ciclo_lectivo  delta_ciclo_lectivo\n",
       "0         10035         2009.0                  1.0\n",
       "1         10036         2007.0                  3.0\n",
       "2         10039         2007.0                  1.0\n",
       "3         10042         2008.0                  1.0\n",
       "4         10044         2007.0                  1.0"
      ]
     },
     "execution_count": 51,
     "metadata": {},
     "output_type": "execute_result"
    }
   ],
   "source": [
    "aux_alumno.head()"
   ]
  },
  {
   "cell_type": "code",
   "execution_count": 52,
   "metadata": {},
   "outputs": [
    {
     "data": {
      "text/plain": [
       "False    20919\n",
       "True      1238\n",
       "Name: delta_ciclo_lectivo, dtype: int64"
      ]
     },
     "execution_count": 52,
     "metadata": {},
     "output_type": "execute_result"
    }
   ],
   "source": [
    "\n",
    "(aux_alumno.delta_ciclo_lectivo > 2).value_counts()"
   ]
  },
  {
   "cell_type": "code",
   "execution_count": 53,
   "metadata": {},
   "outputs": [
    {
     "data": {
      "text/plain": [
       "0.05918064917061045"
      ]
     },
     "execution_count": 53,
     "metadata": {},
     "output_type": "execute_result"
    }
   ],
   "source": [
    "1238/20919"
   ]
  },
  {
   "attachments": {},
   "cell_type": "markdown",
   "metadata": {},
   "source": [
    "#### conclusión\n",
    "\n",
    "si se hace a nivel alumno tenemos un desbalance del 6%\n"
   ]
  },
  {
   "attachments": {},
   "cell_type": "markdown",
   "metadata": {},
   "source": [
    "### Contemplando si alguna vez desertó a pensar de que despues retomó"
   ]
  },
  {
   "cell_type": "code",
   "execution_count": 54,
   "metadata": {},
   "outputs": [],
   "source": [
    "# agrupar aux por alumno y quedarme con el máximo valor de delta_ciclo_lectivo\n",
    "aux_alumno = aux.sort_values(['codigo_alumno', 'ciclo_lectivo']).groupby('codigo_alumno').max().reset_index().copy()"
   ]
  },
  {
   "cell_type": "code",
   "execution_count": 55,
   "metadata": {},
   "outputs": [
    {
     "data": {
      "text/html": [
       "<div>\n",
       "<style scoped>\n",
       "    .dataframe tbody tr th:only-of-type {\n",
       "        vertical-align: middle;\n",
       "    }\n",
       "\n",
       "    .dataframe tbody tr th {\n",
       "        vertical-align: top;\n",
       "    }\n",
       "\n",
       "    .dataframe thead th {\n",
       "        text-align: right;\n",
       "    }\n",
       "</style>\n",
       "<table border=\"1\" class=\"dataframe\">\n",
       "  <thead>\n",
       "    <tr style=\"text-align: right;\">\n",
       "      <th></th>\n",
       "      <th>codigo_alumno</th>\n",
       "      <th>ciclo_lectivo</th>\n",
       "      <th>delta_ciclo_lectivo</th>\n",
       "    </tr>\n",
       "  </thead>\n",
       "  <tbody>\n",
       "    <tr>\n",
       "      <th>0</th>\n",
       "      <td>10035</td>\n",
       "      <td>2009.0</td>\n",
       "      <td>1.0</td>\n",
       "    </tr>\n",
       "    <tr>\n",
       "      <th>1</th>\n",
       "      <td>10036</td>\n",
       "      <td>2007.0</td>\n",
       "      <td>3.0</td>\n",
       "    </tr>\n",
       "    <tr>\n",
       "      <th>2</th>\n",
       "      <td>10039</td>\n",
       "      <td>2007.0</td>\n",
       "      <td>1.0</td>\n",
       "    </tr>\n",
       "    <tr>\n",
       "      <th>3</th>\n",
       "      <td>10042</td>\n",
       "      <td>2008.0</td>\n",
       "      <td>1.0</td>\n",
       "    </tr>\n",
       "    <tr>\n",
       "      <th>4</th>\n",
       "      <td>10044</td>\n",
       "      <td>2007.0</td>\n",
       "      <td>1.0</td>\n",
       "    </tr>\n",
       "  </tbody>\n",
       "</table>\n",
       "</div>"
      ],
      "text/plain": [
       "  codigo_alumno  ciclo_lectivo  delta_ciclo_lectivo\n",
       "0         10035         2009.0                  1.0\n",
       "1         10036         2007.0                  3.0\n",
       "2         10039         2007.0                  1.0\n",
       "3         10042         2008.0                  1.0\n",
       "4         10044         2007.0                  1.0"
      ]
     },
     "execution_count": 55,
     "metadata": {},
     "output_type": "execute_result"
    }
   ],
   "source": [
    "aux_alumno.head()"
   ]
  },
  {
   "cell_type": "code",
   "execution_count": 56,
   "metadata": {},
   "outputs": [
    {
     "data": {
      "text/plain": [
       "False    19388\n",
       "True      2769\n",
       "Name: delta_ciclo_lectivo, dtype: int64"
      ]
     },
     "execution_count": 56,
     "metadata": {},
     "output_type": "execute_result"
    }
   ],
   "source": [
    "\n",
    "(aux_alumno.delta_ciclo_lectivo > 2).value_counts()"
   ]
  },
  {
   "cell_type": "code",
   "execution_count": 57,
   "metadata": {},
   "outputs": [
    {
     "data": {
      "text/plain": [
       "0.14282030121724779"
      ]
     },
     "execution_count": 57,
     "metadata": {},
     "output_type": "execute_result"
    }
   ],
   "source": [
    "2769/19388"
   ]
  },
  {
   "attachments": {},
   "cell_type": "markdown",
   "metadata": {},
   "source": [
    "#### conclusión\n",
    "\n",
    "- si se considera si desertó al menos una vez a pesar de que dsps retomó el desbalance es del 14,3%"
   ]
  },
  {
   "attachments": {},
   "cell_type": "markdown",
   "metadata": {},
   "source": [
    "# Nexts steps\n",
    "\n",
    "1. por ahora no se contempla si un alumno regular abandona repentinamente la carrera xq al no haber registro siguiente, no se sabe si es un abandono y no se registra\n",
    "\n",
    "2. en la condicion 1, hay q tener en cuenta que el alumno no haya terminado la carrera porque sería un falso desertor (en algunas carreras es obligatorio terminar con la materia proyecto final y en otras no. averiguar)"
   ]
  },
  {
   "attachments": {},
   "cell_type": "markdown",
   "metadata": {},
   "source": [
    "# Analisis de distribución de carreras"
   ]
  },
  {
   "cell_type": "code",
   "execution_count": 58,
   "metadata": {},
   "outputs": [
    {
     "data": {
      "text/plain": [
       "Index(['codigo_alumno', 'curso', 'codigo_materia', 'departamento', 'turno',\n",
       "       'ciclo_lectivo', 'cant_cursada', 'cant_total_cursadas'],\n",
       "      dtype='object')"
      ]
     },
     "execution_count": 58,
     "metadata": {},
     "output_type": "execute_result"
    }
   ],
   "source": [
    "curdf.columns"
   ]
  },
  {
   "cell_type": "code",
   "execution_count": 59,
   "metadata": {},
   "outputs": [
    {
     "data": {
      "text/plain": [
       "Index(['codigo_alumno', 'sexo', 'anio_nacimiento', 'anio_ingreso',\n",
       "       'codigo_carrera_ingreso'],\n",
       "      dtype='object')"
      ]
     },
     "execution_count": 59,
     "metadata": {},
     "output_type": "execute_result"
    }
   ],
   "source": [
    "datdf.columns"
   ]
  },
  {
   "cell_type": "code",
   "execution_count": 60,
   "metadata": {},
   "outputs": [
    {
     "data": {
      "text/plain": [
       "Index(['codigo_alumno', 'codigo_materia', 'anio_academico', 'nota_num',\n",
       "       'nota_cual', 'nota_txt', 'cant_finales'],\n",
       "      dtype='object')"
      ]
     },
     "execution_count": 60,
     "metadata": {},
     "output_type": "execute_result"
    }
   ],
   "source": [
    "findf.columns"
   ]
  },
  {
   "cell_type": "code",
   "execution_count": 61,
   "metadata": {},
   "outputs": [
    {
     "data": {
      "text/plain": [
       "K     8702\n",
       "R     3278\n",
       "S     2822\n",
       "V     2475\n",
       "O     2045\n",
       "I     1197\n",
       "Q      928\n",
       "TB     270\n",
       "U      257\n",
       "W      177\n",
       "TU       5\n",
       "B        1\n",
       "Name: codigo_carrera_ingreso, dtype: int64"
      ]
     },
     "execution_count": 61,
     "metadata": {},
     "output_type": "execute_result"
    }
   ],
   "source": [
    "datdf.codigo_carrera_ingreso.value_counts()"
   ]
  },
  {
   "cell_type": "code",
   "execution_count": 64,
   "metadata": {},
   "outputs": [
    {
     "data": {
      "text/plain": [
       "K    135468\n",
       "Z    128557\n",
       "V     49904\n",
       "S     49694\n",
       "R     43644\n",
       "O     41634\n",
       "I     29608\n",
       "Q     15988\n",
       "X      5595\n",
       "M      2799\n",
       "A      2766\n",
       "W      2702\n",
       "U       691\n",
       "1       542\n",
       "k       425\n",
       "4        84\n",
       "2        82\n",
       "T        58\n",
       "5        20\n",
       "B        16\n",
       "C         4\n",
       "E         4\n",
       "P         2\n",
       "D         1\n",
       "L         1\n",
       "F         1\n",
       "Name: curso, dtype: int64"
      ]
     },
     "execution_count": 64,
     "metadata": {},
     "output_type": "execute_result"
    }
   ],
   "source": [
    "curdf.curso.apply(lambda x: x[0]).value_counts()"
   ]
  },
  {
   "cell_type": "code",
   "execution_count": 65,
   "metadata": {},
   "outputs": [
    {
     "data": {
      "text/plain": [
       "Index(['codigo_alumno', 'curso', 'codigo_materia', 'departamento', 'turno',\n",
       "       'ciclo_lectivo', 'cant_cursada', 'cant_total_cursadas'],\n",
       "      dtype='object')"
      ]
     },
     "execution_count": 65,
     "metadata": {},
     "output_type": "execute_result"
    }
   ],
   "source": [
    "curdf.columns"
   ]
  },
  {
   "cell_type": "code",
   "execution_count": 67,
   "metadata": {},
   "outputs": [
    {
     "data": {
      "text/html": [
       "<div>\n",
       "<style scoped>\n",
       "    .dataframe tbody tr th:only-of-type {\n",
       "        vertical-align: middle;\n",
       "    }\n",
       "\n",
       "    .dataframe tbody tr th {\n",
       "        vertical-align: top;\n",
       "    }\n",
       "\n",
       "    .dataframe thead th {\n",
       "        text-align: right;\n",
       "    }\n",
       "</style>\n",
       "<table border=\"1\" class=\"dataframe\">\n",
       "  <thead>\n",
       "    <tr style=\"text-align: right;\">\n",
       "      <th></th>\n",
       "      <th>curso</th>\n",
       "      <th>departamento</th>\n",
       "    </tr>\n",
       "  </thead>\n",
       "  <tbody>\n",
       "    <tr>\n",
       "      <th>4494</th>\n",
       "      <td>K4153</td>\n",
       "      <td>Unidad Docente Básica Legislación y Economía</td>\n",
       "    </tr>\n",
       "    <tr>\n",
       "      <th>4497</th>\n",
       "      <td>K3051</td>\n",
       "      <td>NaN</td>\n",
       "    </tr>\n",
       "    <tr>\n",
       "      <th>4502</th>\n",
       "      <td>K4051</td>\n",
       "      <td>Departamento de Ing. en Sistemas de Información</td>\n",
       "    </tr>\n",
       "    <tr>\n",
       "      <th>4511</th>\n",
       "      <td>K1071</td>\n",
       "      <td>Unidad Docente Básica Química</td>\n",
       "    </tr>\n",
       "    <tr>\n",
       "      <th>4523</th>\n",
       "      <td>Z2055</td>\n",
       "      <td>Unidad Docente Básica Matemática</td>\n",
       "    </tr>\n",
       "    <tr>\n",
       "      <th>4609</th>\n",
       "      <td>R1031</td>\n",
       "      <td>Departamento de Ing. Mecánica, Departamento de...</td>\n",
       "    </tr>\n",
       "    <tr>\n",
       "      <th>4610</th>\n",
       "      <td>R1042</td>\n",
       "      <td>Unidad Docente Básica Cultura e Idiomas</td>\n",
       "    </tr>\n",
       "    <tr>\n",
       "      <th>4667</th>\n",
       "      <td>K2031</td>\n",
       "      <td>Unidad Docente Básica Física</td>\n",
       "    </tr>\n",
       "    <tr>\n",
       "      <th>124</th>\n",
       "      <td>I5054</td>\n",
       "      <td>Departamento de Ing. Industrial</td>\n",
       "    </tr>\n",
       "    <tr>\n",
       "      <th>5827</th>\n",
       "      <td>R6051</td>\n",
       "      <td>Departamento de Ing. Electrónica</td>\n",
       "    </tr>\n",
       "    <tr>\n",
       "      <th>6004</th>\n",
       "      <td>K1061</td>\n",
       "      <td>Departamento de Ing. en Sistemas de Informació...</td>\n",
       "    </tr>\n",
       "    <tr>\n",
       "      <th>6642</th>\n",
       "      <td>Q1093</td>\n",
       "      <td>Departamento de Ing. Eléctrica</td>\n",
       "    </tr>\n",
       "    <tr>\n",
       "      <th>206</th>\n",
       "      <td>Z1072</td>\n",
       "      <td>Departamento de Ing. Química, Unidad Docente B...</td>\n",
       "    </tr>\n",
       "    <tr>\n",
       "      <th>258</th>\n",
       "      <td>S3051</td>\n",
       "      <td>Departamento de Ing. Mecánica</td>\n",
       "    </tr>\n",
       "    <tr>\n",
       "      <th>29971</th>\n",
       "      <td>I4051</td>\n",
       "      <td>Departamento de Ing. en Sistemas de Informació...</td>\n",
       "    </tr>\n",
       "    <tr>\n",
       "      <th>39377</th>\n",
       "      <td>O1092</td>\n",
       "      <td>Departamento de Ing. Civil</td>\n",
       "    </tr>\n",
       "    <tr>\n",
       "      <th>43032</th>\n",
       "      <td>V1051</td>\n",
       "      <td>Departamento de Ing. Química</td>\n",
       "    </tr>\n",
       "    <tr>\n",
       "      <th>111623</th>\n",
       "      <td>W5051</td>\n",
       "      <td>Departamento de Ing. Textil</td>\n",
       "    </tr>\n",
       "    <tr>\n",
       "      <th>112999</th>\n",
       "      <td>I5051</td>\n",
       "      <td>Departamento de Ing. Industrial, Departamento ...</td>\n",
       "    </tr>\n",
       "    <tr>\n",
       "      <th>115536</th>\n",
       "      <td>W5571</td>\n",
       "      <td>Departamento de Ing. Textil, Departamento de I...</td>\n",
       "    </tr>\n",
       "    <tr>\n",
       "      <th>117328</th>\n",
       "      <td>U5051</td>\n",
       "      <td>Departamento de Ing. Naval</td>\n",
       "    </tr>\n",
       "  </tbody>\n",
       "</table>\n",
       "</div>"
      ],
      "text/plain": [
       "        curso                                       departamento\n",
       "4494    K4153       Unidad Docente Básica Legislación y Economía\n",
       "4497    K3051                                                NaN\n",
       "4502    K4051    Departamento de Ing. en Sistemas de Información\n",
       "4511    K1071                      Unidad Docente Básica Química\n",
       "4523    Z2055                   Unidad Docente Básica Matemática\n",
       "4609    R1031  Departamento de Ing. Mecánica, Departamento de...\n",
       "4610    R1042            Unidad Docente Básica Cultura e Idiomas\n",
       "4667    K2031                       Unidad Docente Básica Física\n",
       "124     I5054                    Departamento de Ing. Industrial\n",
       "5827    R6051                   Departamento de Ing. Electrónica\n",
       "6004    K1061  Departamento de Ing. en Sistemas de Informació...\n",
       "6642    Q1093                     Departamento de Ing. Eléctrica\n",
       "206     Z1072  Departamento de Ing. Química, Unidad Docente B...\n",
       "258     S3051                      Departamento de Ing. Mecánica\n",
       "29971   I4051  Departamento de Ing. en Sistemas de Informació...\n",
       "39377   O1092                         Departamento de Ing. Civil\n",
       "43032   V1051                       Departamento de Ing. Química\n",
       "111623  W5051                        Departamento de Ing. Textil\n",
       "112999  I5051  Departamento de Ing. Industrial, Departamento ...\n",
       "115536  W5571  Departamento de Ing. Textil, Departamento de I...\n",
       "117328  U5051                         Departamento de Ing. Naval"
      ]
     },
     "execution_count": 67,
     "metadata": {},
     "output_type": "execute_result"
    }
   ],
   "source": [
    "curdf[~curdf.departamento.duplicated()][['curso','departamento']]"
   ]
  },
  {
   "cell_type": "code",
   "execution_count": null,
   "metadata": {},
   "outputs": [],
   "source": []
  }
 ],
 "metadata": {
  "kernelspec": {
   "display_name": "Python 3.8.10 ('tesis-9WwmOtq2-py3.8')",
   "language": "python",
   "name": "python3"
  },
  "language_info": {
   "codemirror_mode": {
    "name": "ipython",
    "version": 3
   },
   "file_extension": ".py",
   "mimetype": "text/x-python",
   "name": "python",
   "nbconvert_exporter": "python",
   "pygments_lexer": "ipython3",
   "version": "3.9.4"
  },
  "orig_nbformat": 4,
  "vscode": {
   "interpreter": {
    "hash": "c1241d3ae1d9ef889cb983698819564df5bcd3d314d5bb2265dfbf272bfe2174"
   }
  }
 },
 "nbformat": 4,
 "nbformat_minor": 2
}
