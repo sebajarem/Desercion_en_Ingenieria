{
 "cells": [
  {
   "attachments": {},
   "cell_type": "markdown",
   "metadata": {},
   "source": [
    "# Datos Alumnos"
   ]
  },
  {
   "cell_type": "code",
   "execution_count": 1,
   "metadata": {},
   "outputs": [],
   "source": [
    "import pandas as pd\n",
    "import numpy as np"
   ]
  },
  {
   "cell_type": "code",
   "execution_count": 2,
   "metadata": {},
   "outputs": [
    {
     "name": "stderr",
     "output_type": "stream",
     "text": [
      "/Users/sjaremczuk/Library/Caches/pypoetry/virtualenvs/tesis-ds-polkNLC9-py3.9/lib/python3.9/site-packages/numba/core/decorators.py:262: NumbaDeprecationWarning: numba.generated_jit is deprecated. Please see the documentation at: https://numba.readthedocs.io/en/stable/reference/deprecation.html#deprecation-of-generated-jit for more information and advice on a suitable replacement.\n",
      "  warnings.warn(msg, NumbaDeprecationWarning)\n",
      "/Users/sjaremczuk/Library/Caches/pypoetry/virtualenvs/tesis-ds-polkNLC9-py3.9/lib/python3.9/site-packages/visions/backends/shared/nan_handling.py:51: NumbaDeprecationWarning: The 'nopython' keyword argument was not supplied to the 'numba.jit' decorator. The implicit default value for this argument is currently False, but it will be changed to True in Numba 0.59.0. See https://numba.readthedocs.io/en/stable/reference/deprecation.html#deprecation-of-object-mode-fall-back-behaviour-when-using-jit for details.\n",
      "  def hasna(x: np.ndarray) -> bool:\n"
     ]
    }
   ],
   "source": [
    "from ydata_profiling import ProfileReport"
   ]
  },
  {
   "cell_type": "code",
   "execution_count": 3,
   "metadata": {},
   "outputs": [
    {
     "name": "stdout",
     "output_type": "stream",
     "text": [
      "dat shape:  (24839, 10)\n"
     ]
    }
   ],
   "source": [
    "datdf = pd.read_csv('../data/interim/datdf.csv')\n",
    "print('dat shape: ',datdf.shape)"
   ]
  },
  {
   "cell_type": "code",
   "execution_count": 4,
   "metadata": {},
   "outputs": [
    {
     "data": {
      "text/plain": [
       "Index(['codigo_alumno', 'pais', 'localidad', 'provincia', 'titulo_secundario',\n",
       "       'estado_civil', 'sexo', 'año_nacimiento', 'año_ingreso',\n",
       "       'codigo_propuesta'],\n",
       "      dtype='object')"
      ]
     },
     "execution_count": 4,
     "metadata": {},
     "output_type": "execute_result"
    }
   ],
   "source": [
    "datdf.columns"
   ]
  },
  {
   "cell_type": "code",
   "execution_count": 5,
   "metadata": {},
   "outputs": [
    {
     "data": {
      "text/html": [
       "<div>\n",
       "<style scoped>\n",
       "    .dataframe tbody tr th:only-of-type {\n",
       "        vertical-align: middle;\n",
       "    }\n",
       "\n",
       "    .dataframe tbody tr th {\n",
       "        vertical-align: top;\n",
       "    }\n",
       "\n",
       "    .dataframe thead th {\n",
       "        text-align: right;\n",
       "    }\n",
       "</style>\n",
       "<table border=\"1\" class=\"dataframe\">\n",
       "  <thead>\n",
       "    <tr style=\"text-align: right;\">\n",
       "      <th></th>\n",
       "      <th>codigo_alumno</th>\n",
       "      <th>pais</th>\n",
       "      <th>localidad</th>\n",
       "      <th>provincia</th>\n",
       "      <th>titulo_secundario</th>\n",
       "      <th>estado_civil</th>\n",
       "      <th>sexo</th>\n",
       "      <th>año_nacimiento</th>\n",
       "      <th>año_ingreso</th>\n",
       "      <th>codigo_propuesta</th>\n",
       "    </tr>\n",
       "  </thead>\n",
       "  <tbody>\n",
       "    <tr>\n",
       "      <th>0</th>\n",
       "      <td>27</td>\n",
       "      <td>NaN</td>\n",
       "      <td>NaN</td>\n",
       "      <td>NaN</td>\n",
       "      <td>NaN</td>\n",
       "      <td>Casado</td>\n",
       "      <td>M</td>\n",
       "      <td>1974</td>\n",
       "      <td>1993</td>\n",
       "      <td>K</td>\n",
       "    </tr>\n",
       "    <tr>\n",
       "      <th>1</th>\n",
       "      <td>53</td>\n",
       "      <td>NaN</td>\n",
       "      <td>NaN</td>\n",
       "      <td>NaN</td>\n",
       "      <td>NaN</td>\n",
       "      <td>Soltero</td>\n",
       "      <td>M</td>\n",
       "      <td>1974</td>\n",
       "      <td>1999</td>\n",
       "      <td>K</td>\n",
       "    </tr>\n",
       "    <tr>\n",
       "      <th>2</th>\n",
       "      <td>58</td>\n",
       "      <td>NaN</td>\n",
       "      <td>NaN</td>\n",
       "      <td>NaN</td>\n",
       "      <td>NaN</td>\n",
       "      <td>Soltero</td>\n",
       "      <td>M</td>\n",
       "      <td>1974</td>\n",
       "      <td>1995</td>\n",
       "      <td>K</td>\n",
       "    </tr>\n",
       "    <tr>\n",
       "      <th>3</th>\n",
       "      <td>72</td>\n",
       "      <td>NaN</td>\n",
       "      <td>NaN</td>\n",
       "      <td>NaN</td>\n",
       "      <td>NaN</td>\n",
       "      <td>Soltero</td>\n",
       "      <td>M</td>\n",
       "      <td>1974</td>\n",
       "      <td>1995</td>\n",
       "      <td>K</td>\n",
       "    </tr>\n",
       "    <tr>\n",
       "      <th>4</th>\n",
       "      <td>86</td>\n",
       "      <td>Argentina</td>\n",
       "      <td>CABA - Ciudad Autónoma de Buenos Aires</td>\n",
       "      <td>Ciudad Autónoma de Buenos Aires</td>\n",
       "      <td>NaN</td>\n",
       "      <td>Soltero</td>\n",
       "      <td>M</td>\n",
       "      <td>1974</td>\n",
       "      <td>1999</td>\n",
       "      <td>K</td>\n",
       "    </tr>\n",
       "  </tbody>\n",
       "</table>\n",
       "</div>"
      ],
      "text/plain": [
       "   codigo_alumno       pais                               localidad  \\\n",
       "0             27        NaN                                     NaN   \n",
       "1             53        NaN                                     NaN   \n",
       "2             58        NaN                                     NaN   \n",
       "3             72        NaN                                     NaN   \n",
       "4             86  Argentina  CABA - Ciudad Autónoma de Buenos Aires   \n",
       "\n",
       "                         provincia titulo_secundario estado_civil sexo  \\\n",
       "0                              NaN               NaN       Casado    M   \n",
       "1                              NaN               NaN      Soltero    M   \n",
       "2                              NaN               NaN      Soltero    M   \n",
       "3                              NaN               NaN      Soltero    M   \n",
       "4  Ciudad Autónoma de Buenos Aires               NaN      Soltero    M   \n",
       "\n",
       "   año_nacimiento  año_ingreso codigo_propuesta  \n",
       "0            1974         1993                K  \n",
       "1            1974         1999                K  \n",
       "2            1974         1995                K  \n",
       "3            1974         1995                K  \n",
       "4            1974         1999                K  "
      ]
     },
     "execution_count": 5,
     "metadata": {},
     "output_type": "execute_result"
    }
   ],
   "source": [
    "datdf.head()"
   ]
  },
  {
   "attachments": {},
   "cell_type": "markdown",
   "metadata": {},
   "source": [
    "# Criterios de limpieza"
   ]
  },
  {
   "attachments": {},
   "cell_type": "markdown",
   "metadata": {},
   "source": [
    "## Criterios "
   ]
  },
  {
   "attachments": {},
   "cell_type": "markdown",
   "metadata": {},
   "source": [
    "basados en el análsis del dataset hecho en el notebook 02_Analisis_Datos_Alumnos.ipynb"
   ]
  },
  {
   "attachments": {},
   "cell_type": "markdown",
   "metadata": {},
   "source": [
    "* `codigo_alumno`\n",
    "    - id\n",
    "* `pais`\n",
    "    - decision -> `eliminar la variable`\n",
    "    - la mayoria es argentina 74.9%\n",
    "    - 25% missing -> no esta mal\n",
    "    - puedo dejarlo por casos particulares pero al no tener varianza no ayuda\n",
    "* `localidad`\n",
    "    - analizarlo mas en profundidad para tomar decision\n",
    "* `provincia`\n",
    "    - muy desbalanceado pero podria funcionar para algunas cosas\n",
    "    - caba 46%, bs as 26%, missing 25%, y otros menores de 1%\n",
    "* `titulo_secundario`\n",
    "    - decisión -> `eliminar variable`\n",
    "    - 51% de missing\n",
    "    - se puede usar para profundizar algun análisis particular si vale la pena\n",
    "* `estado_civil`\n",
    "    - decision -> `eliminar variable`\n",
    "    - muy desbalanceado\n",
    "    - 92% soltero\n",
    "    - se podria utilizar para algun analisis particular\n",
    "    - dato no actualizado a través dle tiempo\n",
    "* `sexo`\n",
    "    - 83,4% M - 16,6% F\n",
    "* `año_nacimiento`\n",
    "    - decisión -> `usar variable`\n",
    "    - tiene errores y outliers (nacimeinto en 1900 por ejemplo)\n",
    "    - arreglar con criterio esos casos\n",
    "    - modificar el nombre para sacar la letra ñ\n",
    "* `año_ingreso`\n",
    "    - decisión -> `usar variable`\n",
    "    - hay casos viejo\n",
    "        - el percentil 5 ya es 1999 de ingreso que podria ser un criterio para evitar problemas de outliers y fata de información en planes viejos y ese tipo de cosas\n",
    "    - hay que analizar si las personas que año de ingreso viejos terminaron la facultad\n",
    "* `codigo_propuesta`\n",
    "    - decision -> `usar variable`\n",
    "    - tener en cuenta que debe ser cuando ingresa peo tmb pudo haber cambaido de carrera\n",
    "        - usar codigo de materia para saber eso\n",
    "    - 9701 K, 3628 R, 3116 S, 2777 V, etc\n",
    "\n"
   ]
  },
  {
   "cell_type": "code",
   "execution_count": 9,
   "metadata": {},
   "outputs": [],
   "source": [
    "# variables a usar\n",
    "vars = ['codigo_alumno', 'sexo', 'año_nacimiento', 'año_ingreso', 'codigo_propuesta']\n",
    "\n",
    "df = datdf[vars].copy()\n"
   ]
  },
  {
   "attachments": {},
   "cell_type": "markdown",
   "metadata": {},
   "source": [
    "## Analsis duplicados"
   ]
  },
  {
   "cell_type": "code",
   "execution_count": 15,
   "metadata": {},
   "outputs": [
    {
     "data": {
      "text/html": [
       "<div>\n",
       "<style scoped>\n",
       "    .dataframe tbody tr th:only-of-type {\n",
       "        vertical-align: middle;\n",
       "    }\n",
       "\n",
       "    .dataframe tbody tr th {\n",
       "        vertical-align: top;\n",
       "    }\n",
       "\n",
       "    .dataframe thead th {\n",
       "        text-align: right;\n",
       "    }\n",
       "</style>\n",
       "<table border=\"1\" class=\"dataframe\">\n",
       "  <thead>\n",
       "    <tr style=\"text-align: right;\">\n",
       "      <th></th>\n",
       "      <th>codigo_alumno</th>\n",
       "      <th>pais</th>\n",
       "      <th>localidad</th>\n",
       "      <th>provincia</th>\n",
       "      <th>titulo_secundario</th>\n",
       "      <th>estado_civil</th>\n",
       "      <th>sexo</th>\n",
       "      <th>año_nacimiento</th>\n",
       "      <th>año_ingreso</th>\n",
       "      <th>codigo_propuesta</th>\n",
       "    </tr>\n",
       "  </thead>\n",
       "  <tbody>\n",
       "    <tr>\n",
       "      <th>6629</th>\n",
       "      <td>43435</td>\n",
       "      <td>Argentina</td>\n",
       "      <td>CABA - Ciudad Autónoma de Buenos Aires</td>\n",
       "      <td>Ciudad Autónoma de Buenos Aires</td>\n",
       "      <td>BACHILLER</td>\n",
       "      <td>Soltero</td>\n",
       "      <td>M</td>\n",
       "      <td>1981</td>\n",
       "      <td>2005</td>\n",
       "      <td>R</td>\n",
       "    </tr>\n",
       "    <tr>\n",
       "      <th>6630</th>\n",
       "      <td>43435</td>\n",
       "      <td>Argentina</td>\n",
       "      <td>CABA - Ciudad Autónoma de Buenos Aires</td>\n",
       "      <td>Ciudad Autónoma de Buenos Aires</td>\n",
       "      <td>MAESTRO MAYOR DE OBRA</td>\n",
       "      <td>Soltero</td>\n",
       "      <td>M</td>\n",
       "      <td>1981</td>\n",
       "      <td>2005</td>\n",
       "      <td>R</td>\n",
       "    </tr>\n",
       "    <tr>\n",
       "      <th>6955</th>\n",
       "      <td>44872</td>\n",
       "      <td>Argentina</td>\n",
       "      <td>VALENTIN ALSINA</td>\n",
       "      <td>Buenos Aires</td>\n",
       "      <td>BACHILLER</td>\n",
       "      <td>Casado</td>\n",
       "      <td>M</td>\n",
       "      <td>1960</td>\n",
       "      <td>1999</td>\n",
       "      <td>R</td>\n",
       "    </tr>\n",
       "    <tr>\n",
       "      <th>6956</th>\n",
       "      <td>44872</td>\n",
       "      <td>Argentina</td>\n",
       "      <td>VALENTIN ALSINA</td>\n",
       "      <td>Buenos Aires</td>\n",
       "      <td>TÉCNICO ELECTRONICO</td>\n",
       "      <td>Casado</td>\n",
       "      <td>M</td>\n",
       "      <td>1960</td>\n",
       "      <td>1999</td>\n",
       "      <td>R</td>\n",
       "    </tr>\n",
       "    <tr>\n",
       "      <th>7097</th>\n",
       "      <td>45142</td>\n",
       "      <td>Argentina</td>\n",
       "      <td>CABA - Ciudad Autónoma de Buenos Aires</td>\n",
       "      <td>Ciudad Autónoma de Buenos Aires</td>\n",
       "      <td>TÉCNICO MAESTRO MAYOR DE OBRAS</td>\n",
       "      <td>Soltero</td>\n",
       "      <td>F</td>\n",
       "      <td>1985</td>\n",
       "      <td>2008</td>\n",
       "      <td>R</td>\n",
       "    </tr>\n",
       "    <tr>\n",
       "      <th>7098</th>\n",
       "      <td>45142</td>\n",
       "      <td>Argentina</td>\n",
       "      <td>CABA - Ciudad Autónoma de Buenos Aires</td>\n",
       "      <td>Ciudad Autónoma de Buenos Aires</td>\n",
       "      <td>NaN</td>\n",
       "      <td>Soltero</td>\n",
       "      <td>F</td>\n",
       "      <td>1985</td>\n",
       "      <td>2008</td>\n",
       "      <td>R</td>\n",
       "    </tr>\n",
       "    <tr>\n",
       "      <th>8564</th>\n",
       "      <td>47454</td>\n",
       "      <td>Argentina</td>\n",
       "      <td>CABA - Ciudad Autónoma de Buenos Aires</td>\n",
       "      <td>Ciudad Autónoma de Buenos Aires</td>\n",
       "      <td>TÉCNICO AVIÓNICO</td>\n",
       "      <td>Soltero</td>\n",
       "      <td>M</td>\n",
       "      <td>1986</td>\n",
       "      <td>2015</td>\n",
       "      <td>R</td>\n",
       "    </tr>\n",
       "    <tr>\n",
       "      <th>8565</th>\n",
       "      <td>47454</td>\n",
       "      <td>Argentina</td>\n",
       "      <td>CABA - Ciudad Autónoma de Buenos Aires</td>\n",
       "      <td>Ciudad Autónoma de Buenos Aires</td>\n",
       "      <td>NaN</td>\n",
       "      <td>Soltero</td>\n",
       "      <td>M</td>\n",
       "      <td>1986</td>\n",
       "      <td>2015</td>\n",
       "      <td>R</td>\n",
       "    </tr>\n",
       "    <tr>\n",
       "      <th>12700</th>\n",
       "      <td>53573</td>\n",
       "      <td>Argentina</td>\n",
       "      <td>CABA - Ciudad Autónoma de Buenos Aires</td>\n",
       "      <td>Ciudad Autónoma de Buenos Aires</td>\n",
       "      <td>TÉCNICO ELECTRONICO</td>\n",
       "      <td>Soltero</td>\n",
       "      <td>F</td>\n",
       "      <td>1997</td>\n",
       "      <td>2016</td>\n",
       "      <td>R</td>\n",
       "    </tr>\n",
       "    <tr>\n",
       "      <th>12699</th>\n",
       "      <td>53573</td>\n",
       "      <td>Argentina</td>\n",
       "      <td>CABA - Ciudad Autónoma de Buenos Aires</td>\n",
       "      <td>Ciudad Autónoma de Buenos Aires</td>\n",
       "      <td>PRODUCCIÓN DE BIENES Y SERVICIOS</td>\n",
       "      <td>Soltero</td>\n",
       "      <td>F</td>\n",
       "      <td>1997</td>\n",
       "      <td>2016</td>\n",
       "      <td>R</td>\n",
       "    </tr>\n",
       "    <tr>\n",
       "      <th>12920</th>\n",
       "      <td>53878</td>\n",
       "      <td>Argentina</td>\n",
       "      <td>CABA - Ciudad Autónoma de Buenos Aires</td>\n",
       "      <td>Ciudad Autónoma de Buenos Aires</td>\n",
       "      <td>TÉCNICO ELECTROMECANICO</td>\n",
       "      <td>Soltero</td>\n",
       "      <td>M</td>\n",
       "      <td>1990</td>\n",
       "      <td>2009</td>\n",
       "      <td>Q</td>\n",
       "    </tr>\n",
       "    <tr>\n",
       "      <th>12921</th>\n",
       "      <td>53878</td>\n",
       "      <td>Argentina</td>\n",
       "      <td>CABA - Ciudad Autónoma de Buenos Aires</td>\n",
       "      <td>Ciudad Autónoma de Buenos Aires</td>\n",
       "      <td>TÉCNICO MECANICO ELECTRICISTA</td>\n",
       "      <td>Soltero</td>\n",
       "      <td>M</td>\n",
       "      <td>1990</td>\n",
       "      <td>2009</td>\n",
       "      <td>Q</td>\n",
       "    </tr>\n",
       "    <tr>\n",
       "      <th>14558</th>\n",
       "      <td>57537</td>\n",
       "      <td>Argentina</td>\n",
       "      <td>CABA - Ciudad Autónoma de Buenos Aires</td>\n",
       "      <td>Ciudad Autónoma de Buenos Aires</td>\n",
       "      <td>BACHILLER CON ORIENTACION EN CIENCIAS NATURALES</td>\n",
       "      <td>Soltero</td>\n",
       "      <td>M</td>\n",
       "      <td>1998</td>\n",
       "      <td>2017</td>\n",
       "      <td>K</td>\n",
       "    </tr>\n",
       "    <tr>\n",
       "      <th>14559</th>\n",
       "      <td>57537</td>\n",
       "      <td>Argentina</td>\n",
       "      <td>CABA - Ciudad Autónoma de Buenos Aires</td>\n",
       "      <td>Ciudad Autónoma de Buenos Aires</td>\n",
       "      <td>BACHILLER EN CIENCIAS NATURALES</td>\n",
       "      <td>Soltero</td>\n",
       "      <td>M</td>\n",
       "      <td>1998</td>\n",
       "      <td>2017</td>\n",
       "      <td>K</td>\n",
       "    </tr>\n",
       "    <tr>\n",
       "      <th>16803</th>\n",
       "      <td>60224</td>\n",
       "      <td>Argentina</td>\n",
       "      <td>CABA - Ciudad Autónoma de Buenos Aires</td>\n",
       "      <td>Ciudad Autónoma de Buenos Aires</td>\n",
       "      <td>BACHILLER EN CIENCIAS NATURALES</td>\n",
       "      <td>Soltero</td>\n",
       "      <td>M</td>\n",
       "      <td>1987</td>\n",
       "      <td>2009</td>\n",
       "      <td>V</td>\n",
       "    </tr>\n",
       "    <tr>\n",
       "      <th>16804</th>\n",
       "      <td>60224</td>\n",
       "      <td>Argentina</td>\n",
       "      <td>CABA - Ciudad Autónoma de Buenos Aires</td>\n",
       "      <td>Ciudad Autónoma de Buenos Aires</td>\n",
       "      <td>NaN</td>\n",
       "      <td>Soltero</td>\n",
       "      <td>M</td>\n",
       "      <td>1987</td>\n",
       "      <td>2009</td>\n",
       "      <td>V</td>\n",
       "    </tr>\n",
       "    <tr>\n",
       "      <th>24493</th>\n",
       "      <td>79588</td>\n",
       "      <td>Argentina</td>\n",
       "      <td>FLORIDA</td>\n",
       "      <td>Buenos Aires</td>\n",
       "      <td>BACHILLER CON ORIENTACION EN ECONOMIA Y ADMINI...</td>\n",
       "      <td>Soltero</td>\n",
       "      <td>M</td>\n",
       "      <td>1995</td>\n",
       "      <td>2014</td>\n",
       "      <td>K</td>\n",
       "    </tr>\n",
       "    <tr>\n",
       "      <th>24494</th>\n",
       "      <td>79588</td>\n",
       "      <td>Argentina</td>\n",
       "      <td>FLORIDA</td>\n",
       "      <td>Buenos Aires</td>\n",
       "      <td>BACHILLER EN ADMINISTRACION</td>\n",
       "      <td>Soltero</td>\n",
       "      <td>M</td>\n",
       "      <td>1995</td>\n",
       "      <td>2014</td>\n",
       "      <td>K</td>\n",
       "    </tr>\n",
       "  </tbody>\n",
       "</table>\n",
       "</div>"
      ],
      "text/plain": [
       "       codigo_alumno       pais                               localidad  \\\n",
       "6629           43435  Argentina  CABA - Ciudad Autónoma de Buenos Aires   \n",
       "6630           43435  Argentina  CABA - Ciudad Autónoma de Buenos Aires   \n",
       "6955           44872  Argentina                         VALENTIN ALSINA   \n",
       "6956           44872  Argentina                         VALENTIN ALSINA   \n",
       "7097           45142  Argentina  CABA - Ciudad Autónoma de Buenos Aires   \n",
       "7098           45142  Argentina  CABA - Ciudad Autónoma de Buenos Aires   \n",
       "8564           47454  Argentina  CABA - Ciudad Autónoma de Buenos Aires   \n",
       "8565           47454  Argentina  CABA - Ciudad Autónoma de Buenos Aires   \n",
       "12700          53573  Argentina  CABA - Ciudad Autónoma de Buenos Aires   \n",
       "12699          53573  Argentina  CABA - Ciudad Autónoma de Buenos Aires   \n",
       "12920          53878  Argentina  CABA - Ciudad Autónoma de Buenos Aires   \n",
       "12921          53878  Argentina  CABA - Ciudad Autónoma de Buenos Aires   \n",
       "14558          57537  Argentina  CABA - Ciudad Autónoma de Buenos Aires   \n",
       "14559          57537  Argentina  CABA - Ciudad Autónoma de Buenos Aires   \n",
       "16803          60224  Argentina  CABA - Ciudad Autónoma de Buenos Aires   \n",
       "16804          60224  Argentina  CABA - Ciudad Autónoma de Buenos Aires   \n",
       "24493          79588  Argentina                                 FLORIDA   \n",
       "24494          79588  Argentina                                 FLORIDA   \n",
       "\n",
       "                             provincia  \\\n",
       "6629   Ciudad Autónoma de Buenos Aires   \n",
       "6630   Ciudad Autónoma de Buenos Aires   \n",
       "6955                      Buenos Aires   \n",
       "6956                      Buenos Aires   \n",
       "7097   Ciudad Autónoma de Buenos Aires   \n",
       "7098   Ciudad Autónoma de Buenos Aires   \n",
       "8564   Ciudad Autónoma de Buenos Aires   \n",
       "8565   Ciudad Autónoma de Buenos Aires   \n",
       "12700  Ciudad Autónoma de Buenos Aires   \n",
       "12699  Ciudad Autónoma de Buenos Aires   \n",
       "12920  Ciudad Autónoma de Buenos Aires   \n",
       "12921  Ciudad Autónoma de Buenos Aires   \n",
       "14558  Ciudad Autónoma de Buenos Aires   \n",
       "14559  Ciudad Autónoma de Buenos Aires   \n",
       "16803  Ciudad Autónoma de Buenos Aires   \n",
       "16804  Ciudad Autónoma de Buenos Aires   \n",
       "24493                     Buenos Aires   \n",
       "24494                     Buenos Aires   \n",
       "\n",
       "                                       titulo_secundario estado_civil sexo  \\\n",
       "6629                                           BACHILLER      Soltero    M   \n",
       "6630                               MAESTRO MAYOR DE OBRA      Soltero    M   \n",
       "6955                                           BACHILLER       Casado    M   \n",
       "6956                                 TÉCNICO ELECTRONICO       Casado    M   \n",
       "7097                      TÉCNICO MAESTRO MAYOR DE OBRAS      Soltero    F   \n",
       "7098                                                 NaN      Soltero    F   \n",
       "8564                                    TÉCNICO AVIÓNICO      Soltero    M   \n",
       "8565                                                 NaN      Soltero    M   \n",
       "12700                                TÉCNICO ELECTRONICO      Soltero    F   \n",
       "12699                   PRODUCCIÓN DE BIENES Y SERVICIOS      Soltero    F   \n",
       "12920                            TÉCNICO ELECTROMECANICO      Soltero    M   \n",
       "12921                      TÉCNICO MECANICO ELECTRICISTA      Soltero    M   \n",
       "14558    BACHILLER CON ORIENTACION EN CIENCIAS NATURALES      Soltero    M   \n",
       "14559                    BACHILLER EN CIENCIAS NATURALES      Soltero    M   \n",
       "16803                    BACHILLER EN CIENCIAS NATURALES      Soltero    M   \n",
       "16804                                                NaN      Soltero    M   \n",
       "24493  BACHILLER CON ORIENTACION EN ECONOMIA Y ADMINI...      Soltero    M   \n",
       "24494                        BACHILLER EN ADMINISTRACION      Soltero    M   \n",
       "\n",
       "       año_nacimiento  año_ingreso codigo_propuesta  \n",
       "6629             1981         2005                R  \n",
       "6630             1981         2005                R  \n",
       "6955             1960         1999                R  \n",
       "6956             1960         1999                R  \n",
       "7097             1985         2008                R  \n",
       "7098             1985         2008                R  \n",
       "8564             1986         2015                R  \n",
       "8565             1986         2015                R  \n",
       "12700            1997         2016                R  \n",
       "12699            1997         2016                R  \n",
       "12920            1990         2009                Q  \n",
       "12921            1990         2009                Q  \n",
       "14558            1998         2017                K  \n",
       "14559            1998         2017                K  \n",
       "16803            1987         2009                V  \n",
       "16804            1987         2009                V  \n",
       "24493            1995         2014                K  \n",
       "24494            1995         2014                K  "
      ]
     },
     "execution_count": 15,
     "metadata": {},
     "output_type": "execute_result"
    }
   ],
   "source": [
    "alumnos = df[df.duplicated()]['codigo_alumno'].unique()\n",
    "# filtrar datdf con alumnos en variable codigo_alumno\n",
    "duplicados = datdf[datdf['codigo_alumno'].isin(alumnos)].copy()\n",
    "duplicados.sort_values(by=['codigo_alumno'], inplace=True)\n",
    "duplicados"
   ]
  },
  {
   "attachments": {},
   "cell_type": "markdown",
   "metadata": {},
   "source": [
    "#### Conclusion duplicados\n",
    "\n",
    "- los duplicados se dan por tener mas de 1 titulo secundario\n",
    "    - `se eliminan los duplicados`"
   ]
  },
  {
   "cell_type": "code",
   "execution_count": 16,
   "metadata": {},
   "outputs": [],
   "source": [
    "df = df.drop_duplicates()"
   ]
  },
  {
   "cell_type": "code",
   "execution_count": 17,
   "metadata": {},
   "outputs": [
    {
     "data": {
      "text/plain": [
       "(24830, 5)"
      ]
     },
     "execution_count": 17,
     "metadata": {},
     "output_type": "execute_result"
    }
   ],
   "source": [
    "df.shape"
   ]
  },
  {
   "cell_type": "code",
   "execution_count": 18,
   "metadata": {},
   "outputs": [
    {
     "data": {
      "text/html": [
       "<div>\n",
       "<style scoped>\n",
       "    .dataframe tbody tr th:only-of-type {\n",
       "        vertical-align: middle;\n",
       "    }\n",
       "\n",
       "    .dataframe tbody tr th {\n",
       "        vertical-align: top;\n",
       "    }\n",
       "\n",
       "    .dataframe thead th {\n",
       "        text-align: right;\n",
       "    }\n",
       "</style>\n",
       "<table border=\"1\" class=\"dataframe\">\n",
       "  <thead>\n",
       "    <tr style=\"text-align: right;\">\n",
       "      <th></th>\n",
       "      <th>codigo_alumno</th>\n",
       "      <th>sexo</th>\n",
       "      <th>año_nacimiento</th>\n",
       "      <th>año_ingreso</th>\n",
       "      <th>codigo_propuesta</th>\n",
       "    </tr>\n",
       "  </thead>\n",
       "  <tbody>\n",
       "    <tr>\n",
       "      <th>0</th>\n",
       "      <td>27</td>\n",
       "      <td>M</td>\n",
       "      <td>1974</td>\n",
       "      <td>1993</td>\n",
       "      <td>K</td>\n",
       "    </tr>\n",
       "    <tr>\n",
       "      <th>1</th>\n",
       "      <td>53</td>\n",
       "      <td>M</td>\n",
       "      <td>1974</td>\n",
       "      <td>1999</td>\n",
       "      <td>K</td>\n",
       "    </tr>\n",
       "    <tr>\n",
       "      <th>2</th>\n",
       "      <td>58</td>\n",
       "      <td>M</td>\n",
       "      <td>1974</td>\n",
       "      <td>1995</td>\n",
       "      <td>K</td>\n",
       "    </tr>\n",
       "    <tr>\n",
       "      <th>3</th>\n",
       "      <td>72</td>\n",
       "      <td>M</td>\n",
       "      <td>1974</td>\n",
       "      <td>1995</td>\n",
       "      <td>K</td>\n",
       "    </tr>\n",
       "    <tr>\n",
       "      <th>4</th>\n",
       "      <td>86</td>\n",
       "      <td>M</td>\n",
       "      <td>1974</td>\n",
       "      <td>1999</td>\n",
       "      <td>K</td>\n",
       "    </tr>\n",
       "  </tbody>\n",
       "</table>\n",
       "</div>"
      ],
      "text/plain": [
       "   codigo_alumno sexo  año_nacimiento  año_ingreso codigo_propuesta\n",
       "0             27    M            1974         1993                K\n",
       "1             53    M            1974         1999                K\n",
       "2             58    M            1974         1995                K\n",
       "3             72    M            1974         1995                K\n",
       "4             86    M            1974         1999                K"
      ]
     },
     "execution_count": 18,
     "metadata": {},
     "output_type": "execute_result"
    }
   ],
   "source": [
    "df.head()"
   ]
  },
  {
   "cell_type": "code",
   "execution_count": 19,
   "metadata": {},
   "outputs": [],
   "source": [
    "df.columns = ['codigo_alumno', 'sexo', 'anio_nacimiento', 'anio_ingreso', 'codigo_carrera_ingreso']"
   ]
  },
  {
   "cell_type": "code",
   "execution_count": 20,
   "metadata": {},
   "outputs": [
    {
     "data": {
      "text/html": [
       "<div>\n",
       "<style scoped>\n",
       "    .dataframe tbody tr th:only-of-type {\n",
       "        vertical-align: middle;\n",
       "    }\n",
       "\n",
       "    .dataframe tbody tr th {\n",
       "        vertical-align: top;\n",
       "    }\n",
       "\n",
       "    .dataframe thead th {\n",
       "        text-align: right;\n",
       "    }\n",
       "</style>\n",
       "<table border=\"1\" class=\"dataframe\">\n",
       "  <thead>\n",
       "    <tr style=\"text-align: right;\">\n",
       "      <th></th>\n",
       "      <th>codigo_alumno</th>\n",
       "      <th>sexo</th>\n",
       "      <th>anio_nacimiento</th>\n",
       "      <th>anio_ingreso</th>\n",
       "      <th>codigo_carrera_ingreso</th>\n",
       "    </tr>\n",
       "  </thead>\n",
       "  <tbody>\n",
       "    <tr>\n",
       "      <th>0</th>\n",
       "      <td>27</td>\n",
       "      <td>M</td>\n",
       "      <td>1974</td>\n",
       "      <td>1993</td>\n",
       "      <td>K</td>\n",
       "    </tr>\n",
       "    <tr>\n",
       "      <th>1</th>\n",
       "      <td>53</td>\n",
       "      <td>M</td>\n",
       "      <td>1974</td>\n",
       "      <td>1999</td>\n",
       "      <td>K</td>\n",
       "    </tr>\n",
       "    <tr>\n",
       "      <th>2</th>\n",
       "      <td>58</td>\n",
       "      <td>M</td>\n",
       "      <td>1974</td>\n",
       "      <td>1995</td>\n",
       "      <td>K</td>\n",
       "    </tr>\n",
       "    <tr>\n",
       "      <th>3</th>\n",
       "      <td>72</td>\n",
       "      <td>M</td>\n",
       "      <td>1974</td>\n",
       "      <td>1995</td>\n",
       "      <td>K</td>\n",
       "    </tr>\n",
       "    <tr>\n",
       "      <th>4</th>\n",
       "      <td>86</td>\n",
       "      <td>M</td>\n",
       "      <td>1974</td>\n",
       "      <td>1999</td>\n",
       "      <td>K</td>\n",
       "    </tr>\n",
       "  </tbody>\n",
       "</table>\n",
       "</div>"
      ],
      "text/plain": [
       "   codigo_alumno sexo  anio_nacimiento  anio_ingreso codigo_carrera_ingreso\n",
       "0             27    M             1974          1993                      K\n",
       "1             53    M             1974          1999                      K\n",
       "2             58    M             1974          1995                      K\n",
       "3             72    M             1974          1995                      K\n",
       "4             86    M             1974          1999                      K"
      ]
     },
     "execution_count": 20,
     "metadata": {},
     "output_type": "execute_result"
    }
   ],
   "source": [
    "df.head()"
   ]
  },
  {
   "attachments": {},
   "cell_type": "markdown",
   "metadata": {},
   "source": [
    "# Pendientes\n",
    "\n",
    "- analizar los años de nacimiento viejos y los años de ingreso viejos a ver si hicieron materias y hasta que año para ver si dejarlos o no por si falta informción. Esto se hace ya cuando juntemos los datasets con cursadas y/o finales"
   ]
  },
  {
   "attachments": {},
   "cell_type": "markdown",
   "metadata": {},
   "source": [
    "# Reportes"
   ]
  },
  {
   "cell_type": "code",
   "execution_count": 24,
   "metadata": {},
   "outputs": [
    {
     "data": {
      "application/vnd.jupyter.widget-view+json": {
       "model_id": "f5fbcc8f5d7c41e798f1bf6b361e71f6",
       "version_major": 2,
       "version_minor": 0
      },
      "text/plain": [
       "Summarize dataset:   0%|          | 0/5 [00:00<?, ?it/s]"
      ]
     },
     "metadata": {},
     "output_type": "display_data"
    },
    {
     "data": {
      "application/vnd.jupyter.widget-view+json": {
       "model_id": "f06395fbfe754457ac58f371ef96a284",
       "version_major": 2,
       "version_minor": 0
      },
      "text/plain": [
       "Generate report structure:   0%|          | 0/1 [00:00<?, ?it/s]"
      ]
     },
     "metadata": {},
     "output_type": "display_data"
    },
    {
     "data": {
      "application/vnd.jupyter.widget-view+json": {
       "model_id": "1e9a5a390b99403b8da9c2b4ab07001d",
       "version_major": 2,
       "version_minor": 0
      },
      "text/plain": [
       "Render HTML:   0%|          | 0/1 [00:00<?, ?it/s]"
      ]
     },
     "metadata": {},
     "output_type": "display_data"
    },
    {
     "data": {
      "application/vnd.jupyter.widget-view+json": {
       "model_id": "756b2932575c4aa8a9a186911fd40243",
       "version_major": 2,
       "version_minor": 0
      },
      "text/plain": [
       "Export report to file:   0%|          | 0/1 [00:00<?, ?it/s]"
      ]
     },
     "metadata": {},
     "output_type": "display_data"
    }
   ],
   "source": [
    "dfpr = ProfileReport(df, title=\"Datos Alumnos - Profiling Report\")\n",
    "dfpr.to_file(\"reportes/Alumnos_DatosReducidos_ProfileReport.html\")"
   ]
  },
  {
   "attachments": {},
   "cell_type": "markdown",
   "metadata": {},
   "source": [
    "# Guardar datasets"
   ]
  },
  {
   "cell_type": "code",
   "execution_count": 23,
   "metadata": {},
   "outputs": [],
   "source": [
    "df.to_csv('../data/interim/datdf_clean.csv', index=False)"
   ]
  }
 ],
 "metadata": {
  "kernelspec": {
   "display_name": "Python 3.8.10 ('tesis-9WwmOtq2-py3.8')",
   "language": "python",
   "name": "python3"
  },
  "language_info": {
   "codemirror_mode": {
    "name": "ipython",
    "version": 3
   },
   "file_extension": ".py",
   "mimetype": "text/x-python",
   "name": "python",
   "nbconvert_exporter": "python",
   "pygments_lexer": "ipython3",
   "version": "3.9.4"
  },
  "orig_nbformat": 4,
  "vscode": {
   "interpreter": {
    "hash": "c1241d3ae1d9ef889cb983698819564df5bcd3d314d5bb2265dfbf272bfe2174"
   }
  }
 },
 "nbformat": 4,
 "nbformat_minor": 2
}
