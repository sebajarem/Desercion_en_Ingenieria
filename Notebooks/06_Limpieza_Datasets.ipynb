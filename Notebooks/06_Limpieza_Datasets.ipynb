{
 "cells": [
  {
   "attachments": {},
   "cell_type": "markdown",
   "metadata": {},
   "source": [
    "# Limpieza de Todos los Datasets Iniciales"
   ]
  },
  {
   "cell_type": "code",
   "execution_count": 1,
   "metadata": {},
   "outputs": [],
   "source": [
    "import pandas as pd\n",
    "import numpy as np"
   ]
  },
  {
   "cell_type": "code",
   "execution_count": 2,
   "metadata": {},
   "outputs": [
    {
     "name": "stderr",
     "output_type": "stream",
     "text": [
      "/Users/sjaremczuk/Library/Caches/pypoetry/virtualenvs/tesis-ds-polkNLC9-py3.9/lib/python3.9/site-packages/numba/core/decorators.py:262: NumbaDeprecationWarning: numba.generated_jit is deprecated. Please see the documentation at: https://numba.readthedocs.io/en/stable/reference/deprecation.html#deprecation-of-generated-jit for more information and advice on a suitable replacement.\n",
      "  warnings.warn(msg, NumbaDeprecationWarning)\n",
      "/Users/sjaremczuk/Library/Caches/pypoetry/virtualenvs/tesis-ds-polkNLC9-py3.9/lib/python3.9/site-packages/visions/backends/shared/nan_handling.py:51: NumbaDeprecationWarning: The 'nopython' keyword argument was not supplied to the 'numba.jit' decorator. The implicit default value for this argument is currently False, but it will be changed to True in Numba 0.59.0. See https://numba.readthedocs.io/en/stable/reference/deprecation.html#deprecation-of-object-mode-fall-back-behaviour-when-using-jit for details.\n",
      "  def hasna(x: np.ndarray) -> bool:\n"
     ]
    }
   ],
   "source": [
    "from ydata_profiling import ProfileReport"
   ]
  },
  {
   "cell_type": "code",
   "execution_count": 3,
   "metadata": {},
   "outputs": [
    {
     "name": "stdout",
     "output_type": "stream",
     "text": [
      "cur shape:  (581295, 12)\n",
      "datdf shape:  (24830, 5)\n",
      "fin shape:  (554523, 14)\n"
     ]
    }
   ],
   "source": [
    "curdf = pd.read_pickle('../data/interim/curdf.pkl')\n",
    "print('cur shape: ',curdf.shape)\n",
    "datdf = pd.read_pickle('../data/interim/datdf_clean.pkl')\n",
    "print('datdf shape: ',datdf.shape)\n",
    "findf = pd.read_pickle('../data/interim/findf_01.pkl')\n",
    "print('fin shape: ',findf.shape)"
   ]
  },
  {
   "attachments": {},
   "cell_type": "markdown",
   "metadata": {},
   "source": [
    "## Alumnos a eliminar de los datasets"
   ]
  },
  {
   "cell_type": "code",
   "execution_count": 4,
   "metadata": {},
   "outputs": [
    {
     "name": "stdout",
     "output_type": "stream",
     "text": [
      "alumnos_delete shape:  (4068, 11)\n"
     ]
    }
   ],
   "source": [
    "alumnos_delete = pd.read_pickle('../data/interim/alumnos_delete.pkl')\n",
    "print('alumnos_delete shape: ',alumnos_delete.shape)"
   ]
  },
  {
   "cell_type": "code",
   "execution_count": 5,
   "metadata": {},
   "outputs": [
    {
     "data": {
      "text/plain": [
       "2673"
      ]
     },
     "execution_count": 5,
     "metadata": {},
     "output_type": "execute_result"
    }
   ],
   "source": [
    "alumnos_delete.codigo_alumno.nunique()"
   ]
  },
  {
   "attachments": {},
   "cell_type": "markdown",
   "metadata": {},
   "source": [
    "## Datos de Alumnos"
   ]
  },
  {
   "cell_type": "code",
   "execution_count": 6,
   "metadata": {},
   "outputs": [
    {
     "data": {
      "text/html": [
       "<div>\n",
       "<style scoped>\n",
       "    .dataframe tbody tr th:only-of-type {\n",
       "        vertical-align: middle;\n",
       "    }\n",
       "\n",
       "    .dataframe tbody tr th {\n",
       "        vertical-align: top;\n",
       "    }\n",
       "\n",
       "    .dataframe thead th {\n",
       "        text-align: right;\n",
       "    }\n",
       "</style>\n",
       "<table border=\"1\" class=\"dataframe\">\n",
       "  <thead>\n",
       "    <tr style=\"text-align: right;\">\n",
       "      <th></th>\n",
       "      <th>codigo_alumno</th>\n",
       "      <th>sexo</th>\n",
       "      <th>anio_nacimiento</th>\n",
       "      <th>anio_ingreso</th>\n",
       "      <th>codigo_carrera_ingreso</th>\n",
       "    </tr>\n",
       "  </thead>\n",
       "  <tbody>\n",
       "    <tr>\n",
       "      <th>0</th>\n",
       "      <td>27</td>\n",
       "      <td>M</td>\n",
       "      <td>1974</td>\n",
       "      <td>1993</td>\n",
       "      <td>K</td>\n",
       "    </tr>\n",
       "    <tr>\n",
       "      <th>1</th>\n",
       "      <td>53</td>\n",
       "      <td>M</td>\n",
       "      <td>1974</td>\n",
       "      <td>1999</td>\n",
       "      <td>K</td>\n",
       "    </tr>\n",
       "    <tr>\n",
       "      <th>2</th>\n",
       "      <td>58</td>\n",
       "      <td>M</td>\n",
       "      <td>1974</td>\n",
       "      <td>1995</td>\n",
       "      <td>K</td>\n",
       "    </tr>\n",
       "    <tr>\n",
       "      <th>3</th>\n",
       "      <td>72</td>\n",
       "      <td>M</td>\n",
       "      <td>1974</td>\n",
       "      <td>1995</td>\n",
       "      <td>K</td>\n",
       "    </tr>\n",
       "    <tr>\n",
       "      <th>4</th>\n",
       "      <td>86</td>\n",
       "      <td>M</td>\n",
       "      <td>1974</td>\n",
       "      <td>1999</td>\n",
       "      <td>K</td>\n",
       "    </tr>\n",
       "  </tbody>\n",
       "</table>\n",
       "</div>"
      ],
      "text/plain": [
       "  codigo_alumno sexo  anio_nacimiento  anio_ingreso codigo_carrera_ingreso\n",
       "0            27    M             1974          1993                      K\n",
       "1            53    M             1974          1999                      K\n",
       "2            58    M             1974          1995                      K\n",
       "3            72    M             1974          1995                      K\n",
       "4            86    M             1974          1999                      K"
      ]
     },
     "execution_count": 6,
     "metadata": {},
     "output_type": "execute_result"
    }
   ],
   "source": [
    "datdf.head()"
   ]
  },
  {
   "cell_type": "code",
   "execution_count": 7,
   "metadata": {},
   "outputs": [],
   "source": [
    "# eliminamos los alumnos de alumnos_delete\n",
    "datdf = datdf[~datdf.codigo_alumno.isin(alumnos_delete.codigo_alumno)]"
   ]
  },
  {
   "cell_type": "code",
   "execution_count": 8,
   "metadata": {},
   "outputs": [
    {
     "data": {
      "text/plain": [
       "22157"
      ]
     },
     "execution_count": 8,
     "metadata": {},
     "output_type": "execute_result"
    }
   ],
   "source": [
    "datdf.codigo_alumno.nunique()"
   ]
  },
  {
   "cell_type": "code",
   "execution_count": 9,
   "metadata": {},
   "outputs": [
    {
     "data": {
      "text/plain": [
       "2673"
      ]
     },
     "execution_count": 9,
     "metadata": {},
     "output_type": "execute_result"
    }
   ],
   "source": [
    "24830 - 22157"
   ]
  },
  {
   "cell_type": "code",
   "execution_count": 10,
   "metadata": {},
   "outputs": [],
   "source": [
    "datdf.to_pickle('../data/raw_cleaned/datdf_01.pkl')\n",
    "datdf.to_csv('../data/raw_cleaned/datdf_01.csv',index=False)"
   ]
  },
  {
   "attachments": {},
   "cell_type": "markdown",
   "metadata": {},
   "source": [
    "## Datos de Cursadas"
   ]
  },
  {
   "cell_type": "code",
   "execution_count": 11,
   "metadata": {},
   "outputs": [
    {
     "data": {
      "text/html": [
       "<div>\n",
       "<style scoped>\n",
       "    .dataframe tbody tr th:only-of-type {\n",
       "        vertical-align: middle;\n",
       "    }\n",
       "\n",
       "    .dataframe tbody tr th {\n",
       "        vertical-align: top;\n",
       "    }\n",
       "\n",
       "    .dataframe thead th {\n",
       "        text-align: right;\n",
       "    }\n",
       "</style>\n",
       "<table border=\"1\" class=\"dataframe\">\n",
       "  <thead>\n",
       "    <tr style=\"text-align: right;\">\n",
       "      <th></th>\n",
       "      <th>codigo_alumno</th>\n",
       "      <th>curso</th>\n",
       "      <th>codigo_materia</th>\n",
       "      <th>departamento</th>\n",
       "      <th>modalidad</th>\n",
       "      <th>turno</th>\n",
       "      <th>ciclo_lectivo</th>\n",
       "      <th>tipo_de_aprobacion</th>\n",
       "      <th>cantidad_recursada_regular</th>\n",
       "      <th>descripción_recursada_regular</th>\n",
       "      <th>cantidad_recursada_libre</th>\n",
       "      <th>descripción_de_recursada_libre</th>\n",
       "    </tr>\n",
       "  </thead>\n",
       "  <tbody>\n",
       "    <tr>\n",
       "      <th>0</th>\n",
       "      <td>27</td>\n",
       "      <td>K5051</td>\n",
       "      <td>952037</td>\n",
       "      <td>NaN</td>\n",
       "      <td>Presencial</td>\n",
       "      <td>Noche</td>\n",
       "      <td>2006</td>\n",
       "      <td>Regularidad, Promoción</td>\n",
       "      <td>0</td>\n",
       "      <td>NaN</td>\n",
       "      <td>0</td>\n",
       "      <td>NaN</td>\n",
       "    </tr>\n",
       "    <tr>\n",
       "      <th>1</th>\n",
       "      <td>27</td>\n",
       "      <td>K5052</td>\n",
       "      <td>952052</td>\n",
       "      <td>NaN</td>\n",
       "      <td>Presencial</td>\n",
       "      <td>Noche</td>\n",
       "      <td>2006</td>\n",
       "      <td>Regularidad, Promoción</td>\n",
       "      <td>0</td>\n",
       "      <td>NaN</td>\n",
       "      <td>0</td>\n",
       "      <td>NaN</td>\n",
       "    </tr>\n",
       "    <tr>\n",
       "      <th>2</th>\n",
       "      <td>27</td>\n",
       "      <td>K5151</td>\n",
       "      <td>952054</td>\n",
       "      <td>NaN</td>\n",
       "      <td>Presencial</td>\n",
       "      <td>Noche</td>\n",
       "      <td>2006</td>\n",
       "      <td>Promoción, Regularidad</td>\n",
       "      <td>0</td>\n",
       "      <td>NaN</td>\n",
       "      <td>0</td>\n",
       "      <td>NaN</td>\n",
       "    </tr>\n",
       "    <tr>\n",
       "      <th>3</th>\n",
       "      <td>27</td>\n",
       "      <td>K5152</td>\n",
       "      <td>952056</td>\n",
       "      <td>NaN</td>\n",
       "      <td>Presencial</td>\n",
       "      <td>Noche</td>\n",
       "      <td>2006</td>\n",
       "      <td>Promoción, Regularidad</td>\n",
       "      <td>0</td>\n",
       "      <td>NaN</td>\n",
       "      <td>0</td>\n",
       "      <td>NaN</td>\n",
       "    </tr>\n",
       "    <tr>\n",
       "      <th>4</th>\n",
       "      <td>53</td>\n",
       "      <td>K4051</td>\n",
       "      <td>952046</td>\n",
       "      <td>NaN</td>\n",
       "      <td>Presencial</td>\n",
       "      <td>Noche</td>\n",
       "      <td>2010</td>\n",
       "      <td>Regularidad, Promoción</td>\n",
       "      <td>0</td>\n",
       "      <td>NaN</td>\n",
       "      <td>0</td>\n",
       "      <td>NaN</td>\n",
       "    </tr>\n",
       "  </tbody>\n",
       "</table>\n",
       "</div>"
      ],
      "text/plain": [
       "  codigo_alumno  curso codigo_materia departamento   modalidad  turno  \\\n",
       "0            27  K5051         952037          NaN  Presencial  Noche   \n",
       "1            27  K5052         952052          NaN  Presencial  Noche   \n",
       "2            27  K5151         952054          NaN  Presencial  Noche   \n",
       "3            27  K5152         952056          NaN  Presencial  Noche   \n",
       "4            53  K4051         952046          NaN  Presencial  Noche   \n",
       "\n",
       "   ciclo_lectivo      tipo_de_aprobacion  cantidad_recursada_regular  \\\n",
       "0           2006  Regularidad, Promoción                           0   \n",
       "1           2006  Regularidad, Promoción                           0   \n",
       "2           2006  Promoción, Regularidad                           0   \n",
       "3           2006  Promoción, Regularidad                           0   \n",
       "4           2010  Regularidad, Promoción                           0   \n",
       "\n",
       "  descripción_recursada_regular  cantidad_recursada_libre  \\\n",
       "0                           NaN                         0   \n",
       "1                           NaN                         0   \n",
       "2                           NaN                         0   \n",
       "3                           NaN                         0   \n",
       "4                           NaN                         0   \n",
       "\n",
       "   descripción_de_recursada_libre  \n",
       "0                             NaN  \n",
       "1                             NaN  \n",
       "2                             NaN  \n",
       "3                             NaN  \n",
       "4                             NaN  "
      ]
     },
     "execution_count": 11,
     "metadata": {},
     "output_type": "execute_result"
    }
   ],
   "source": [
    "curdf.head()"
   ]
  },
  {
   "cell_type": "code",
   "execution_count": 12,
   "metadata": {},
   "outputs": [],
   "source": [
    "# eliminamos los alumnos de alumnos_delete\n",
    "curdf = curdf[~curdf.codigo_alumno.isin(alumnos_delete.codigo_alumno)]"
   ]
  },
  {
   "attachments": {},
   "cell_type": "markdown",
   "metadata": {},
   "source": [
    "#### criterio\n",
    "\n",
    "Por ahora nose sabe cual es la diferencia entre `cant_recursada_regular` y `cant_recursada_libre` por lo que voy a juntar ambas variables en solo cant de resursadas y que el número se incremente segun la cantidad de registros ordenado por ciclo lectivo."
   ]
  },
  {
   "cell_type": "code",
   "execution_count": 13,
   "metadata": {},
   "outputs": [
    {
     "data": {
      "text/html": [
       "<div>\n",
       "<style scoped>\n",
       "    .dataframe tbody tr th:only-of-type {\n",
       "        vertical-align: middle;\n",
       "    }\n",
       "\n",
       "    .dataframe tbody tr th {\n",
       "        vertical-align: top;\n",
       "    }\n",
       "\n",
       "    .dataframe thead th {\n",
       "        text-align: right;\n",
       "    }\n",
       "</style>\n",
       "<table border=\"1\" class=\"dataframe\">\n",
       "  <thead>\n",
       "    <tr style=\"text-align: right;\">\n",
       "      <th></th>\n",
       "      <th>codigo_alumno</th>\n",
       "      <th>curso</th>\n",
       "      <th>codigo_materia</th>\n",
       "      <th>departamento</th>\n",
       "      <th>modalidad</th>\n",
       "      <th>turno</th>\n",
       "      <th>ciclo_lectivo</th>\n",
       "      <th>tipo_de_aprobacion</th>\n",
       "      <th>cantidad_recursada_regular</th>\n",
       "      <th>descripción_recursada_regular</th>\n",
       "      <th>cantidad_recursada_libre</th>\n",
       "      <th>descripción_de_recursada_libre</th>\n",
       "      <th>cant_cursada</th>\n",
       "      <th>cant_total_cursadas</th>\n",
       "    </tr>\n",
       "  </thead>\n",
       "  <tbody>\n",
       "    <tr>\n",
       "      <th>4494</th>\n",
       "      <td>10035</td>\n",
       "      <td>K4153</td>\n",
       "      <td>950310</td>\n",
       "      <td>Unidad Docente Básica Legislación y Economía</td>\n",
       "      <td>Presencial</td>\n",
       "      <td>Noche</td>\n",
       "      <td>2006</td>\n",
       "      <td>Regularidad, Promoción</td>\n",
       "      <td>0</td>\n",
       "      <td>NaN</td>\n",
       "      <td>0</td>\n",
       "      <td>NaN</td>\n",
       "      <td>1.0</td>\n",
       "      <td>1</td>\n",
       "    </tr>\n",
       "    <tr>\n",
       "      <th>4497</th>\n",
       "      <td>10035</td>\n",
       "      <td>K3051</td>\n",
       "      <td>952028</td>\n",
       "      <td>NaN</td>\n",
       "      <td>Presencial</td>\n",
       "      <td>Noche</td>\n",
       "      <td>2007</td>\n",
       "      <td>Promoción, Regularidad</td>\n",
       "      <td>0</td>\n",
       "      <td>NaN</td>\n",
       "      <td>0</td>\n",
       "      <td>NaN</td>\n",
       "      <td>1.0</td>\n",
       "      <td>1</td>\n",
       "    </tr>\n",
       "    <tr>\n",
       "      <th>4492</th>\n",
       "      <td>10035</td>\n",
       "      <td>K3001</td>\n",
       "      <td>952030</td>\n",
       "      <td>NaN</td>\n",
       "      <td>Presencial</td>\n",
       "      <td>Mañana</td>\n",
       "      <td>2006</td>\n",
       "      <td>Promoción, Regularidad</td>\n",
       "      <td>0</td>\n",
       "      <td>NaN</td>\n",
       "      <td>0</td>\n",
       "      <td>NaN</td>\n",
       "      <td>1.0</td>\n",
       "      <td>1</td>\n",
       "    </tr>\n",
       "    <tr>\n",
       "      <th>4498</th>\n",
       "      <td>10035</td>\n",
       "      <td>K3071</td>\n",
       "      <td>952031</td>\n",
       "      <td>NaN</td>\n",
       "      <td>Presencial</td>\n",
       "      <td>Noche</td>\n",
       "      <td>2007</td>\n",
       "      <td>Promoción, Regularidad</td>\n",
       "      <td>0</td>\n",
       "      <td>NaN</td>\n",
       "      <td>0</td>\n",
       "      <td>NaN</td>\n",
       "      <td>1.0</td>\n",
       "      <td>1</td>\n",
       "    </tr>\n",
       "    <tr>\n",
       "      <th>4502</th>\n",
       "      <td>10035</td>\n",
       "      <td>K4051</td>\n",
       "      <td>952033</td>\n",
       "      <td>Departamento de Ing. en Sistemas de Información</td>\n",
       "      <td>Presencial</td>\n",
       "      <td>Noche</td>\n",
       "      <td>2008</td>\n",
       "      <td>Promoción, Regularidad</td>\n",
       "      <td>0</td>\n",
       "      <td>NaN</td>\n",
       "      <td>0</td>\n",
       "      <td>NaN</td>\n",
       "      <td>1.0</td>\n",
       "      <td>1</td>\n",
       "    </tr>\n",
       "    <tr>\n",
       "      <th>...</th>\n",
       "      <td>...</td>\n",
       "      <td>...</td>\n",
       "      <td>...</td>\n",
       "      <td>...</td>\n",
       "      <td>...</td>\n",
       "      <td>...</td>\n",
       "      <td>...</td>\n",
       "      <td>...</td>\n",
       "      <td>...</td>\n",
       "      <td>...</td>\n",
       "      <td>...</td>\n",
       "      <td>...</td>\n",
       "      <td>...</td>\n",
       "      <td>...</td>\n",
       "    </tr>\n",
       "    <tr>\n",
       "      <th>4484</th>\n",
       "      <td>9983</td>\n",
       "      <td>K5071</td>\n",
       "      <td>952056</td>\n",
       "      <td>NaN</td>\n",
       "      <td>Presencial</td>\n",
       "      <td>Noche</td>\n",
       "      <td>2007</td>\n",
       "      <td>Regularidad, Promoción</td>\n",
       "      <td>0</td>\n",
       "      <td>NaN</td>\n",
       "      <td>0</td>\n",
       "      <td>NaN</td>\n",
       "      <td>1.0</td>\n",
       "      <td>1</td>\n",
       "    </tr>\n",
       "    <tr>\n",
       "      <th>4483</th>\n",
       "      <td>9983</td>\n",
       "      <td>K5071</td>\n",
       "      <td>952063</td>\n",
       "      <td>NaN</td>\n",
       "      <td>Presencial</td>\n",
       "      <td>Noche</td>\n",
       "      <td>2007</td>\n",
       "      <td>Promoción, Regularidad</td>\n",
       "      <td>0</td>\n",
       "      <td>NaN</td>\n",
       "      <td>0</td>\n",
       "      <td>NaN</td>\n",
       "      <td>1.0</td>\n",
       "      <td>1</td>\n",
       "    </tr>\n",
       "    <tr>\n",
       "      <th>4481</th>\n",
       "      <td>9983</td>\n",
       "      <td>K5051</td>\n",
       "      <td>952082</td>\n",
       "      <td>NaN</td>\n",
       "      <td>Presencial</td>\n",
       "      <td>Noche</td>\n",
       "      <td>2007</td>\n",
       "      <td>Regularidad, Promoción</td>\n",
       "      <td>0</td>\n",
       "      <td>NaN</td>\n",
       "      <td>0</td>\n",
       "      <td>NaN</td>\n",
       "      <td>1.0</td>\n",
       "      <td>1</td>\n",
       "    </tr>\n",
       "    <tr>\n",
       "      <th>4485</th>\n",
       "      <td>9985</td>\n",
       "      <td>K3052</td>\n",
       "      <td>952028</td>\n",
       "      <td>NaN</td>\n",
       "      <td>Presencial</td>\n",
       "      <td>Noche</td>\n",
       "      <td>2006</td>\n",
       "      <td>Regularidad, Promoción</td>\n",
       "      <td>0</td>\n",
       "      <td>NaN</td>\n",
       "      <td>0</td>\n",
       "      <td>NaN</td>\n",
       "      <td>1.0</td>\n",
       "      <td>1</td>\n",
       "    </tr>\n",
       "    <tr>\n",
       "      <th>4491</th>\n",
       "      <td>9992</td>\n",
       "      <td>Z2147</td>\n",
       "      <td>951602</td>\n",
       "      <td>Unidad Docente Básica Cultura e Idiomas</td>\n",
       "      <td>Presencial</td>\n",
       "      <td>Tarde</td>\n",
       "      <td>2006</td>\n",
       "      <td>Promoción, Regularidad</td>\n",
       "      <td>0</td>\n",
       "      <td>NaN</td>\n",
       "      <td>0</td>\n",
       "      <td>NaN</td>\n",
       "      <td>1.0</td>\n",
       "      <td>1</td>\n",
       "    </tr>\n",
       "  </tbody>\n",
       "</table>\n",
       "<p>510290 rows × 14 columns</p>\n",
       "</div>"
      ],
      "text/plain": [
       "     codigo_alumno  curso codigo_materia  \\\n",
       "4494         10035  K4153         950310   \n",
       "4497         10035  K3051         952028   \n",
       "4492         10035  K3001         952030   \n",
       "4498         10035  K3071         952031   \n",
       "4502         10035  K4051         952033   \n",
       "...            ...    ...            ...   \n",
       "4484          9983  K5071         952056   \n",
       "4483          9983  K5071         952063   \n",
       "4481          9983  K5051         952082   \n",
       "4485          9985  K3052         952028   \n",
       "4491          9992  Z2147         951602   \n",
       "\n",
       "                                         departamento   modalidad   turno  \\\n",
       "4494     Unidad Docente Básica Legislación y Economía  Presencial   Noche   \n",
       "4497                                              NaN  Presencial   Noche   \n",
       "4492                                              NaN  Presencial  Mañana   \n",
       "4498                                              NaN  Presencial   Noche   \n",
       "4502  Departamento de Ing. en Sistemas de Información  Presencial   Noche   \n",
       "...                                               ...         ...     ...   \n",
       "4484                                              NaN  Presencial   Noche   \n",
       "4483                                              NaN  Presencial   Noche   \n",
       "4481                                              NaN  Presencial   Noche   \n",
       "4485                                              NaN  Presencial   Noche   \n",
       "4491          Unidad Docente Básica Cultura e Idiomas  Presencial   Tarde   \n",
       "\n",
       "      ciclo_lectivo      tipo_de_aprobacion  cantidad_recursada_regular  \\\n",
       "4494           2006  Regularidad, Promoción                           0   \n",
       "4497           2007  Promoción, Regularidad                           0   \n",
       "4492           2006  Promoción, Regularidad                           0   \n",
       "4498           2007  Promoción, Regularidad                           0   \n",
       "4502           2008  Promoción, Regularidad                           0   \n",
       "...             ...                     ...                         ...   \n",
       "4484           2007  Regularidad, Promoción                           0   \n",
       "4483           2007  Promoción, Regularidad                           0   \n",
       "4481           2007  Regularidad, Promoción                           0   \n",
       "4485           2006  Regularidad, Promoción                           0   \n",
       "4491           2006  Promoción, Regularidad                           0   \n",
       "\n",
       "     descripción_recursada_regular  cantidad_recursada_libre  \\\n",
       "4494                           NaN                         0   \n",
       "4497                           NaN                         0   \n",
       "4492                           NaN                         0   \n",
       "4498                           NaN                         0   \n",
       "4502                           NaN                         0   \n",
       "...                            ...                       ...   \n",
       "4484                           NaN                         0   \n",
       "4483                           NaN                         0   \n",
       "4481                           NaN                         0   \n",
       "4485                           NaN                         0   \n",
       "4491                           NaN                         0   \n",
       "\n",
       "      descripción_de_recursada_libre  cant_cursada  cant_total_cursadas  \n",
       "4494                             NaN           1.0                    1  \n",
       "4497                             NaN           1.0                    1  \n",
       "4492                             NaN           1.0                    1  \n",
       "4498                             NaN           1.0                    1  \n",
       "4502                             NaN           1.0                    1  \n",
       "...                              ...           ...                  ...  \n",
       "4484                             NaN           1.0                    1  \n",
       "4483                             NaN           1.0                    1  \n",
       "4481                             NaN           1.0                    1  \n",
       "4485                             NaN           1.0                    1  \n",
       "4491                             NaN           1.0                    1  \n",
       "\n",
       "[510290 rows x 14 columns]"
      ]
     },
     "execution_count": 13,
     "metadata": {},
     "output_type": "execute_result"
    }
   ],
   "source": [
    "curdf_aux = curdf.sort_values(['codigo_alumno', 'codigo_materia', 'ciclo_lectivo'], ascending=True).copy()\n",
    "\n",
    "# agrupar y numero de fila\n",
    "curdf_aux['cant_cursada'] = curdf.groupby(['codigo_alumno', 'codigo_materia'])[['ciclo_lectivo']].transform('rank', method='first')\n",
    "\n",
    "curdf_aux['cant_total_cursadas'] = curdf.groupby(['codigo_alumno', 'codigo_materia'])[['ciclo_lectivo']].transform('count')\n",
    "curdf_aux"
   ]
  },
  {
   "attachments": {},
   "cell_type": "markdown",
   "metadata": {},
   "source": [
    "### Limpieza de columnas\n",
    "\n",
    "\n"
   ]
  },
  {
   "cell_type": "code",
   "execution_count": 14,
   "metadata": {},
   "outputs": [
    {
     "data": {
      "text/plain": [
       "Index(['codigo_alumno', 'curso', 'codigo_materia', 'departamento', 'modalidad',\n",
       "       'turno', 'ciclo_lectivo', 'tipo_de_aprobacion',\n",
       "       'cantidad_recursada_regular', 'descripción_recursada_regular',\n",
       "       'cantidad_recursada_libre', 'descripción_de_recursada_libre',\n",
       "       'cant_cursada', 'cant_total_cursadas'],\n",
       "      dtype='object')"
      ]
     },
     "execution_count": 14,
     "metadata": {},
     "output_type": "execute_result"
    }
   ],
   "source": [
    "curdf_aux.columns"
   ]
  },
  {
   "cell_type": "code",
   "execution_count": 15,
   "metadata": {},
   "outputs": [],
   "source": [
    "COLS = ['codigo_alumno', 'curso', 'codigo_materia', 'departamento', 'turno', 'ciclo_lectivo', 'cant_cursada', 'cant_total_cursadas']\n",
    "\n",
    "curdf_aux = curdf_aux[COLS]"
   ]
  },
  {
   "cell_type": "code",
   "execution_count": 16,
   "metadata": {},
   "outputs": [
    {
     "data": {
      "text/html": [
       "<div>\n",
       "<style scoped>\n",
       "    .dataframe tbody tr th:only-of-type {\n",
       "        vertical-align: middle;\n",
       "    }\n",
       "\n",
       "    .dataframe tbody tr th {\n",
       "        vertical-align: top;\n",
       "    }\n",
       "\n",
       "    .dataframe thead th {\n",
       "        text-align: right;\n",
       "    }\n",
       "</style>\n",
       "<table border=\"1\" class=\"dataframe\">\n",
       "  <thead>\n",
       "    <tr style=\"text-align: right;\">\n",
       "      <th></th>\n",
       "      <th>codigo_alumno</th>\n",
       "      <th>curso</th>\n",
       "      <th>codigo_materia</th>\n",
       "      <th>departamento</th>\n",
       "      <th>turno</th>\n",
       "      <th>ciclo_lectivo</th>\n",
       "      <th>cant_cursada</th>\n",
       "      <th>cant_total_cursadas</th>\n",
       "    </tr>\n",
       "  </thead>\n",
       "  <tbody>\n",
       "    <tr>\n",
       "      <th>4494</th>\n",
       "      <td>10035</td>\n",
       "      <td>K4153</td>\n",
       "      <td>950310</td>\n",
       "      <td>Unidad Docente Básica Legislación y Economía</td>\n",
       "      <td>Noche</td>\n",
       "      <td>2006</td>\n",
       "      <td>1.0</td>\n",
       "      <td>1</td>\n",
       "    </tr>\n",
       "    <tr>\n",
       "      <th>4497</th>\n",
       "      <td>10035</td>\n",
       "      <td>K3051</td>\n",
       "      <td>952028</td>\n",
       "      <td>NaN</td>\n",
       "      <td>Noche</td>\n",
       "      <td>2007</td>\n",
       "      <td>1.0</td>\n",
       "      <td>1</td>\n",
       "    </tr>\n",
       "    <tr>\n",
       "      <th>4492</th>\n",
       "      <td>10035</td>\n",
       "      <td>K3001</td>\n",
       "      <td>952030</td>\n",
       "      <td>NaN</td>\n",
       "      <td>Mañana</td>\n",
       "      <td>2006</td>\n",
       "      <td>1.0</td>\n",
       "      <td>1</td>\n",
       "    </tr>\n",
       "    <tr>\n",
       "      <th>4498</th>\n",
       "      <td>10035</td>\n",
       "      <td>K3071</td>\n",
       "      <td>952031</td>\n",
       "      <td>NaN</td>\n",
       "      <td>Noche</td>\n",
       "      <td>2007</td>\n",
       "      <td>1.0</td>\n",
       "      <td>1</td>\n",
       "    </tr>\n",
       "    <tr>\n",
       "      <th>4502</th>\n",
       "      <td>10035</td>\n",
       "      <td>K4051</td>\n",
       "      <td>952033</td>\n",
       "      <td>Departamento de Ing. en Sistemas de Información</td>\n",
       "      <td>Noche</td>\n",
       "      <td>2008</td>\n",
       "      <td>1.0</td>\n",
       "      <td>1</td>\n",
       "    </tr>\n",
       "  </tbody>\n",
       "</table>\n",
       "</div>"
      ],
      "text/plain": [
       "     codigo_alumno  curso codigo_materia  \\\n",
       "4494         10035  K4153         950310   \n",
       "4497         10035  K3051         952028   \n",
       "4492         10035  K3001         952030   \n",
       "4498         10035  K3071         952031   \n",
       "4502         10035  K4051         952033   \n",
       "\n",
       "                                         departamento   turno  ciclo_lectivo  \\\n",
       "4494     Unidad Docente Básica Legislación y Economía   Noche           2006   \n",
       "4497                                              NaN   Noche           2007   \n",
       "4492                                              NaN  Mañana           2006   \n",
       "4498                                              NaN   Noche           2007   \n",
       "4502  Departamento de Ing. en Sistemas de Información   Noche           2008   \n",
       "\n",
       "      cant_cursada  cant_total_cursadas  \n",
       "4494           1.0                    1  \n",
       "4497           1.0                    1  \n",
       "4492           1.0                    1  \n",
       "4498           1.0                    1  \n",
       "4502           1.0                    1  "
      ]
     },
     "execution_count": 16,
     "metadata": {},
     "output_type": "execute_result"
    }
   ],
   "source": [
    "curdf_aux.head()"
   ]
  },
  {
   "cell_type": "code",
   "execution_count": 17,
   "metadata": {},
   "outputs": [
    {
     "data": {
      "text/plain": [
       "22157"
      ]
     },
     "execution_count": 17,
     "metadata": {},
     "output_type": "execute_result"
    }
   ],
   "source": [
    "curdf_aux.codigo_alumno.nunique()"
   ]
  },
  {
   "cell_type": "code",
   "execution_count": 18,
   "metadata": {},
   "outputs": [],
   "source": [
    "curdf = curdf_aux.copy()"
   ]
  },
  {
   "cell_type": "code",
   "execution_count": 19,
   "metadata": {},
   "outputs": [],
   "source": [
    "curdf.to_pickle('../data/raw_cleaned/curdf_01.pkl')\n",
    "curdf.to_csv('../data/raw_cleaned/curdf_01.csv',index=False)"
   ]
  },
  {
   "attachments": {},
   "cell_type": "markdown",
   "metadata": {},
   "source": [
    "## Dataset Cursadas complementario"
   ]
  },
  {
   "cell_type": "code",
   "execution_count": 20,
   "metadata": {},
   "outputs": [
    {
     "data": {
      "text/plain": [
       "705"
      ]
     },
     "execution_count": 20,
     "metadata": {},
     "output_type": "execute_result"
    }
   ],
   "source": [
    "curdf.codigo_materia.nunique()"
   ]
  },
  {
   "cell_type": "code",
   "execution_count": 21,
   "metadata": {},
   "outputs": [
    {
     "data": {
      "text/plain": [
       "1099"
      ]
     },
     "execution_count": 21,
     "metadata": {},
     "output_type": "execute_result"
    }
   ],
   "source": [
    "findf.codigo_materia.nunique()"
   ]
  },
  {
   "cell_type": "code",
   "execution_count": 22,
   "metadata": {},
   "outputs": [],
   "source": [
    "# eliminamos los alumnos de alumnos_delete\n",
    "findf = findf[~findf.codigo_alumno.isin(alumnos_delete.codigo_alumno)]"
   ]
  },
  {
   "cell_type": "code",
   "execution_count": 23,
   "metadata": {},
   "outputs": [
    {
     "data": {
      "text/plain": [
       "1093"
      ]
     },
     "execution_count": 23,
     "metadata": {},
     "output_type": "execute_result"
    }
   ],
   "source": [
    "findf.codigo_materia.nunique()"
   ]
  },
  {
   "cell_type": "code",
   "execution_count": 24,
   "metadata": {},
   "outputs": [
    {
     "data": {
      "text/plain": [
       "22157"
      ]
     },
     "execution_count": 24,
     "metadata": {},
     "output_type": "execute_result"
    }
   ],
   "source": [
    "findf.codigo_alumno.nunique()"
   ]
  },
  {
   "cell_type": "code",
   "execution_count": 25,
   "metadata": {},
   "outputs": [
    {
     "data": {
      "text/plain": [
       "Index(['codigo_alumno', 'codigo_materia', 'anio_academico', 'nota', 'aprobado',\n",
       "       'promociono', 'año_cursada', 'anio_academico_str', 'anio_cursada_str',\n",
       "       'tipo_aprobacion', 'nota_comb', 'nota_num', 'nota_cual', 'nota_txt'],\n",
       "      dtype='object')"
      ]
     },
     "execution_count": 25,
     "metadata": {},
     "output_type": "execute_result"
    }
   ],
   "source": [
    "findf.columns"
   ]
  },
  {
   "cell_type": "code",
   "execution_count": 26,
   "metadata": {},
   "outputs": [
    {
     "data": {
      "text/html": [
       "<div>\n",
       "<style scoped>\n",
       "    .dataframe tbody tr th:only-of-type {\n",
       "        vertical-align: middle;\n",
       "    }\n",
       "\n",
       "    .dataframe tbody tr th {\n",
       "        vertical-align: top;\n",
       "    }\n",
       "\n",
       "    .dataframe thead th {\n",
       "        text-align: right;\n",
       "    }\n",
       "</style>\n",
       "<table border=\"1\" class=\"dataframe\">\n",
       "  <thead>\n",
       "    <tr style=\"text-align: right;\">\n",
       "      <th></th>\n",
       "      <th>codigo_alumno</th>\n",
       "      <th>codigo_materia</th>\n",
       "      <th>anio_academico</th>\n",
       "      <th>nota</th>\n",
       "      <th>aprobado</th>\n",
       "      <th>promociono</th>\n",
       "      <th>año_cursada</th>\n",
       "      <th>anio_academico_str</th>\n",
       "      <th>anio_cursada_str</th>\n",
       "      <th>tipo_aprobacion</th>\n",
       "      <th>nota_comb</th>\n",
       "      <th>nota_num</th>\n",
       "      <th>nota_cual</th>\n",
       "      <th>nota_txt</th>\n",
       "    </tr>\n",
       "  </thead>\n",
       "  <tbody>\n",
       "    <tr>\n",
       "      <th>0</th>\n",
       "      <td>27</td>\n",
       "      <td>850783</td>\n",
       "      <td>1993.0</td>\n",
       "      <td>10</td>\n",
       "      <td>10</td>\n",
       "      <td>NaN</td>\n",
       "      <td>NaN</td>\n",
       "      <td>1993.0</td>\n",
       "      <td>nan</td>\n",
       "      <td>Aprobacion</td>\n",
       "      <td>10</td>\n",
       "      <td>10.0</td>\n",
       "      <td>NaN</td>\n",
       "      <td>Aprobada</td>\n",
       "    </tr>\n",
       "    <tr>\n",
       "      <th>1</th>\n",
       "      <td>27</td>\n",
       "      <td>850783</td>\n",
       "      <td>1993.0</td>\n",
       "      <td>2</td>\n",
       "      <td>NaN</td>\n",
       "      <td>NaN</td>\n",
       "      <td>NaN</td>\n",
       "      <td>1993.0</td>\n",
       "      <td>nan</td>\n",
       "      <td>Aprobacion</td>\n",
       "      <td>2</td>\n",
       "      <td>2.0</td>\n",
       "      <td>NaN</td>\n",
       "      <td>No Aprobada</td>\n",
       "    </tr>\n",
       "    <tr>\n",
       "      <th>2</th>\n",
       "      <td>27</td>\n",
       "      <td>881347</td>\n",
       "      <td>1994.0</td>\n",
       "      <td>7</td>\n",
       "      <td>7</td>\n",
       "      <td>NaN</td>\n",
       "      <td>NaN</td>\n",
       "      <td>1994.0</td>\n",
       "      <td>nan</td>\n",
       "      <td>Aprobacion</td>\n",
       "      <td>7</td>\n",
       "      <td>7.0</td>\n",
       "      <td>NaN</td>\n",
       "      <td>Aprobada</td>\n",
       "    </tr>\n",
       "    <tr>\n",
       "      <th>3</th>\n",
       "      <td>27</td>\n",
       "      <td>952020</td>\n",
       "      <td>1997.0</td>\n",
       "      <td>4</td>\n",
       "      <td>4</td>\n",
       "      <td>NaN</td>\n",
       "      <td>NaN</td>\n",
       "      <td>1997.0</td>\n",
       "      <td>nan</td>\n",
       "      <td>Aprobacion</td>\n",
       "      <td>4</td>\n",
       "      <td>4.0</td>\n",
       "      <td>NaN</td>\n",
       "      <td>Aprobada</td>\n",
       "    </tr>\n",
       "    <tr>\n",
       "      <th>4</th>\n",
       "      <td>27</td>\n",
       "      <td>952021</td>\n",
       "      <td>1997.0</td>\n",
       "      <td>5</td>\n",
       "      <td>5</td>\n",
       "      <td>NaN</td>\n",
       "      <td>NaN</td>\n",
       "      <td>1997.0</td>\n",
       "      <td>nan</td>\n",
       "      <td>Aprobacion</td>\n",
       "      <td>5</td>\n",
       "      <td>5.0</td>\n",
       "      <td>NaN</td>\n",
       "      <td>Aprobada</td>\n",
       "    </tr>\n",
       "  </tbody>\n",
       "</table>\n",
       "</div>"
      ],
      "text/plain": [
       "  codigo_alumno codigo_materia  anio_academico nota aprobado promociono  \\\n",
       "0            27         850783          1993.0   10       10        NaN   \n",
       "1            27         850783          1993.0    2      NaN        NaN   \n",
       "2            27         881347          1994.0    7        7        NaN   \n",
       "3            27         952020          1997.0    4        4        NaN   \n",
       "4            27         952021          1997.0    5        5        NaN   \n",
       "\n",
       "   año_cursada anio_academico_str anio_cursada_str tipo_aprobacion nota_comb  \\\n",
       "0          NaN             1993.0              nan      Aprobacion        10   \n",
       "1          NaN             1993.0              nan      Aprobacion         2   \n",
       "2          NaN             1994.0              nan      Aprobacion         7   \n",
       "3          NaN             1997.0              nan      Aprobacion         4   \n",
       "4          NaN             1997.0              nan      Aprobacion         5   \n",
       "\n",
       "   nota_num nota_cual     nota_txt  \n",
       "0      10.0       NaN     Aprobada  \n",
       "1       2.0       NaN  No Aprobada  \n",
       "2       7.0       NaN     Aprobada  \n",
       "3       4.0       NaN     Aprobada  \n",
       "4       5.0       NaN     Aprobada  "
      ]
     },
     "execution_count": 26,
     "metadata": {},
     "output_type": "execute_result"
    }
   ],
   "source": [
    "findf.head()"
   ]
  },
  {
   "cell_type": "code",
   "execution_count": 27,
   "metadata": {},
   "outputs": [
    {
     "data": {
      "text/html": [
       "<div>\n",
       "<style scoped>\n",
       "    .dataframe tbody tr th:only-of-type {\n",
       "        vertical-align: middle;\n",
       "    }\n",
       "\n",
       "    .dataframe tbody tr th {\n",
       "        vertical-align: top;\n",
       "    }\n",
       "\n",
       "    .dataframe thead th {\n",
       "        text-align: right;\n",
       "    }\n",
       "</style>\n",
       "<table border=\"1\" class=\"dataframe\">\n",
       "  <thead>\n",
       "    <tr style=\"text-align: right;\">\n",
       "      <th></th>\n",
       "      <th>codigo_alumno</th>\n",
       "      <th>codigo_materia</th>\n",
       "      <th>anio_academico</th>\n",
       "      <th>nota_num</th>\n",
       "      <th>nota_cual</th>\n",
       "      <th>nota_txt</th>\n",
       "      <th>año_cursada</th>\n",
       "    </tr>\n",
       "  </thead>\n",
       "  <tbody>\n",
       "    <tr>\n",
       "      <th>0</th>\n",
       "      <td>27</td>\n",
       "      <td>850783</td>\n",
       "      <td>1993.0</td>\n",
       "      <td>10.0</td>\n",
       "      <td>NaN</td>\n",
       "      <td>Aprobada</td>\n",
       "      <td>NaN</td>\n",
       "    </tr>\n",
       "    <tr>\n",
       "      <th>1</th>\n",
       "      <td>27</td>\n",
       "      <td>850783</td>\n",
       "      <td>1993.0</td>\n",
       "      <td>2.0</td>\n",
       "      <td>NaN</td>\n",
       "      <td>No Aprobada</td>\n",
       "      <td>NaN</td>\n",
       "    </tr>\n",
       "    <tr>\n",
       "      <th>2</th>\n",
       "      <td>27</td>\n",
       "      <td>881347</td>\n",
       "      <td>1994.0</td>\n",
       "      <td>7.0</td>\n",
       "      <td>NaN</td>\n",
       "      <td>Aprobada</td>\n",
       "      <td>NaN</td>\n",
       "    </tr>\n",
       "    <tr>\n",
       "      <th>3</th>\n",
       "      <td>27</td>\n",
       "      <td>952020</td>\n",
       "      <td>1997.0</td>\n",
       "      <td>4.0</td>\n",
       "      <td>NaN</td>\n",
       "      <td>Aprobada</td>\n",
       "      <td>NaN</td>\n",
       "    </tr>\n",
       "    <tr>\n",
       "      <th>4</th>\n",
       "      <td>27</td>\n",
       "      <td>952021</td>\n",
       "      <td>1997.0</td>\n",
       "      <td>5.0</td>\n",
       "      <td>NaN</td>\n",
       "      <td>Aprobada</td>\n",
       "      <td>NaN</td>\n",
       "    </tr>\n",
       "  </tbody>\n",
       "</table>\n",
       "</div>"
      ],
      "text/plain": [
       "  codigo_alumno codigo_materia  anio_academico  nota_num nota_cual  \\\n",
       "0            27         850783          1993.0      10.0       NaN   \n",
       "1            27         850783          1993.0       2.0       NaN   \n",
       "2            27         881347          1994.0       7.0       NaN   \n",
       "3            27         952020          1997.0       4.0       NaN   \n",
       "4            27         952021          1997.0       5.0       NaN   \n",
       "\n",
       "      nota_txt  año_cursada  \n",
       "0     Aprobada          NaN  \n",
       "1  No Aprobada          NaN  \n",
       "2     Aprobada          NaN  \n",
       "3     Aprobada          NaN  \n",
       "4     Aprobada          NaN  "
      ]
     },
     "execution_count": 27,
     "metadata": {},
     "output_type": "execute_result"
    }
   ],
   "source": [
    "COLS = ['codigo_alumno', 'codigo_materia', 'anio_academico', 'nota_num', 'nota_cual', 'nota_txt', 'año_cursada',]\n",
    "\n",
    "findf = findf[COLS]\n",
    "\n",
    "findf.head()"
   ]
  },
  {
   "cell_type": "code",
   "execution_count": 28,
   "metadata": {},
   "outputs": [
    {
     "data": {
      "text/html": [
       "<div>\n",
       "<style scoped>\n",
       "    .dataframe tbody tr th:only-of-type {\n",
       "        vertical-align: middle;\n",
       "    }\n",
       "\n",
       "    .dataframe tbody tr th {\n",
       "        vertical-align: top;\n",
       "    }\n",
       "\n",
       "    .dataframe thead th {\n",
       "        text-align: right;\n",
       "    }\n",
       "</style>\n",
       "<table border=\"1\" class=\"dataframe\">\n",
       "  <thead>\n",
       "    <tr style=\"text-align: right;\">\n",
       "      <th></th>\n",
       "      <th>codigo_alumno</th>\n",
       "      <th>codigo_materia</th>\n",
       "      <th>anio_academico</th>\n",
       "      <th>nota_num</th>\n",
       "      <th>nota_cual</th>\n",
       "      <th>nota_txt</th>\n",
       "      <th>año_cursada</th>\n",
       "      <th>cant_finales</th>\n",
       "    </tr>\n",
       "  </thead>\n",
       "  <tbody>\n",
       "    <tr>\n",
       "      <th>20181</th>\n",
       "      <td>10035</td>\n",
       "      <td>950309</td>\n",
       "      <td>2006.0</td>\n",
       "      <td>2.0</td>\n",
       "      <td>NaN</td>\n",
       "      <td>No Aprobada</td>\n",
       "      <td>NaN</td>\n",
       "      <td>1.0</td>\n",
       "    </tr>\n",
       "    <tr>\n",
       "      <th>20182</th>\n",
       "      <td>10035</td>\n",
       "      <td>950309</td>\n",
       "      <td>2006.0</td>\n",
       "      <td>4.0</td>\n",
       "      <td>NaN</td>\n",
       "      <td>Aprobada</td>\n",
       "      <td>NaN</td>\n",
       "      <td>2.0</td>\n",
       "    </tr>\n",
       "    <tr>\n",
       "      <th>20183</th>\n",
       "      <td>10035</td>\n",
       "      <td>950310</td>\n",
       "      <td>2006.0</td>\n",
       "      <td>7.0</td>\n",
       "      <td>NaN</td>\n",
       "      <td>Aprobada</td>\n",
       "      <td>2006.0</td>\n",
       "      <td>1.0</td>\n",
       "    </tr>\n",
       "    <tr>\n",
       "      <th>20173</th>\n",
       "      <td>10035</td>\n",
       "      <td>950611</td>\n",
       "      <td>2004.0</td>\n",
       "      <td>4.0</td>\n",
       "      <td>NaN</td>\n",
       "      <td>Aprobada</td>\n",
       "      <td>NaN</td>\n",
       "      <td>1.0</td>\n",
       "    </tr>\n",
       "    <tr>\n",
       "      <th>20166</th>\n",
       "      <td>10035</td>\n",
       "      <td>950701</td>\n",
       "      <td>2003.0</td>\n",
       "      <td>4.0</td>\n",
       "      <td>NaN</td>\n",
       "      <td>Aprobada</td>\n",
       "      <td>NaN</td>\n",
       "      <td>1.0</td>\n",
       "    </tr>\n",
       "  </tbody>\n",
       "</table>\n",
       "</div>"
      ],
      "text/plain": [
       "      codigo_alumno codigo_materia  anio_academico  nota_num nota_cual  \\\n",
       "20181         10035         950309          2006.0       2.0       NaN   \n",
       "20182         10035         950309          2006.0       4.0       NaN   \n",
       "20183         10035         950310          2006.0       7.0       NaN   \n",
       "20173         10035         950611          2004.0       4.0       NaN   \n",
       "20166         10035         950701          2003.0       4.0       NaN   \n",
       "\n",
       "          nota_txt  año_cursada  cant_finales  \n",
       "20181  No Aprobada          NaN           1.0  \n",
       "20182     Aprobada          NaN           2.0  \n",
       "20183     Aprobada       2006.0           1.0  \n",
       "20173     Aprobada          NaN           1.0  \n",
       "20166     Aprobada          NaN           1.0  "
      ]
     },
     "execution_count": 28,
     "metadata": {},
     "output_type": "execute_result"
    }
   ],
   "source": [
    "findf = findf.sort_values(['codigo_alumno', 'codigo_materia', 'anio_academico', 'nota_num'], ascending=True).copy()\n",
    "\n",
    "findf['cant_finales'] = findf.groupby(['codigo_alumno', 'codigo_materia'])[['anio_academico']].transform('rank', method='first')\n",
    "\n",
    "findf.head()"
   ]
  },
  {
   "cell_type": "code",
   "execution_count": 29,
   "metadata": {},
   "outputs": [
    {
     "data": {
      "text/plain": [
       "0"
      ]
     },
     "execution_count": 29,
     "metadata": {},
     "output_type": "execute_result"
    }
   ],
   "source": [
    "findf.duplicated().sum()"
   ]
  },
  {
   "attachments": {},
   "cell_type": "markdown",
   "metadata": {},
   "source": [
    "## ACA esta el problema, tiene que ser por el par alumno manteria y no solo materia"
   ]
  },
  {
   "cell_type": "code",
   "execution_count": 30,
   "metadata": {},
   "outputs": [
    {
     "data": {
      "text/plain": [
       "1034"
      ]
     },
     "execution_count": 30,
     "metadata": {},
     "output_type": "execute_result"
    }
   ],
   "source": [
    "finaux = findf.copy()\n",
    "curaux = curdf.copy()\n",
    "\n",
    "finaux['almat'] = finaux.codigo_alumno.astype(str) + '_' + finaux.codigo_materia.astype(str)\n",
    "curaux['almat'] = curaux.codigo_alumno.astype(str) + '_' + curaux.codigo_materia.astype(str)\n",
    "\n",
    "aux = finaux[~finaux.almat.isin(curaux.almat)].copy()\n",
    "\n",
    "aux.codigo_materia.nunique()\n",
    "\n",
    "# eliminamos los alumnos de alumnos_delete\n",
    "#findf = findf[~findf.codigo_alumno.isin(alumnos_delete.codigo_alumno)]"
   ]
  },
  {
   "cell_type": "code",
   "execution_count": 31,
   "metadata": {},
   "outputs": [
    {
     "data": {
      "text/plain": [
       "16655"
      ]
     },
     "execution_count": 31,
     "metadata": {},
     "output_type": "execute_result"
    }
   ],
   "source": [
    "aux.codigo_alumno.nunique()"
   ]
  },
  {
   "attachments": {},
   "cell_type": "markdown",
   "metadata": {},
   "source": [
    "### Criterio\n",
    "\n",
    "no se pueden eliminar los alumnos que tienen codigo_materia en el datset de finales pero que no esta en cursadas porque nos quedamos sin datos\n",
    "\n",
    "- se puede tomar el dato del año de cursada como el dato faltante de cuadno se cursó"
   ]
  },
  {
   "cell_type": "code",
   "execution_count": 32,
   "metadata": {},
   "outputs": [
    {
     "data": {
      "text/plain": [
       "(218630, 9)"
      ]
     },
     "execution_count": 32,
     "metadata": {},
     "output_type": "execute_result"
    }
   ],
   "source": [
    "aux.shape"
   ]
  },
  {
   "cell_type": "code",
   "execution_count": 33,
   "metadata": {},
   "outputs": [
    {
     "data": {
      "text/html": [
       "<div>\n",
       "<style scoped>\n",
       "    .dataframe tbody tr th:only-of-type {\n",
       "        vertical-align: middle;\n",
       "    }\n",
       "\n",
       "    .dataframe tbody tr th {\n",
       "        vertical-align: top;\n",
       "    }\n",
       "\n",
       "    .dataframe thead th {\n",
       "        text-align: right;\n",
       "    }\n",
       "</style>\n",
       "<table border=\"1\" class=\"dataframe\">\n",
       "  <thead>\n",
       "    <tr style=\"text-align: right;\">\n",
       "      <th></th>\n",
       "      <th>codigo_alumno</th>\n",
       "      <th>codigo_materia</th>\n",
       "      <th>anio_academico</th>\n",
       "      <th>nota_num</th>\n",
       "      <th>nota_cual</th>\n",
       "      <th>nota_txt</th>\n",
       "      <th>año_cursada</th>\n",
       "      <th>cant_finales</th>\n",
       "      <th>almat</th>\n",
       "    </tr>\n",
       "  </thead>\n",
       "  <tbody>\n",
       "    <tr>\n",
       "      <th>20181</th>\n",
       "      <td>10035</td>\n",
       "      <td>950309</td>\n",
       "      <td>2006.0</td>\n",
       "      <td>2.0</td>\n",
       "      <td>NaN</td>\n",
       "      <td>No Aprobada</td>\n",
       "      <td>NaN</td>\n",
       "      <td>1.0</td>\n",
       "      <td>10035_950309</td>\n",
       "    </tr>\n",
       "    <tr>\n",
       "      <th>20182</th>\n",
       "      <td>10035</td>\n",
       "      <td>950309</td>\n",
       "      <td>2006.0</td>\n",
       "      <td>4.0</td>\n",
       "      <td>NaN</td>\n",
       "      <td>Aprobada</td>\n",
       "      <td>NaN</td>\n",
       "      <td>2.0</td>\n",
       "      <td>10035_950309</td>\n",
       "    </tr>\n",
       "    <tr>\n",
       "      <th>20173</th>\n",
       "      <td>10035</td>\n",
       "      <td>950611</td>\n",
       "      <td>2004.0</td>\n",
       "      <td>4.0</td>\n",
       "      <td>NaN</td>\n",
       "      <td>Aprobada</td>\n",
       "      <td>NaN</td>\n",
       "      <td>1.0</td>\n",
       "      <td>10035_950611</td>\n",
       "    </tr>\n",
       "    <tr>\n",
       "      <th>20166</th>\n",
       "      <td>10035</td>\n",
       "      <td>950701</td>\n",
       "      <td>2003.0</td>\n",
       "      <td>4.0</td>\n",
       "      <td>NaN</td>\n",
       "      <td>Aprobada</td>\n",
       "      <td>NaN</td>\n",
       "      <td>1.0</td>\n",
       "      <td>10035_950701</td>\n",
       "    </tr>\n",
       "    <tr>\n",
       "      <th>20167</th>\n",
       "      <td>10035</td>\n",
       "      <td>950702</td>\n",
       "      <td>2003.0</td>\n",
       "      <td>2.0</td>\n",
       "      <td>NaN</td>\n",
       "      <td>No Aprobada</td>\n",
       "      <td>NaN</td>\n",
       "      <td>1.0</td>\n",
       "      <td>10035_950702</td>\n",
       "    </tr>\n",
       "  </tbody>\n",
       "</table>\n",
       "</div>"
      ],
      "text/plain": [
       "      codigo_alumno codigo_materia  anio_academico  nota_num nota_cual  \\\n",
       "20181         10035         950309          2006.0       2.0       NaN   \n",
       "20182         10035         950309          2006.0       4.0       NaN   \n",
       "20173         10035         950611          2004.0       4.0       NaN   \n",
       "20166         10035         950701          2003.0       4.0       NaN   \n",
       "20167         10035         950702          2003.0       2.0       NaN   \n",
       "\n",
       "          nota_txt  año_cursada  cant_finales         almat  \n",
       "20181  No Aprobada          NaN           1.0  10035_950309  \n",
       "20182     Aprobada          NaN           2.0  10035_950309  \n",
       "20173     Aprobada          NaN           1.0  10035_950611  \n",
       "20166     Aprobada          NaN           1.0  10035_950701  \n",
       "20167  No Aprobada          NaN           1.0  10035_950702  "
      ]
     },
     "execution_count": 33,
     "metadata": {},
     "output_type": "execute_result"
    }
   ],
   "source": [
    "aux.head()\n"
   ]
  },
  {
   "cell_type": "code",
   "execution_count": 34,
   "metadata": {},
   "outputs": [
    {
     "data": {
      "text/html": [
       "<div>\n",
       "<style scoped>\n",
       "    .dataframe tbody tr th:only-of-type {\n",
       "        vertical-align: middle;\n",
       "    }\n",
       "\n",
       "    .dataframe tbody tr th {\n",
       "        vertical-align: top;\n",
       "    }\n",
       "\n",
       "    .dataframe thead th {\n",
       "        text-align: right;\n",
       "    }\n",
       "</style>\n",
       "<table border=\"1\" class=\"dataframe\">\n",
       "  <thead>\n",
       "    <tr style=\"text-align: right;\">\n",
       "      <th></th>\n",
       "      <th>codigo_alumno</th>\n",
       "      <th>codigo_materia</th>\n",
       "      <th>anio_academico</th>\n",
       "      <th>nota_num</th>\n",
       "      <th>nota_cual</th>\n",
       "      <th>nota_txt</th>\n",
       "      <th>año_cursada</th>\n",
       "      <th>cant_finales</th>\n",
       "      <th>almat</th>\n",
       "      <th>anio_cursada</th>\n",
       "    </tr>\n",
       "  </thead>\n",
       "  <tbody>\n",
       "    <tr>\n",
       "      <th>20181</th>\n",
       "      <td>10035</td>\n",
       "      <td>950309</td>\n",
       "      <td>2006.0</td>\n",
       "      <td>2.0</td>\n",
       "      <td>NaN</td>\n",
       "      <td>No Aprobada</td>\n",
       "      <td>NaN</td>\n",
       "      <td>1.0</td>\n",
       "      <td>10035_950309</td>\n",
       "      <td>2006.0</td>\n",
       "    </tr>\n",
       "    <tr>\n",
       "      <th>20182</th>\n",
       "      <td>10035</td>\n",
       "      <td>950309</td>\n",
       "      <td>2006.0</td>\n",
       "      <td>4.0</td>\n",
       "      <td>NaN</td>\n",
       "      <td>Aprobada</td>\n",
       "      <td>NaN</td>\n",
       "      <td>2.0</td>\n",
       "      <td>10035_950309</td>\n",
       "      <td>2006.0</td>\n",
       "    </tr>\n",
       "    <tr>\n",
       "      <th>20173</th>\n",
       "      <td>10035</td>\n",
       "      <td>950611</td>\n",
       "      <td>2004.0</td>\n",
       "      <td>4.0</td>\n",
       "      <td>NaN</td>\n",
       "      <td>Aprobada</td>\n",
       "      <td>NaN</td>\n",
       "      <td>1.0</td>\n",
       "      <td>10035_950611</td>\n",
       "      <td>2004.0</td>\n",
       "    </tr>\n",
       "    <tr>\n",
       "      <th>20166</th>\n",
       "      <td>10035</td>\n",
       "      <td>950701</td>\n",
       "      <td>2003.0</td>\n",
       "      <td>4.0</td>\n",
       "      <td>NaN</td>\n",
       "      <td>Aprobada</td>\n",
       "      <td>NaN</td>\n",
       "      <td>1.0</td>\n",
       "      <td>10035_950701</td>\n",
       "      <td>2003.0</td>\n",
       "    </tr>\n",
       "    <tr>\n",
       "      <th>20167</th>\n",
       "      <td>10035</td>\n",
       "      <td>950702</td>\n",
       "      <td>2003.0</td>\n",
       "      <td>2.0</td>\n",
       "      <td>NaN</td>\n",
       "      <td>No Aprobada</td>\n",
       "      <td>NaN</td>\n",
       "      <td>1.0</td>\n",
       "      <td>10035_950702</td>\n",
       "      <td>2003.0</td>\n",
       "    </tr>\n",
       "  </tbody>\n",
       "</table>\n",
       "</div>"
      ],
      "text/plain": [
       "      codigo_alumno codigo_materia  anio_academico  nota_num nota_cual  \\\n",
       "20181         10035         950309          2006.0       2.0       NaN   \n",
       "20182         10035         950309          2006.0       4.0       NaN   \n",
       "20173         10035         950611          2004.0       4.0       NaN   \n",
       "20166         10035         950701          2003.0       4.0       NaN   \n",
       "20167         10035         950702          2003.0       2.0       NaN   \n",
       "\n",
       "          nota_txt  año_cursada  cant_finales         almat  anio_cursada  \n",
       "20181  No Aprobada          NaN           1.0  10035_950309        2006.0  \n",
       "20182     Aprobada          NaN           2.0  10035_950309        2006.0  \n",
       "20173     Aprobada          NaN           1.0  10035_950611        2004.0  \n",
       "20166     Aprobada          NaN           1.0  10035_950701        2003.0  \n",
       "20167  No Aprobada          NaN           1.0  10035_950702        2003.0  "
      ]
     },
     "execution_count": 34,
     "metadata": {},
     "output_type": "execute_result"
    }
   ],
   "source": [
    "# criterio\n",
    "# si anio cursada no tiene datos, completar con el mismo año que rindio final que esta en anio_academico\n",
    "aux['anio_cursada'] = aux['año_cursada'].combine_first(aux.anio_academico)\n",
    "aux.head()"
   ]
  },
  {
   "cell_type": "code",
   "execution_count": 35,
   "metadata": {},
   "outputs": [
    {
     "data": {
      "text/plain": [
       "(192407, 3)"
      ]
     },
     "execution_count": 35,
     "metadata": {},
     "output_type": "execute_result"
    }
   ],
   "source": [
    "# me quedo con los datos para agregarlos al dataset de cursadas\n",
    "\n",
    "COLS = ['codigo_alumno', 'codigo_materia', 'anio_cursada']\n",
    "cursadas_criterio = aux[COLS].copy().drop_duplicates()\n",
    "cursadas_criterio.shape"
   ]
  },
  {
   "cell_type": "code",
   "execution_count": 37,
   "metadata": {},
   "outputs": [
    {
     "data": {
      "text/html": [
       "<div>\n",
       "<style scoped>\n",
       "    .dataframe tbody tr th:only-of-type {\n",
       "        vertical-align: middle;\n",
       "    }\n",
       "\n",
       "    .dataframe tbody tr th {\n",
       "        vertical-align: top;\n",
       "    }\n",
       "\n",
       "    .dataframe thead th {\n",
       "        text-align: right;\n",
       "    }\n",
       "</style>\n",
       "<table border=\"1\" class=\"dataframe\">\n",
       "  <thead>\n",
       "    <tr style=\"text-align: right;\">\n",
       "      <th></th>\n",
       "      <th>codigo_alumno</th>\n",
       "      <th>codigo_materia</th>\n",
       "      <th>anio_cursada</th>\n",
       "    </tr>\n",
       "  </thead>\n",
       "  <tbody>\n",
       "    <tr>\n",
       "      <th>20181</th>\n",
       "      <td>10035</td>\n",
       "      <td>950309</td>\n",
       "      <td>2006.0</td>\n",
       "    </tr>\n",
       "    <tr>\n",
       "      <th>20173</th>\n",
       "      <td>10035</td>\n",
       "      <td>950611</td>\n",
       "      <td>2004.0</td>\n",
       "    </tr>\n",
       "    <tr>\n",
       "      <th>20166</th>\n",
       "      <td>10035</td>\n",
       "      <td>950701</td>\n",
       "      <td>2003.0</td>\n",
       "    </tr>\n",
       "    <tr>\n",
       "      <th>20167</th>\n",
       "      <td>10035</td>\n",
       "      <td>950702</td>\n",
       "      <td>2003.0</td>\n",
       "    </tr>\n",
       "    <tr>\n",
       "      <th>20176</th>\n",
       "      <td>10035</td>\n",
       "      <td>950703</td>\n",
       "      <td>2005.0</td>\n",
       "    </tr>\n",
       "  </tbody>\n",
       "</table>\n",
       "</div>"
      ],
      "text/plain": [
       "      codigo_alumno codigo_materia  anio_cursada\n",
       "20181         10035         950309        2006.0\n",
       "20173         10035         950611        2004.0\n",
       "20166         10035         950701        2003.0\n",
       "20167         10035         950702        2003.0\n",
       "20176         10035         950703        2005.0"
      ]
     },
     "execution_count": 37,
     "metadata": {},
     "output_type": "execute_result"
    }
   ],
   "source": [
    "cursadas_criterio.head()"
   ]
  },
  {
   "cell_type": "code",
   "execution_count": 38,
   "metadata": {},
   "outputs": [
    {
     "data": {
      "text/plain": [
       "(0, 9)"
      ]
     },
     "execution_count": 38,
     "metadata": {},
     "output_type": "execute_result"
    }
   ],
   "source": [
    "# este join no deberia tener interseccion\n",
    "extra = pd.merge(cursadas_criterio, curdf, on=['codigo_alumno', 'codigo_materia'], how='inner')\n",
    "extra.shape"
   ]
  },
  {
   "cell_type": "code",
   "execution_count": 39,
   "metadata": {},
   "outputs": [
    {
     "data": {
      "text/plain": [
       "Index(['codigo_alumno', 'curso', 'codigo_materia', 'departamento', 'turno',\n",
       "       'ciclo_lectivo', 'cant_cursada', 'cant_total_cursadas'],\n",
       "      dtype='object')"
      ]
     },
     "execution_count": 39,
     "metadata": {},
     "output_type": "execute_result"
    }
   ],
   "source": [
    "curdf.columns"
   ]
  },
  {
   "cell_type": "code",
   "execution_count": 40,
   "metadata": {},
   "outputs": [
    {
     "data": {
      "text/plain": [
       "Index(['codigo_alumno', 'codigo_materia', 'anio_cursada'], dtype='object')"
      ]
     },
     "execution_count": 40,
     "metadata": {},
     "output_type": "execute_result"
    }
   ],
   "source": [
    "cursadas_criterio.columns"
   ]
  },
  {
   "cell_type": "code",
   "execution_count": 41,
   "metadata": {},
   "outputs": [],
   "source": [
    "cursadas_criterio.columns = ['codigo_alumno', 'codigo_materia', 'ciclo_lectivo']"
   ]
  },
  {
   "cell_type": "code",
   "execution_count": 42,
   "metadata": {},
   "outputs": [],
   "source": [
    "# completo el resto de las variables para dsps tener el dataset para integrarloa cursadas\n",
    "\n",
    "cursadas_criterio['curso'] = 'S/D'\n",
    "cursadas_criterio['departamento'] = 'S/D' # este se puede completar dsps con los datos de organigrama\n",
    "cursadas_criterio['turno'] = 'S/D'\n",
    "cursadas_criterio['cant_cursada'] = 1\n",
    "cursadas_criterio['cant_total_cursadas'] = 1\n",
    "\n",
    "cursadas_criterio = cursadas_criterio[curdf.columns]\n"
   ]
  },
  {
   "cell_type": "code",
   "execution_count": 43,
   "metadata": {},
   "outputs": [
    {
     "data": {
      "text/plain": [
       "(192407, 8)"
      ]
     },
     "execution_count": 43,
     "metadata": {},
     "output_type": "execute_result"
    }
   ],
   "source": [
    "cursadas_criterio.shape"
   ]
  },
  {
   "cell_type": "code",
   "execution_count": 44,
   "metadata": {},
   "outputs": [
    {
     "data": {
      "text/plain": [
       "Index(['codigo_alumno', 'curso', 'codigo_materia', 'departamento', 'turno',\n",
       "       'ciclo_lectivo', 'cant_cursada', 'cant_total_cursadas'],\n",
       "      dtype='object')"
      ]
     },
     "execution_count": 44,
     "metadata": {},
     "output_type": "execute_result"
    }
   ],
   "source": [
    "cursadas_criterio.columns"
   ]
  },
  {
   "cell_type": "code",
   "execution_count": 45,
   "metadata": {},
   "outputs": [],
   "source": [
    "# dataset de cursadas complementarias al original por datos obtenidos del dataset de Finales\n",
    "cursadas_criterio.to_pickle('../data/raw_cleaned/curdf_complementario_01.pkl')\n",
    "cursadas_criterio.to_csv('../data/raw_cleaned/curdf_complementario_01.csv', index=False)"
   ]
  },
  {
   "attachments": {},
   "cell_type": "markdown",
   "metadata": {},
   "source": [
    "## Dataset de Finales"
   ]
  },
  {
   "cell_type": "code",
   "execution_count": 46,
   "metadata": {},
   "outputs": [
    {
     "data": {
      "text/plain": [
       "Index(['codigo_alumno', 'codigo_materia', 'anio_academico', 'nota_num',\n",
       "       'nota_cual', 'nota_txt', 'año_cursada', 'cant_finales'],\n",
       "      dtype='object')"
      ]
     },
     "execution_count": 46,
     "metadata": {},
     "output_type": "execute_result"
    }
   ],
   "source": [
    "findf.columns"
   ]
  },
  {
   "cell_type": "code",
   "execution_count": 47,
   "metadata": {},
   "outputs": [],
   "source": [
    "findf = findf[['codigo_alumno', 'codigo_materia', 'anio_academico', 'nota_num', 'nota_cual', 'nota_txt', 'cant_finales']]"
   ]
  },
  {
   "cell_type": "code",
   "execution_count": 48,
   "metadata": {},
   "outputs": [],
   "source": [
    "findf.to_pickle('../data/raw_cleaned/findf_01.pkl')\n",
    "findf.to_csv('../data/raw_cleaned/findf_01.csv', index=False)"
   ]
  },
  {
   "cell_type": "code",
   "execution_count": null,
   "metadata": {},
   "outputs": [],
   "source": []
  }
 ],
 "metadata": {
  "kernelspec": {
   "display_name": "Python 3.8.10 ('tesis-9WwmOtq2-py3.8')",
   "language": "python",
   "name": "python3"
  },
  "language_info": {
   "codemirror_mode": {
    "name": "ipython",
    "version": 3
   },
   "file_extension": ".py",
   "mimetype": "text/x-python",
   "name": "python",
   "nbconvert_exporter": "python",
   "pygments_lexer": "ipython3",
   "version": "3.9.4"
  },
  "orig_nbformat": 4,
  "vscode": {
   "interpreter": {
    "hash": "c1241d3ae1d9ef889cb983698819564df5bcd3d314d5bb2265dfbf272bfe2174"
   }
  }
 },
 "nbformat": 4,
 "nbformat_minor": 2
}
