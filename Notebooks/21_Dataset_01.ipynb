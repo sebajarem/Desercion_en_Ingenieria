{
 "cells": [
  {
   "attachments": {},
   "cell_type": "markdown",
   "metadata": {},
   "source": [
    "# Universo / Target"
   ]
  },
  {
   "attachments": {},
   "cell_type": "markdown",
   "metadata": {},
   "source": [
    "## Definición de target\n",
    "\n",
    "Target = 1 cuando el alumno no curso ni rindió finales por 2 ciclos lectivos consecutivos y no haya finalizado la carrera\n",
    "\n",
    "## Dataset a armar\n",
    "\n",
    "ejemplo\n",
    "\n",
    "| Alumno | Ciclo | Target |\n",
    "| --- | --- | --- |\n",
    "| 1 | 2010 | 0 |\n",
    "| 1 | 2011 | 0 |\n",
    "| 1 | 2012 | 1 |\n",
    "| 1 | 2013 | 1 |\n",
    "| 2 | 2012 | 0 |\n",
    "| 2 | 2013 | 0 |\n",
    "| 2 | 2014 | 0 |\n",
    "| 2 | 2015 | 0 |\n",
    "\n",
    "- ciclo minimo es el año de ingreso del alumno\n",
    "- ciclo maximo es el año de egreso del alumno o del ultimo registro (cursadas o finales) + 2\n",
    "\n",
    "\n"
   ]
  },
  {
   "cell_type": "code",
   "execution_count": 1,
   "metadata": {},
   "outputs": [],
   "source": [
    "import pandas as pd\n",
    "import numpy as np"
   ]
  },
  {
   "cell_type": "code",
   "execution_count": 2,
   "metadata": {},
   "outputs": [
    {
     "name": "stderr",
     "output_type": "stream",
     "text": [
      "/Users/sjaremczuk/Library/Caches/pypoetry/virtualenvs/tesis-ds-polkNLC9-py3.9/lib/python3.9/site-packages/numba/core/decorators.py:262: NumbaDeprecationWarning: numba.generated_jit is deprecated. Please see the documentation at: https://numba.readthedocs.io/en/stable/reference/deprecation.html#deprecation-of-generated-jit for more information and advice on a suitable replacement.\n",
      "  warnings.warn(msg, NumbaDeprecationWarning)\n",
      "/Users/sjaremczuk/Library/Caches/pypoetry/virtualenvs/tesis-ds-polkNLC9-py3.9/lib/python3.9/site-packages/visions/backends/shared/nan_handling.py:51: NumbaDeprecationWarning: The 'nopython' keyword argument was not supplied to the 'numba.jit' decorator. The implicit default value for this argument is currently False, but it will be changed to True in Numba 0.59.0. See https://numba.readthedocs.io/en/stable/reference/deprecation.html#deprecation-of-object-mode-fall-back-behaviour-when-using-jit for details.\n",
      "  def hasna(x: np.ndarray) -> bool:\n"
     ]
    }
   ],
   "source": [
    "from ydata_profiling import ProfileReport"
   ]
  },
  {
   "attachments": {},
   "cell_type": "markdown",
   "metadata": {},
   "source": [
    "## Datos de entrada"
   ]
  },
  {
   "cell_type": "code",
   "execution_count": 3,
   "metadata": {},
   "outputs": [
    {
     "name": "stdout",
     "output_type": "stream",
     "text": [
      "cur shape:  (510290, 8)\n",
      "cur_comp shape:  (79565, 8)\n",
      "datdf shape:  (22157, 5)\n",
      "fin shape:  (475362, 7)\n"
     ]
    }
   ],
   "source": [
    "curdf = pd.read_pickle('../data/raw_cleaned/curdf_01.pkl')\n",
    "print('cur shape: ',curdf.shape)\n",
    "curdf_comp = pd.read_pickle('../data/raw_cleaned/curdf_complementario_01.pkl')\n",
    "print('cur_comp shape: ',curdf_comp.shape)\n",
    "datdf = pd.read_pickle('../data/raw_cleaned/datdf_01.pkl')\n",
    "print('datdf shape: ',datdf.shape)\n",
    "findf = pd.read_pickle('../data/raw_cleaned/findf_01.pkl')\n",
    "print('fin shape: ',findf.shape)"
   ]
  },
  {
   "attachments": {},
   "cell_type": "markdown",
   "metadata": {},
   "source": [
    "## Reduccion de alumnos\n",
    "\n",
    "- solo quedan los alumnos de las carreras:\n",
    "\n",
    "|cod|carrera|alumnos|\n",
    "|---|----------|----------|\n",
    "| K | sistemas |     8702 |\n",
    "|R|electronica|     3278|\n",
    "|S|mecanica     |2822|\n",
    "|V|quimica     |2475|\n",
    "|O|civil     |2045|\n",
    "|Q|eléctrica|      928|"
   ]
  },
  {
   "cell_type": "code",
   "execution_count": 4,
   "metadata": {},
   "outputs": [
    {
     "data": {
      "text/plain": [
       "Index(['codigo_alumno', 'sexo', 'anio_nacimiento', 'anio_ingreso',\n",
       "       'codigo_carrera_ingreso'],\n",
       "      dtype='object')"
      ]
     },
     "execution_count": 4,
     "metadata": {},
     "output_type": "execute_result"
    }
   ],
   "source": [
    "datdf.columns"
   ]
  },
  {
   "cell_type": "code",
   "execution_count": 5,
   "metadata": {},
   "outputs": [
    {
     "data": {
      "text/plain": [
       "(20250, 5)"
      ]
     },
     "execution_count": 5,
     "metadata": {},
     "output_type": "execute_result"
    }
   ],
   "source": [
    "datdf_aux = datdf[datdf.codigo_carrera_ingreso.isin(['K','R','S','V','O','Q'])].copy()\n",
    "datdf_aux.shape\n"
   ]
  },
  {
   "cell_type": "code",
   "execution_count": 8,
   "metadata": {},
   "outputs": [
    {
     "data": {
      "text/plain": [
       "(465939, 9)"
      ]
     },
     "execution_count": 8,
     "metadata": {},
     "output_type": "execute_result"
    }
   ],
   "source": [
    "curdf['dataset'] = 'cursadas'\n",
    "\n",
    "curdf_aux = curdf[curdf.codigo_alumno.isin(datdf_aux.codigo_alumno)].copy()\n",
    "curdf_aux.shape"
   ]
  },
  {
   "cell_type": "code",
   "execution_count": 9,
   "metadata": {},
   "outputs": [
    {
     "data": {
      "text/plain": [
       "(66900, 9)"
      ]
     },
     "execution_count": 9,
     "metadata": {},
     "output_type": "execute_result"
    }
   ],
   "source": [
    "curdf_comp['dataset'] = 'cursadas_complementario'\n",
    "\n",
    "curdf_comp_aux = curdf_comp[curdf_comp.codigo_alumno.isin(datdf_aux.codigo_alumno)].copy()\n",
    "curdf_comp_aux.shape"
   ]
  },
  {
   "cell_type": "code",
   "execution_count": 11,
   "metadata": {},
   "outputs": [
    {
     "data": {
      "text/plain": [
       "(431968, 8)"
      ]
     },
     "execution_count": 11,
     "metadata": {},
     "output_type": "execute_result"
    }
   ],
   "source": [
    "findf['dataset'] = 'finales'\n",
    "\n",
    "findf_aux = findf[findf.codigo_alumno.isin(datdf_aux.codigo_alumno)].copy()\n",
    "findf_aux.shape"
   ]
  },
  {
   "attachments": {},
   "cell_type": "markdown",
   "metadata": {},
   "source": [
    "### condición\n",
    "\n",
    "- tener en cuenta la materia de proyecto final\n",
    "\n",
    "Proyecto Final:\n",
    "\n",
    "\t- civil (O): 950289\n",
    "\n",
    "\t- eléctrica (Q): 950594\n",
    "\n",
    "\t- electrónica (R): 950459\n",
    "\n",
    "\t- mecánica (S): 940842\n",
    "\n",
    "\t- química (V): 951196\n",
    "\n",
    "\t- sistemas (K): 082037"
   ]
  },
  {
   "attachments": {},
   "cell_type": "markdown",
   "metadata": {},
   "source": [
    "### datasets\n",
    "\n",
    "| codigo_alumno | anio_ingreso | ultima_cursada | ultimo_final | egreso_anio |\n",
    "| --- | --- | --- | --- | --- |"
   ]
  },
  {
   "cell_type": "code",
   "execution_count": 16,
   "metadata": {},
   "outputs": [
    {
     "data": {
      "text/html": [
       "<div>\n",
       "<style scoped>\n",
       "    .dataframe tbody tr th:only-of-type {\n",
       "        vertical-align: middle;\n",
       "    }\n",
       "\n",
       "    .dataframe tbody tr th {\n",
       "        vertical-align: top;\n",
       "    }\n",
       "\n",
       "    .dataframe thead th {\n",
       "        text-align: right;\n",
       "    }\n",
       "</style>\n",
       "<table border=\"1\" class=\"dataframe\">\n",
       "  <thead>\n",
       "    <tr style=\"text-align: right;\">\n",
       "      <th></th>\n",
       "      <th>codigo_materia</th>\n",
       "      <th>codigo_carrera</th>\n",
       "    </tr>\n",
       "  </thead>\n",
       "  <tbody>\n",
       "    <tr>\n",
       "      <th>0</th>\n",
       "      <td>950289</td>\n",
       "      <td>O</td>\n",
       "    </tr>\n",
       "    <tr>\n",
       "      <th>1</th>\n",
       "      <td>950594</td>\n",
       "      <td>Q</td>\n",
       "    </tr>\n",
       "    <tr>\n",
       "      <th>2</th>\n",
       "      <td>950459</td>\n",
       "      <td>R</td>\n",
       "    </tr>\n",
       "    <tr>\n",
       "      <th>3</th>\n",
       "      <td>940842</td>\n",
       "      <td>S</td>\n",
       "    </tr>\n",
       "    <tr>\n",
       "      <th>4</th>\n",
       "      <td>951196</td>\n",
       "      <td>V</td>\n",
       "    </tr>\n",
       "    <tr>\n",
       "      <th>5</th>\n",
       "      <td>082037</td>\n",
       "      <td>K</td>\n",
       "    </tr>\n",
       "  </tbody>\n",
       "</table>\n",
       "</div>"
      ],
      "text/plain": [
       "  codigo_materia codigo_carrera\n",
       "0         950289              O\n",
       "1         950594              Q\n",
       "2         950459              R\n",
       "3         940842              S\n",
       "4         951196              V\n",
       "5         082037              K"
      ]
     },
     "execution_count": 16,
     "metadata": {},
     "output_type": "execute_result"
    }
   ],
   "source": [
    "CODIGOS_MATERIAS_PF = ['950289','950594','950459','940842','951196','082037']\n",
    "CODIGOS_CARRERAS = ['O','Q','R','S','V','K']\n",
    "\n",
    "codigos = pd.DataFrame.from_dict({'codigo_materia':CODIGOS_MATERIAS_PF,'codigo_carrera':CODIGOS_CARRERAS})\n",
    "codigos"
   ]
  },
  {
   "cell_type": "code",
   "execution_count": 18,
   "metadata": {},
   "outputs": [
    {
     "data": {
      "text/html": [
       "<div>\n",
       "<style scoped>\n",
       "    .dataframe tbody tr th:only-of-type {\n",
       "        vertical-align: middle;\n",
       "    }\n",
       "\n",
       "    .dataframe tbody tr th {\n",
       "        vertical-align: top;\n",
       "    }\n",
       "\n",
       "    .dataframe thead th {\n",
       "        text-align: right;\n",
       "    }\n",
       "</style>\n",
       "<table border=\"1\" class=\"dataframe\">\n",
       "  <thead>\n",
       "    <tr style=\"text-align: right;\">\n",
       "      <th></th>\n",
       "      <th>codigo_alumno</th>\n",
       "      <th>curso</th>\n",
       "      <th>codigo_materia</th>\n",
       "      <th>departamento</th>\n",
       "      <th>turno</th>\n",
       "      <th>ciclo_lectivo</th>\n",
       "      <th>cant_cursada</th>\n",
       "      <th>cant_total_cursadas</th>\n",
       "      <th>dataset</th>\n",
       "    </tr>\n",
       "  </thead>\n",
       "  <tbody>\n",
       "    <tr>\n",
       "      <th>4494</th>\n",
       "      <td>10035</td>\n",
       "      <td>K4153</td>\n",
       "      <td>950310</td>\n",
       "      <td>Unidad Docente Básica Legislación y Economía</td>\n",
       "      <td>Noche</td>\n",
       "      <td>2006.0</td>\n",
       "      <td>1.0</td>\n",
       "      <td>1</td>\n",
       "      <td>cursadas</td>\n",
       "    </tr>\n",
       "    <tr>\n",
       "      <th>4497</th>\n",
       "      <td>10035</td>\n",
       "      <td>K3051</td>\n",
       "      <td>952028</td>\n",
       "      <td>NaN</td>\n",
       "      <td>Noche</td>\n",
       "      <td>2007.0</td>\n",
       "      <td>1.0</td>\n",
       "      <td>1</td>\n",
       "      <td>cursadas</td>\n",
       "    </tr>\n",
       "    <tr>\n",
       "      <th>4492</th>\n",
       "      <td>10035</td>\n",
       "      <td>K3001</td>\n",
       "      <td>952030</td>\n",
       "      <td>NaN</td>\n",
       "      <td>Mañana</td>\n",
       "      <td>2006.0</td>\n",
       "      <td>1.0</td>\n",
       "      <td>1</td>\n",
       "      <td>cursadas</td>\n",
       "    </tr>\n",
       "    <tr>\n",
       "      <th>4498</th>\n",
       "      <td>10035</td>\n",
       "      <td>K3071</td>\n",
       "      <td>952031</td>\n",
       "      <td>NaN</td>\n",
       "      <td>Noche</td>\n",
       "      <td>2007.0</td>\n",
       "      <td>1.0</td>\n",
       "      <td>1</td>\n",
       "      <td>cursadas</td>\n",
       "    </tr>\n",
       "    <tr>\n",
       "      <th>4502</th>\n",
       "      <td>10035</td>\n",
       "      <td>K4051</td>\n",
       "      <td>952033</td>\n",
       "      <td>Departamento de Ing. en Sistemas de Información</td>\n",
       "      <td>Noche</td>\n",
       "      <td>2008.0</td>\n",
       "      <td>1.0</td>\n",
       "      <td>1</td>\n",
       "      <td>cursadas</td>\n",
       "    </tr>\n",
       "  </tbody>\n",
       "</table>\n",
       "</div>"
      ],
      "text/plain": [
       "     codigo_alumno  curso codigo_materia  \\\n",
       "4494         10035  K4153         950310   \n",
       "4497         10035  K3051         952028   \n",
       "4492         10035  K3001         952030   \n",
       "4498         10035  K3071         952031   \n",
       "4502         10035  K4051         952033   \n",
       "\n",
       "                                         departamento   turno  ciclo_lectivo  \\\n",
       "4494     Unidad Docente Básica Legislación y Economía   Noche         2006.0   \n",
       "4497                                              NaN   Noche         2007.0   \n",
       "4492                                              NaN  Mañana         2006.0   \n",
       "4498                                              NaN   Noche         2007.0   \n",
       "4502  Departamento de Ing. en Sistemas de Información   Noche         2008.0   \n",
       "\n",
       "      cant_cursada  cant_total_cursadas   dataset  \n",
       "4494           1.0                    1  cursadas  \n",
       "4497           1.0                    1  cursadas  \n",
       "4492           1.0                    1  cursadas  \n",
       "4498           1.0                    1  cursadas  \n",
       "4502           1.0                    1  cursadas  "
      ]
     },
     "execution_count": 18,
     "metadata": {},
     "output_type": "execute_result"
    }
   ],
   "source": [
    "cur = pd.concat([curdf_aux,curdf_comp_aux],axis=0)\n",
    "cur.head()"
   ]
  },
  {
   "cell_type": "code",
   "execution_count": 19,
   "metadata": {},
   "outputs": [],
   "source": [
    "VARS = ['codigo_alumno','ciclo_lectivo','codigo_materia','codigo_carrera']"
   ]
  },
  {
   "cell_type": "code",
   "execution_count": 20,
   "metadata": {},
   "outputs": [
    {
     "data": {
      "text/html": [
       "<div>\n",
       "<style scoped>\n",
       "    .dataframe tbody tr th:only-of-type {\n",
       "        vertical-align: middle;\n",
       "    }\n",
       "\n",
       "    .dataframe tbody tr th {\n",
       "        vertical-align: top;\n",
       "    }\n",
       "\n",
       "    .dataframe thead th {\n",
       "        text-align: right;\n",
       "    }\n",
       "</style>\n",
       "<table border=\"1\" class=\"dataframe\">\n",
       "  <thead>\n",
       "    <tr style=\"text-align: right;\">\n",
       "      <th></th>\n",
       "      <th>codigo_alumno</th>\n",
       "      <th>ciclo_lectivo</th>\n",
       "      <th>codigo_materia</th>\n",
       "      <th>codigo_carrera</th>\n",
       "    </tr>\n",
       "  </thead>\n",
       "  <tbody>\n",
       "    <tr>\n",
       "      <th>0</th>\n",
       "      <td>11123</td>\n",
       "      <td>2023.0</td>\n",
       "      <td>950459</td>\n",
       "      <td>R</td>\n",
       "    </tr>\n",
       "    <tr>\n",
       "      <th>1</th>\n",
       "      <td>34147</td>\n",
       "      <td>2007.0</td>\n",
       "      <td>950459</td>\n",
       "      <td>R</td>\n",
       "    </tr>\n",
       "    <tr>\n",
       "      <th>2</th>\n",
       "      <td>34147</td>\n",
       "      <td>2008.0</td>\n",
       "      <td>950459</td>\n",
       "      <td>R</td>\n",
       "    </tr>\n",
       "    <tr>\n",
       "      <th>3</th>\n",
       "      <td>34443</td>\n",
       "      <td>2007.0</td>\n",
       "      <td>950459</td>\n",
       "      <td>R</td>\n",
       "    </tr>\n",
       "    <tr>\n",
       "      <th>4</th>\n",
       "      <td>34470</td>\n",
       "      <td>2008.0</td>\n",
       "      <td>950459</td>\n",
       "      <td>R</td>\n",
       "    </tr>\n",
       "  </tbody>\n",
       "</table>\n",
       "</div>"
      ],
      "text/plain": [
       "  codigo_alumno  ciclo_lectivo codigo_materia codigo_carrera\n",
       "0         11123         2023.0         950459              R\n",
       "1         34147         2007.0         950459              R\n",
       "2         34147         2008.0         950459              R\n",
       "3         34443         2007.0         950459              R\n",
       "4         34470         2008.0         950459              R"
      ]
     },
     "execution_count": 20,
     "metadata": {},
     "output_type": "execute_result"
    }
   ],
   "source": [
    "cur_pf = pd.merge(cur,codigos,on=['codigo_materia','codigo_materia'],how='inner')[VARS]\n",
    "cur_pf.head()"
   ]
  },
  {
   "cell_type": "code",
   "execution_count": 21,
   "metadata": {},
   "outputs": [
    {
     "name": "stdout",
     "output_type": "stream",
     "text": [
      "(4143,)\n",
      "3551\n"
     ]
    }
   ],
   "source": [
    "print(cur_pf.codigo_alumno.shape)\n",
    "print(cur_pf.codigo_alumno.nunique())"
   ]
  },
  {
   "cell_type": "code",
   "execution_count": 45,
   "metadata": {},
   "outputs": [
    {
     "data": {
      "text/html": [
       "<div>\n",
       "<style scoped>\n",
       "    .dataframe tbody tr th:only-of-type {\n",
       "        vertical-align: middle;\n",
       "    }\n",
       "\n",
       "    .dataframe tbody tr th {\n",
       "        vertical-align: top;\n",
       "    }\n",
       "\n",
       "    .dataframe thead th {\n",
       "        text-align: right;\n",
       "    }\n",
       "</style>\n",
       "<table border=\"1\" class=\"dataframe\">\n",
       "  <thead>\n",
       "    <tr style=\"text-align: right;\">\n",
       "      <th></th>\n",
       "      <th>codigo_alumno</th>\n",
       "      <th>codigo_carrera</th>\n",
       "      <th>ciclo_lectivo</th>\n",
       "    </tr>\n",
       "  </thead>\n",
       "  <tbody>\n",
       "    <tr>\n",
       "      <th>0</th>\n",
       "      <td>11123</td>\n",
       "      <td>R</td>\n",
       "      <td>2023.0</td>\n",
       "    </tr>\n",
       "    <tr>\n",
       "      <th>1</th>\n",
       "      <td>18230</td>\n",
       "      <td>Q</td>\n",
       "      <td>2015.0</td>\n",
       "    </tr>\n",
       "    <tr>\n",
       "      <th>2</th>\n",
       "      <td>2455</td>\n",
       "      <td>S</td>\n",
       "      <td>2000.0</td>\n",
       "    </tr>\n",
       "    <tr>\n",
       "      <th>3</th>\n",
       "      <td>30398</td>\n",
       "      <td>V</td>\n",
       "      <td>2010.0</td>\n",
       "    </tr>\n",
       "    <tr>\n",
       "      <th>4</th>\n",
       "      <td>33434</td>\n",
       "      <td>K</td>\n",
       "      <td>2016.0</td>\n",
       "    </tr>\n",
       "  </tbody>\n",
       "</table>\n",
       "</div>"
      ],
      "text/plain": [
       "  codigo_alumno codigo_carrera  ciclo_lectivo\n",
       "0         11123              R         2023.0\n",
       "1         18230              Q         2015.0\n",
       "2          2455              S         2000.0\n",
       "3         30398              V         2010.0\n",
       "4         33434              K         2016.0"
      ]
     },
     "execution_count": 45,
     "metadata": {},
     "output_type": "execute_result"
    }
   ],
   "source": [
    "cur_pf_aux = cur_pf.groupby(['codigo_alumno','codigo_carrera'])['ciclo_lectivo'].max().reset_index().copy()\n",
    "cur_pf_aux.head()"
   ]
  },
  {
   "cell_type": "code",
   "execution_count": 46,
   "metadata": {},
   "outputs": [
    {
     "name": "stdout",
     "output_type": "stream",
     "text": [
      "(3551,)\n",
      "3551\n"
     ]
    }
   ],
   "source": [
    "print(cur_pf_aux.codigo_alumno.shape)\n",
    "print(cur_pf_aux.codigo_alumno.nunique())"
   ]
  },
  {
   "attachments": {},
   "cell_type": "markdown",
   "metadata": {},
   "source": [
    "#### conclusion\n",
    "\n",
    "todos los alumnos que cursaron proyecto final lo hicieron en una sola carrera"
   ]
  },
  {
   "cell_type": "code",
   "execution_count": 24,
   "metadata": {},
   "outputs": [
    {
     "data": {
      "text/plain": [
       "Index(['codigo_alumno', 'codigo_materia', 'anio_academico', 'nota_num',\n",
       "       'nota_cual', 'nota_txt', 'cant_finales', 'dataset'],\n",
       "      dtype='object')"
      ]
     },
     "execution_count": 24,
     "metadata": {},
     "output_type": "execute_result"
    }
   ],
   "source": [
    "findf_aux.columns"
   ]
  },
  {
   "cell_type": "code",
   "execution_count": 26,
   "metadata": {},
   "outputs": [],
   "source": [
    "VARS = ['codigo_alumno', 'anio_academico', 'codigo_materia', 'codigo_carrera']"
   ]
  },
  {
   "cell_type": "code",
   "execution_count": 27,
   "metadata": {},
   "outputs": [],
   "source": [
    "fin_pf = pd.merge(findf_aux,codigos,on=['codigo_materia','codigo_materia'],how='inner')[VARS]"
   ]
  },
  {
   "cell_type": "code",
   "execution_count": 29,
   "metadata": {},
   "outputs": [
    {
     "name": "stdout",
     "output_type": "stream",
     "text": [
      "(1539, 4)\n",
      "1515\n"
     ]
    }
   ],
   "source": [
    "print(fin_pf.shape)\n",
    "print(fin_pf.codigo_alumno.nunique())"
   ]
  },
  {
   "cell_type": "code",
   "execution_count": 47,
   "metadata": {},
   "outputs": [
    {
     "data": {
      "text/html": [
       "<div>\n",
       "<style scoped>\n",
       "    .dataframe tbody tr th:only-of-type {\n",
       "        vertical-align: middle;\n",
       "    }\n",
       "\n",
       "    .dataframe tbody tr th {\n",
       "        vertical-align: top;\n",
       "    }\n",
       "\n",
       "    .dataframe thead th {\n",
       "        text-align: right;\n",
       "    }\n",
       "</style>\n",
       "<table border=\"1\" class=\"dataframe\">\n",
       "  <thead>\n",
       "    <tr style=\"text-align: right;\">\n",
       "      <th></th>\n",
       "      <th>codigo_alumno</th>\n",
       "      <th>codigo_carrera</th>\n",
       "      <th>anio_academico</th>\n",
       "    </tr>\n",
       "  </thead>\n",
       "  <tbody>\n",
       "    <tr>\n",
       "      <th>0</th>\n",
       "      <td>18230</td>\n",
       "      <td>Q</td>\n",
       "      <td>2015.0</td>\n",
       "    </tr>\n",
       "    <tr>\n",
       "      <th>1</th>\n",
       "      <td>2455</td>\n",
       "      <td>S</td>\n",
       "      <td>2000.0</td>\n",
       "    </tr>\n",
       "    <tr>\n",
       "      <th>2</th>\n",
       "      <td>34147</td>\n",
       "      <td>R</td>\n",
       "      <td>2009.0</td>\n",
       "    </tr>\n",
       "    <tr>\n",
       "      <th>3</th>\n",
       "      <td>34437</td>\n",
       "      <td>R</td>\n",
       "      <td>2009.0</td>\n",
       "    </tr>\n",
       "    <tr>\n",
       "      <th>4</th>\n",
       "      <td>34443</td>\n",
       "      <td>R</td>\n",
       "      <td>2007.0</td>\n",
       "    </tr>\n",
       "  </tbody>\n",
       "</table>\n",
       "</div>"
      ],
      "text/plain": [
       "  codigo_alumno codigo_carrera  anio_academico\n",
       "0         18230              Q          2015.0\n",
       "1          2455              S          2000.0\n",
       "2         34147              R          2009.0\n",
       "3         34437              R          2009.0\n",
       "4         34443              R          2007.0"
      ]
     },
     "execution_count": 47,
     "metadata": {},
     "output_type": "execute_result"
    }
   ],
   "source": [
    "fin_pf_aux = fin_pf.groupby(['codigo_alumno','codigo_carrera'])['anio_academico'].max().reset_index().copy()\n",
    "fin_pf_aux.head()"
   ]
  },
  {
   "cell_type": "code",
   "execution_count": 48,
   "metadata": {},
   "outputs": [
    {
     "name": "stdout",
     "output_type": "stream",
     "text": [
      "(1515, 3)\n",
      "1515\n"
     ]
    }
   ],
   "source": [
    "print(fin_pf_aux.shape)\n",
    "print(fin_pf_aux.codigo_alumno.nunique())"
   ]
  },
  {
   "attachments": {},
   "cell_type": "markdown",
   "metadata": {},
   "source": [
    "#### conclusion\n",
    "\n",
    "los alumnos que rindieron final lo hicieron para una carrera sola"
   ]
  },
  {
   "cell_type": "code",
   "execution_count": 49,
   "metadata": {},
   "outputs": [
    {
     "data": {
      "text/plain": [
       "False    1515\n",
       "True       24\n",
       "Name: codigo_alumno, dtype: int64"
      ]
     },
     "execution_count": 49,
     "metadata": {},
     "output_type": "execute_result"
    }
   ],
   "source": [
    "fin_pf.codigo_alumno.duplicated().value_counts()"
   ]
  },
  {
   "cell_type": "code",
   "execution_count": 50,
   "metadata": {},
   "outputs": [
    {
     "data": {
      "text/html": [
       "<div>\n",
       "<style scoped>\n",
       "    .dataframe tbody tr th:only-of-type {\n",
       "        vertical-align: middle;\n",
       "    }\n",
       "\n",
       "    .dataframe tbody tr th {\n",
       "        vertical-align: top;\n",
       "    }\n",
       "\n",
       "    .dataframe thead th {\n",
       "        text-align: right;\n",
       "    }\n",
       "</style>\n",
       "<table border=\"1\" class=\"dataframe\">\n",
       "  <thead>\n",
       "    <tr style=\"text-align: right;\">\n",
       "      <th></th>\n",
       "      <th>codigo_alumno</th>\n",
       "      <th>anio_academico</th>\n",
       "      <th>codigo_materia</th>\n",
       "      <th>codigo_carrera</th>\n",
       "      <th>nota_num</th>\n",
       "      <th>nota_cual</th>\n",
       "      <th>nota_txt</th>\n",
       "      <th>cant_finales</th>\n",
       "      <th>dataset</th>\n",
       "    </tr>\n",
       "  </thead>\n",
       "  <tbody>\n",
       "    <tr>\n",
       "      <th>0</th>\n",
       "      <td>53038</td>\n",
       "      <td>2018.0</td>\n",
       "      <td>950594</td>\n",
       "      <td>Q</td>\n",
       "      <td>9.0</td>\n",
       "      <td>NaN</td>\n",
       "      <td>Aprobada</td>\n",
       "      <td>1.0</td>\n",
       "      <td>finales</td>\n",
       "    </tr>\n",
       "    <tr>\n",
       "      <th>1</th>\n",
       "      <td>53038</td>\n",
       "      <td>2018.0</td>\n",
       "      <td>950594</td>\n",
       "      <td>Q</td>\n",
       "      <td>NaN</td>\n",
       "      <td>NaN</td>\n",
       "      <td>No Aprobada</td>\n",
       "      <td>2.0</td>\n",
       "      <td>finales</td>\n",
       "    </tr>\n",
       "    <tr>\n",
       "      <th>4</th>\n",
       "      <td>54194</td>\n",
       "      <td>2021.0</td>\n",
       "      <td>950594</td>\n",
       "      <td>Q</td>\n",
       "      <td>8.0</td>\n",
       "      <td>NaN</td>\n",
       "      <td>Aprobada</td>\n",
       "      <td>1.0</td>\n",
       "      <td>finales</td>\n",
       "    </tr>\n",
       "    <tr>\n",
       "      <th>5</th>\n",
       "      <td>54194</td>\n",
       "      <td>2021.0</td>\n",
       "      <td>950594</td>\n",
       "      <td>Q</td>\n",
       "      <td>NaN</td>\n",
       "      <td>NaN</td>\n",
       "      <td>No Aprobada</td>\n",
       "      <td>2.0</td>\n",
       "      <td>finales</td>\n",
       "    </tr>\n",
       "    <tr>\n",
       "      <th>8</th>\n",
       "      <td>41629</td>\n",
       "      <td>2017.0</td>\n",
       "      <td>950459</td>\n",
       "      <td>R</td>\n",
       "      <td>8.0</td>\n",
       "      <td>NaN</td>\n",
       "      <td>Aprobada</td>\n",
       "      <td>1.0</td>\n",
       "      <td>finales</td>\n",
       "    </tr>\n",
       "    <tr>\n",
       "      <th>9</th>\n",
       "      <td>41629</td>\n",
       "      <td>2017.0</td>\n",
       "      <td>950459</td>\n",
       "      <td>R</td>\n",
       "      <td>NaN</td>\n",
       "      <td>NaN</td>\n",
       "      <td>No Aprobada</td>\n",
       "      <td>2.0</td>\n",
       "      <td>finales</td>\n",
       "    </tr>\n",
       "    <tr>\n",
       "      <th>12</th>\n",
       "      <td>47623</td>\n",
       "      <td>2018.0</td>\n",
       "      <td>950459</td>\n",
       "      <td>R</td>\n",
       "      <td>10.0</td>\n",
       "      <td>NaN</td>\n",
       "      <td>Aprobada</td>\n",
       "      <td>1.0</td>\n",
       "      <td>finales</td>\n",
       "    </tr>\n",
       "    <tr>\n",
       "      <th>13</th>\n",
       "      <td>47623</td>\n",
       "      <td>2018.0</td>\n",
       "      <td>950459</td>\n",
       "      <td>R</td>\n",
       "      <td>NaN</td>\n",
       "      <td>NaN</td>\n",
       "      <td>No Aprobada</td>\n",
       "      <td>2.0</td>\n",
       "      <td>finales</td>\n",
       "    </tr>\n",
       "    <tr>\n",
       "      <th>16</th>\n",
       "      <td>49232</td>\n",
       "      <td>2018.0</td>\n",
       "      <td>950459</td>\n",
       "      <td>R</td>\n",
       "      <td>10.0</td>\n",
       "      <td>NaN</td>\n",
       "      <td>Aprobada</td>\n",
       "      <td>1.0</td>\n",
       "      <td>finales</td>\n",
       "    </tr>\n",
       "    <tr>\n",
       "      <th>17</th>\n",
       "      <td>49232</td>\n",
       "      <td>2018.0</td>\n",
       "      <td>950459</td>\n",
       "      <td>R</td>\n",
       "      <td>NaN</td>\n",
       "      <td>NaN</td>\n",
       "      <td>No Aprobada</td>\n",
       "      <td>2.0</td>\n",
       "      <td>finales</td>\n",
       "    </tr>\n",
       "    <tr>\n",
       "      <th>20</th>\n",
       "      <td>50088</td>\n",
       "      <td>2022.0</td>\n",
       "      <td>950459</td>\n",
       "      <td>R</td>\n",
       "      <td>9.0</td>\n",
       "      <td>NaN</td>\n",
       "      <td>Aprobada</td>\n",
       "      <td>1.0</td>\n",
       "      <td>finales</td>\n",
       "    </tr>\n",
       "    <tr>\n",
       "      <th>21</th>\n",
       "      <td>50088</td>\n",
       "      <td>2022.0</td>\n",
       "      <td>950459</td>\n",
       "      <td>R</td>\n",
       "      <td>NaN</td>\n",
       "      <td>NaN</td>\n",
       "      <td>No Aprobada</td>\n",
       "      <td>2.0</td>\n",
       "      <td>finales</td>\n",
       "    </tr>\n",
       "    <tr>\n",
       "      <th>24</th>\n",
       "      <td>50093</td>\n",
       "      <td>2018.0</td>\n",
       "      <td>950459</td>\n",
       "      <td>R</td>\n",
       "      <td>10.0</td>\n",
       "      <td>NaN</td>\n",
       "      <td>Aprobada</td>\n",
       "      <td>1.0</td>\n",
       "      <td>finales</td>\n",
       "    </tr>\n",
       "    <tr>\n",
       "      <th>25</th>\n",
       "      <td>50093</td>\n",
       "      <td>2018.0</td>\n",
       "      <td>950459</td>\n",
       "      <td>R</td>\n",
       "      <td>NaN</td>\n",
       "      <td>NaN</td>\n",
       "      <td>No Aprobada</td>\n",
       "      <td>2.0</td>\n",
       "      <td>finales</td>\n",
       "    </tr>\n",
       "    <tr>\n",
       "      <th>28</th>\n",
       "      <td>50105</td>\n",
       "      <td>2018.0</td>\n",
       "      <td>950459</td>\n",
       "      <td>R</td>\n",
       "      <td>10.0</td>\n",
       "      <td>NaN</td>\n",
       "      <td>Aprobada</td>\n",
       "      <td>1.0</td>\n",
       "      <td>finales</td>\n",
       "    </tr>\n",
       "    <tr>\n",
       "      <th>29</th>\n",
       "      <td>50105</td>\n",
       "      <td>2018.0</td>\n",
       "      <td>950459</td>\n",
       "      <td>R</td>\n",
       "      <td>NaN</td>\n",
       "      <td>NaN</td>\n",
       "      <td>No Aprobada</td>\n",
       "      <td>2.0</td>\n",
       "      <td>finales</td>\n",
       "    </tr>\n",
       "    <tr>\n",
       "      <th>32</th>\n",
       "      <td>51794</td>\n",
       "      <td>2020.0</td>\n",
       "      <td>950459</td>\n",
       "      <td>R</td>\n",
       "      <td>9.0</td>\n",
       "      <td>NaN</td>\n",
       "      <td>Aprobada</td>\n",
       "      <td>1.0</td>\n",
       "      <td>finales</td>\n",
       "    </tr>\n",
       "    <tr>\n",
       "      <th>33</th>\n",
       "      <td>51794</td>\n",
       "      <td>2020.0</td>\n",
       "      <td>950459</td>\n",
       "      <td>R</td>\n",
       "      <td>NaN</td>\n",
       "      <td>NaN</td>\n",
       "      <td>No Aprobada</td>\n",
       "      <td>2.0</td>\n",
       "      <td>finales</td>\n",
       "    </tr>\n",
       "    <tr>\n",
       "      <th>36</th>\n",
       "      <td>52254</td>\n",
       "      <td>2021.0</td>\n",
       "      <td>950459</td>\n",
       "      <td>R</td>\n",
       "      <td>10.0</td>\n",
       "      <td>NaN</td>\n",
       "      <td>Aprobada</td>\n",
       "      <td>1.0</td>\n",
       "      <td>finales</td>\n",
       "    </tr>\n",
       "    <tr>\n",
       "      <th>37</th>\n",
       "      <td>52254</td>\n",
       "      <td>2021.0</td>\n",
       "      <td>950459</td>\n",
       "      <td>R</td>\n",
       "      <td>NaN</td>\n",
       "      <td>NaN</td>\n",
       "      <td>No Aprobada</td>\n",
       "      <td>2.0</td>\n",
       "      <td>finales</td>\n",
       "    </tr>\n",
       "    <tr>\n",
       "      <th>40</th>\n",
       "      <td>52601</td>\n",
       "      <td>2020.0</td>\n",
       "      <td>950459</td>\n",
       "      <td>R</td>\n",
       "      <td>NaN</td>\n",
       "      <td>NaN</td>\n",
       "      <td>No Aprobada</td>\n",
       "      <td>1.0</td>\n",
       "      <td>finales</td>\n",
       "    </tr>\n",
       "    <tr>\n",
       "      <th>41</th>\n",
       "      <td>52601</td>\n",
       "      <td>2022.0</td>\n",
       "      <td>950459</td>\n",
       "      <td>R</td>\n",
       "      <td>10.0</td>\n",
       "      <td>NaN</td>\n",
       "      <td>Aprobada</td>\n",
       "      <td>2.0</td>\n",
       "      <td>finales</td>\n",
       "    </tr>\n",
       "    <tr>\n",
       "      <th>42</th>\n",
       "      <td>57212</td>\n",
       "      <td>2021.0</td>\n",
       "      <td>951196</td>\n",
       "      <td>V</td>\n",
       "      <td>7.0</td>\n",
       "      <td>NaN</td>\n",
       "      <td>Aprobada</td>\n",
       "      <td>1.0</td>\n",
       "      <td>finales</td>\n",
       "    </tr>\n",
       "    <tr>\n",
       "      <th>43</th>\n",
       "      <td>57212</td>\n",
       "      <td>2021.0</td>\n",
       "      <td>951196</td>\n",
       "      <td>V</td>\n",
       "      <td>NaN</td>\n",
       "      <td>NaN</td>\n",
       "      <td>No Aprobada</td>\n",
       "      <td>2.0</td>\n",
       "      <td>finales</td>\n",
       "    </tr>\n",
       "    <tr>\n",
       "      <th>46</th>\n",
       "      <td>57387</td>\n",
       "      <td>2017.0</td>\n",
       "      <td>951196</td>\n",
       "      <td>V</td>\n",
       "      <td>7.0</td>\n",
       "      <td>NaN</td>\n",
       "      <td>Aprobada</td>\n",
       "      <td>1.0</td>\n",
       "      <td>finales</td>\n",
       "    </tr>\n",
       "    <tr>\n",
       "      <th>47</th>\n",
       "      <td>57387</td>\n",
       "      <td>2017.0</td>\n",
       "      <td>951196</td>\n",
       "      <td>V</td>\n",
       "      <td>NaN</td>\n",
       "      <td>NaN</td>\n",
       "      <td>No Aprobada</td>\n",
       "      <td>2.0</td>\n",
       "      <td>finales</td>\n",
       "    </tr>\n",
       "    <tr>\n",
       "      <th>50</th>\n",
       "      <td>57834</td>\n",
       "      <td>2019.0</td>\n",
       "      <td>951196</td>\n",
       "      <td>V</td>\n",
       "      <td>7.0</td>\n",
       "      <td>NaN</td>\n",
       "      <td>Aprobada</td>\n",
       "      <td>1.0</td>\n",
       "      <td>finales</td>\n",
       "    </tr>\n",
       "    <tr>\n",
       "      <th>51</th>\n",
       "      <td>57834</td>\n",
       "      <td>2019.0</td>\n",
       "      <td>951196</td>\n",
       "      <td>V</td>\n",
       "      <td>NaN</td>\n",
       "      <td>NaN</td>\n",
       "      <td>No Aprobada</td>\n",
       "      <td>2.0</td>\n",
       "      <td>finales</td>\n",
       "    </tr>\n",
       "    <tr>\n",
       "      <th>54</th>\n",
       "      <td>57910</td>\n",
       "      <td>2017.0</td>\n",
       "      <td>951196</td>\n",
       "      <td>V</td>\n",
       "      <td>7.0</td>\n",
       "      <td>NaN</td>\n",
       "      <td>Aprobada</td>\n",
       "      <td>1.0</td>\n",
       "      <td>finales</td>\n",
       "    </tr>\n",
       "    <tr>\n",
       "      <th>55</th>\n",
       "      <td>57910</td>\n",
       "      <td>2017.0</td>\n",
       "      <td>951196</td>\n",
       "      <td>V</td>\n",
       "      <td>NaN</td>\n",
       "      <td>NaN</td>\n",
       "      <td>No Aprobada</td>\n",
       "      <td>2.0</td>\n",
       "      <td>finales</td>\n",
       "    </tr>\n",
       "    <tr>\n",
       "      <th>58</th>\n",
       "      <td>58567</td>\n",
       "      <td>2021.0</td>\n",
       "      <td>951196</td>\n",
       "      <td>V</td>\n",
       "      <td>8.0</td>\n",
       "      <td>NaN</td>\n",
       "      <td>Aprobada</td>\n",
       "      <td>1.0</td>\n",
       "      <td>finales</td>\n",
       "    </tr>\n",
       "    <tr>\n",
       "      <th>59</th>\n",
       "      <td>58567</td>\n",
       "      <td>2021.0</td>\n",
       "      <td>951196</td>\n",
       "      <td>V</td>\n",
       "      <td>NaN</td>\n",
       "      <td>NaN</td>\n",
       "      <td>No Aprobada</td>\n",
       "      <td>2.0</td>\n",
       "      <td>finales</td>\n",
       "    </tr>\n",
       "    <tr>\n",
       "      <th>62</th>\n",
       "      <td>59288</td>\n",
       "      <td>2021.0</td>\n",
       "      <td>951196</td>\n",
       "      <td>V</td>\n",
       "      <td>7.0</td>\n",
       "      <td>NaN</td>\n",
       "      <td>Aprobada</td>\n",
       "      <td>1.0</td>\n",
       "      <td>finales</td>\n",
       "    </tr>\n",
       "    <tr>\n",
       "      <th>63</th>\n",
       "      <td>59288</td>\n",
       "      <td>2021.0</td>\n",
       "      <td>951196</td>\n",
       "      <td>V</td>\n",
       "      <td>NaN</td>\n",
       "      <td>NaN</td>\n",
       "      <td>No Aprobada</td>\n",
       "      <td>2.0</td>\n",
       "      <td>finales</td>\n",
       "    </tr>\n",
       "    <tr>\n",
       "      <th>66</th>\n",
       "      <td>59613</td>\n",
       "      <td>2017.0</td>\n",
       "      <td>951196</td>\n",
       "      <td>V</td>\n",
       "      <td>7.0</td>\n",
       "      <td>NaN</td>\n",
       "      <td>Aprobada</td>\n",
       "      <td>1.0</td>\n",
       "      <td>finales</td>\n",
       "    </tr>\n",
       "    <tr>\n",
       "      <th>67</th>\n",
       "      <td>59613</td>\n",
       "      <td>2017.0</td>\n",
       "      <td>951196</td>\n",
       "      <td>V</td>\n",
       "      <td>NaN</td>\n",
       "      <td>NaN</td>\n",
       "      <td>No Aprobada</td>\n",
       "      <td>2.0</td>\n",
       "      <td>finales</td>\n",
       "    </tr>\n",
       "    <tr>\n",
       "      <th>70</th>\n",
       "      <td>59828</td>\n",
       "      <td>2021.0</td>\n",
       "      <td>951196</td>\n",
       "      <td>V</td>\n",
       "      <td>7.0</td>\n",
       "      <td>NaN</td>\n",
       "      <td>Aprobada</td>\n",
       "      <td>1.0</td>\n",
       "      <td>finales</td>\n",
       "    </tr>\n",
       "    <tr>\n",
       "      <th>71</th>\n",
       "      <td>59828</td>\n",
       "      <td>2021.0</td>\n",
       "      <td>951196</td>\n",
       "      <td>V</td>\n",
       "      <td>NaN</td>\n",
       "      <td>NaN</td>\n",
       "      <td>No Aprobada</td>\n",
       "      <td>2.0</td>\n",
       "      <td>finales</td>\n",
       "    </tr>\n",
       "    <tr>\n",
       "      <th>74</th>\n",
       "      <td>46389</td>\n",
       "      <td>2018.0</td>\n",
       "      <td>950289</td>\n",
       "      <td>O</td>\n",
       "      <td>9.0</td>\n",
       "      <td>NaN</td>\n",
       "      <td>Aprobada</td>\n",
       "      <td>1.0</td>\n",
       "      <td>finales</td>\n",
       "    </tr>\n",
       "    <tr>\n",
       "      <th>75</th>\n",
       "      <td>46389</td>\n",
       "      <td>2018.0</td>\n",
       "      <td>950289</td>\n",
       "      <td>O</td>\n",
       "      <td>NaN</td>\n",
       "      <td>NaN</td>\n",
       "      <td>No Aprobada</td>\n",
       "      <td>2.0</td>\n",
       "      <td>finales</td>\n",
       "    </tr>\n",
       "    <tr>\n",
       "      <th>78</th>\n",
       "      <td>46999</td>\n",
       "      <td>2018.0</td>\n",
       "      <td>950289</td>\n",
       "      <td>O</td>\n",
       "      <td>9.0</td>\n",
       "      <td>NaN</td>\n",
       "      <td>Aprobada</td>\n",
       "      <td>1.0</td>\n",
       "      <td>finales</td>\n",
       "    </tr>\n",
       "    <tr>\n",
       "      <th>79</th>\n",
       "      <td>46999</td>\n",
       "      <td>2018.0</td>\n",
       "      <td>950289</td>\n",
       "      <td>O</td>\n",
       "      <td>NaN</td>\n",
       "      <td>NaN</td>\n",
       "      <td>No Aprobada</td>\n",
       "      <td>2.0</td>\n",
       "      <td>finales</td>\n",
       "    </tr>\n",
       "    <tr>\n",
       "      <th>82</th>\n",
       "      <td>47679</td>\n",
       "      <td>2018.0</td>\n",
       "      <td>950289</td>\n",
       "      <td>O</td>\n",
       "      <td>9.0</td>\n",
       "      <td>NaN</td>\n",
       "      <td>Aprobada</td>\n",
       "      <td>1.0</td>\n",
       "      <td>finales</td>\n",
       "    </tr>\n",
       "    <tr>\n",
       "      <th>83</th>\n",
       "      <td>47679</td>\n",
       "      <td>2018.0</td>\n",
       "      <td>950289</td>\n",
       "      <td>O</td>\n",
       "      <td>NaN</td>\n",
       "      <td>NaN</td>\n",
       "      <td>No Aprobada</td>\n",
       "      <td>2.0</td>\n",
       "      <td>finales</td>\n",
       "    </tr>\n",
       "    <tr>\n",
       "      <th>86</th>\n",
       "      <td>49572</td>\n",
       "      <td>2018.0</td>\n",
       "      <td>950289</td>\n",
       "      <td>O</td>\n",
       "      <td>10.0</td>\n",
       "      <td>NaN</td>\n",
       "      <td>Aprobada</td>\n",
       "      <td>1.0</td>\n",
       "      <td>finales</td>\n",
       "    </tr>\n",
       "    <tr>\n",
       "      <th>87</th>\n",
       "      <td>49572</td>\n",
       "      <td>2018.0</td>\n",
       "      <td>950289</td>\n",
       "      <td>O</td>\n",
       "      <td>NaN</td>\n",
       "      <td>NaN</td>\n",
       "      <td>No Aprobada</td>\n",
       "      <td>2.0</td>\n",
       "      <td>finales</td>\n",
       "    </tr>\n",
       "    <tr>\n",
       "      <th>90</th>\n",
       "      <td>49996</td>\n",
       "      <td>2021.0</td>\n",
       "      <td>950289</td>\n",
       "      <td>O</td>\n",
       "      <td>NaN</td>\n",
       "      <td>NaN</td>\n",
       "      <td>No Aprobada</td>\n",
       "      <td>1.0</td>\n",
       "      <td>finales</td>\n",
       "    </tr>\n",
       "    <tr>\n",
       "      <th>91</th>\n",
       "      <td>49996</td>\n",
       "      <td>2022.0</td>\n",
       "      <td>950289</td>\n",
       "      <td>O</td>\n",
       "      <td>9.0</td>\n",
       "      <td>NaN</td>\n",
       "      <td>Aprobada</td>\n",
       "      <td>2.0</td>\n",
       "      <td>finales</td>\n",
       "    </tr>\n",
       "  </tbody>\n",
       "</table>\n",
       "</div>"
      ],
      "text/plain": [
       "   codigo_alumno  anio_academico codigo_materia codigo_carrera  nota_num  \\\n",
       "0          53038          2018.0         950594              Q       9.0   \n",
       "1          53038          2018.0         950594              Q       NaN   \n",
       "4          54194          2021.0         950594              Q       8.0   \n",
       "5          54194          2021.0         950594              Q       NaN   \n",
       "8          41629          2017.0         950459              R       8.0   \n",
       "9          41629          2017.0         950459              R       NaN   \n",
       "12         47623          2018.0         950459              R      10.0   \n",
       "13         47623          2018.0         950459              R       NaN   \n",
       "16         49232          2018.0         950459              R      10.0   \n",
       "17         49232          2018.0         950459              R       NaN   \n",
       "20         50088          2022.0         950459              R       9.0   \n",
       "21         50088          2022.0         950459              R       NaN   \n",
       "24         50093          2018.0         950459              R      10.0   \n",
       "25         50093          2018.0         950459              R       NaN   \n",
       "28         50105          2018.0         950459              R      10.0   \n",
       "29         50105          2018.0         950459              R       NaN   \n",
       "32         51794          2020.0         950459              R       9.0   \n",
       "33         51794          2020.0         950459              R       NaN   \n",
       "36         52254          2021.0         950459              R      10.0   \n",
       "37         52254          2021.0         950459              R       NaN   \n",
       "40         52601          2020.0         950459              R       NaN   \n",
       "41         52601          2022.0         950459              R      10.0   \n",
       "42         57212          2021.0         951196              V       7.0   \n",
       "43         57212          2021.0         951196              V       NaN   \n",
       "46         57387          2017.0         951196              V       7.0   \n",
       "47         57387          2017.0         951196              V       NaN   \n",
       "50         57834          2019.0         951196              V       7.0   \n",
       "51         57834          2019.0         951196              V       NaN   \n",
       "54         57910          2017.0         951196              V       7.0   \n",
       "55         57910          2017.0         951196              V       NaN   \n",
       "58         58567          2021.0         951196              V       8.0   \n",
       "59         58567          2021.0         951196              V       NaN   \n",
       "62         59288          2021.0         951196              V       7.0   \n",
       "63         59288          2021.0         951196              V       NaN   \n",
       "66         59613          2017.0         951196              V       7.0   \n",
       "67         59613          2017.0         951196              V       NaN   \n",
       "70         59828          2021.0         951196              V       7.0   \n",
       "71         59828          2021.0         951196              V       NaN   \n",
       "74         46389          2018.0         950289              O       9.0   \n",
       "75         46389          2018.0         950289              O       NaN   \n",
       "78         46999          2018.0         950289              O       9.0   \n",
       "79         46999          2018.0         950289              O       NaN   \n",
       "82         47679          2018.0         950289              O       9.0   \n",
       "83         47679          2018.0         950289              O       NaN   \n",
       "86         49572          2018.0         950289              O      10.0   \n",
       "87         49572          2018.0         950289              O       NaN   \n",
       "90         49996          2021.0         950289              O       NaN   \n",
       "91         49996          2022.0         950289              O       9.0   \n",
       "\n",
       "   nota_cual     nota_txt  cant_finales  dataset  \n",
       "0        NaN     Aprobada           1.0  finales  \n",
       "1        NaN  No Aprobada           2.0  finales  \n",
       "4        NaN     Aprobada           1.0  finales  \n",
       "5        NaN  No Aprobada           2.0  finales  \n",
       "8        NaN     Aprobada           1.0  finales  \n",
       "9        NaN  No Aprobada           2.0  finales  \n",
       "12       NaN     Aprobada           1.0  finales  \n",
       "13       NaN  No Aprobada           2.0  finales  \n",
       "16       NaN     Aprobada           1.0  finales  \n",
       "17       NaN  No Aprobada           2.0  finales  \n",
       "20       NaN     Aprobada           1.0  finales  \n",
       "21       NaN  No Aprobada           2.0  finales  \n",
       "24       NaN     Aprobada           1.0  finales  \n",
       "25       NaN  No Aprobada           2.0  finales  \n",
       "28       NaN     Aprobada           1.0  finales  \n",
       "29       NaN  No Aprobada           2.0  finales  \n",
       "32       NaN     Aprobada           1.0  finales  \n",
       "33       NaN  No Aprobada           2.0  finales  \n",
       "36       NaN     Aprobada           1.0  finales  \n",
       "37       NaN  No Aprobada           2.0  finales  \n",
       "40       NaN  No Aprobada           1.0  finales  \n",
       "41       NaN     Aprobada           2.0  finales  \n",
       "42       NaN     Aprobada           1.0  finales  \n",
       "43       NaN  No Aprobada           2.0  finales  \n",
       "46       NaN     Aprobada           1.0  finales  \n",
       "47       NaN  No Aprobada           2.0  finales  \n",
       "50       NaN     Aprobada           1.0  finales  \n",
       "51       NaN  No Aprobada           2.0  finales  \n",
       "54       NaN     Aprobada           1.0  finales  \n",
       "55       NaN  No Aprobada           2.0  finales  \n",
       "58       NaN     Aprobada           1.0  finales  \n",
       "59       NaN  No Aprobada           2.0  finales  \n",
       "62       NaN     Aprobada           1.0  finales  \n",
       "63       NaN  No Aprobada           2.0  finales  \n",
       "66       NaN     Aprobada           1.0  finales  \n",
       "67       NaN  No Aprobada           2.0  finales  \n",
       "70       NaN     Aprobada           1.0  finales  \n",
       "71       NaN  No Aprobada           2.0  finales  \n",
       "74       NaN     Aprobada           1.0  finales  \n",
       "75       NaN  No Aprobada           2.0  finales  \n",
       "78       NaN     Aprobada           1.0  finales  \n",
       "79       NaN  No Aprobada           2.0  finales  \n",
       "82       NaN     Aprobada           1.0  finales  \n",
       "83       NaN  No Aprobada           2.0  finales  \n",
       "86       NaN     Aprobada           1.0  finales  \n",
       "87       NaN  No Aprobada           2.0  finales  \n",
       "90       NaN  No Aprobada           1.0  finales  \n",
       "91       NaN     Aprobada           2.0  finales  "
      ]
     },
     "execution_count": 50,
     "metadata": {},
     "output_type": "execute_result"
    }
   ],
   "source": [
    "aux = fin_pf[fin_pf.codigo_alumno.isin(fin_pf[fin_pf.codigo_alumno.duplicated()]['codigo_alumno'])].copy()\n",
    "\n",
    "pd.merge(aux, findf, on=['codigo_alumno','codigo_materia', 'anio_academico'], how='inner').drop_duplicates()"
   ]
  },
  {
   "attachments": {},
   "cell_type": "markdown",
   "metadata": {},
   "source": [
    "#### conclusion\n",
    "\n",
    "los finales duplicados son ausentes"
   ]
  },
  {
   "attachments": {},
   "cell_type": "markdown",
   "metadata": {},
   "source": [
    "## Armado del dataset"
   ]
  },
  {
   "attachments": {},
   "cell_type": "markdown",
   "metadata": {},
   "source": [
    "| codigo_alumno | anio_ingreso | ultima_cursada | ultimo_final | egreso_anio |\n",
    "| --- | --- | --- | --- | --- |"
   ]
  },
  {
   "cell_type": "code",
   "execution_count": 51,
   "metadata": {},
   "outputs": [
    {
     "data": {
      "text/plain": [
       "Index(['codigo_alumno', 'sexo', 'anio_nacimiento', 'anio_ingreso',\n",
       "       'codigo_carrera_ingreso'],\n",
       "      dtype='object')"
      ]
     },
     "execution_count": 51,
     "metadata": {},
     "output_type": "execute_result"
    }
   ],
   "source": [
    "datdf_aux.columns"
   ]
  },
  {
   "cell_type": "code",
   "execution_count": 62,
   "metadata": {},
   "outputs": [
    {
     "name": "stdout",
     "output_type": "stream",
     "text": [
      "(20250, 5)\n",
      "20250\n"
     ]
    }
   ],
   "source": [
    "print(datdf_aux.shape)\n",
    "print(datdf_aux.codigo_alumno.nunique())"
   ]
  },
  {
   "cell_type": "code",
   "execution_count": 53,
   "metadata": {},
   "outputs": [],
   "source": [
    "# aux1 = datdf[['codigo_alumno','anio_ingreso']].copy()"
   ]
  },
  {
   "cell_type": "code",
   "execution_count": 54,
   "metadata": {},
   "outputs": [
    {
     "data": {
      "text/plain": [
       "Index(['codigo_alumno', 'codigo_carrera', 'ciclo_lectivo'], dtype='object')"
      ]
     },
     "execution_count": 54,
     "metadata": {},
     "output_type": "execute_result"
    }
   ],
   "source": [
    "cur_pf_aux.columns"
   ]
  },
  {
   "cell_type": "code",
   "execution_count": 56,
   "metadata": {},
   "outputs": [],
   "source": [
    "aux2 = cur_pf_aux[['codigo_alumno','ciclo_lectivo']].copy()"
   ]
  },
  {
   "cell_type": "code",
   "execution_count": 57,
   "metadata": {},
   "outputs": [
    {
     "data": {
      "text/plain": [
       "Index(['codigo_alumno', 'codigo_carrera', 'anio_academico'], dtype='object')"
      ]
     },
     "execution_count": 57,
     "metadata": {},
     "output_type": "execute_result"
    }
   ],
   "source": [
    "fin_pf_aux.columns"
   ]
  },
  {
   "cell_type": "code",
   "execution_count": 58,
   "metadata": {},
   "outputs": [],
   "source": [
    "aux3 = fin_pf_aux[['codigo_alumno','anio_academico']].copy()"
   ]
  },
  {
   "cell_type": "code",
   "execution_count": 64,
   "metadata": {},
   "outputs": [
    {
     "data": {
      "text/html": [
       "<div>\n",
       "<style scoped>\n",
       "    .dataframe tbody tr th:only-of-type {\n",
       "        vertical-align: middle;\n",
       "    }\n",
       "\n",
       "    .dataframe tbody tr th {\n",
       "        vertical-align: top;\n",
       "    }\n",
       "\n",
       "    .dataframe thead th {\n",
       "        text-align: right;\n",
       "    }\n",
       "</style>\n",
       "<table border=\"1\" class=\"dataframe\">\n",
       "  <thead>\n",
       "    <tr style=\"text-align: right;\">\n",
       "      <th></th>\n",
       "      <th>codigo_alumno</th>\n",
       "      <th>ciclo_lectivo</th>\n",
       "      <th>anio_academico</th>\n",
       "      <th>sexo</th>\n",
       "      <th>anio_nacimiento</th>\n",
       "      <th>anio_ingreso</th>\n",
       "      <th>codigo_carrera_ingreso</th>\n",
       "    </tr>\n",
       "  </thead>\n",
       "  <tbody>\n",
       "    <tr>\n",
       "      <th>0</th>\n",
       "      <td>11123</td>\n",
       "      <td>2023.0</td>\n",
       "      <td>NaN</td>\n",
       "      <td>M</td>\n",
       "      <td>1967</td>\n",
       "      <td>1993</td>\n",
       "      <td>R</td>\n",
       "    </tr>\n",
       "    <tr>\n",
       "      <th>1</th>\n",
       "      <td>18230</td>\n",
       "      <td>2015.0</td>\n",
       "      <td>2015.0</td>\n",
       "      <td>M</td>\n",
       "      <td>1961</td>\n",
       "      <td>1984</td>\n",
       "      <td>Q</td>\n",
       "    </tr>\n",
       "    <tr>\n",
       "      <th>2</th>\n",
       "      <td>2455</td>\n",
       "      <td>2000.0</td>\n",
       "      <td>2000.0</td>\n",
       "      <td>M</td>\n",
       "      <td>1973</td>\n",
       "      <td>1992</td>\n",
       "      <td>S</td>\n",
       "    </tr>\n",
       "    <tr>\n",
       "      <th>3</th>\n",
       "      <td>30398</td>\n",
       "      <td>2010.0</td>\n",
       "      <td>NaN</td>\n",
       "      <td>M</td>\n",
       "      <td>1986</td>\n",
       "      <td>2005</td>\n",
       "      <td>S</td>\n",
       "    </tr>\n",
       "    <tr>\n",
       "      <th>4</th>\n",
       "      <td>33434</td>\n",
       "      <td>2016.0</td>\n",
       "      <td>NaN</td>\n",
       "      <td>M</td>\n",
       "      <td>1980</td>\n",
       "      <td>1999</td>\n",
       "      <td>K</td>\n",
       "    </tr>\n",
       "  </tbody>\n",
       "</table>\n",
       "</div>"
      ],
      "text/plain": [
       "  codigo_alumno  ciclo_lectivo  anio_academico sexo  anio_nacimiento  \\\n",
       "0         11123         2023.0             NaN    M             1967   \n",
       "1         18230         2015.0          2015.0    M             1961   \n",
       "2          2455         2000.0          2000.0    M             1973   \n",
       "3         30398         2010.0             NaN    M             1986   \n",
       "4         33434         2016.0             NaN    M             1980   \n",
       "\n",
       "   anio_ingreso codigo_carrera_ingreso  \n",
       "0          1993                      R  \n",
       "1          1984                      Q  \n",
       "2          1992                      S  \n",
       "3          2005                      S  \n",
       "4          1999                      K  "
      ]
     },
     "execution_count": 64,
     "metadata": {},
     "output_type": "execute_result"
    }
   ],
   "source": [
    "# juntamos los 3 datasets\n",
    "\n",
    "df_pf = pd.merge(aux2, aux3, on='codigo_alumno', how = 'left' )\n",
    "\n",
    "df_pf = pd.merge(df_pf, datdf_aux, on = 'codigo_alumno', how = 'inner' )\n",
    "\n",
    "df_pf.head()"
   ]
  },
  {
   "cell_type": "code",
   "execution_count": 65,
   "metadata": {},
   "outputs": [
    {
     "data": {
      "text/plain": [
       "3551"
      ]
     },
     "execution_count": 65,
     "metadata": {},
     "output_type": "execute_result"
    }
   ],
   "source": [
    "df_pf.codigo_alumno.nunique()"
   ]
  },
  {
   "attachments": {},
   "cell_type": "markdown",
   "metadata": {},
   "source": [
    "## Nexts Steps\n",
    "\n",
    "- tengo el dataset de ultimas cursadas y ultimos finales dados\n",
    "---\n",
    "- [ ] TODO: TARGET. falta armar el dataset con el target. \n",
    "    - tener en cuenta el año de la cursada + 2 para q sea desertor\n",
    "    - si rindio el final, egreso y no deberia contemplarse como desertor a pesar de haberse recibido antes\n",
    "\n",
    "---\n",
    "- [ ] TODO: DATASET\n",
    "    - 1. a nivel alumno\n",
    "    - 2. a nivel ciclo lectivo para hacerlo temporal"
   ]
  },
  {
   "cell_type": "code",
   "execution_count": null,
   "metadata": {},
   "outputs": [],
   "source": []
  },
  {
   "cell_type": "code",
   "execution_count": null,
   "metadata": {},
   "outputs": [],
   "source": []
  },
  {
   "cell_type": "code",
   "execution_count": null,
   "metadata": {},
   "outputs": [],
   "source": []
  }
 ],
 "metadata": {
  "kernelspec": {
   "display_name": "Python 3.8.10 ('tesis-9WwmOtq2-py3.8')",
   "language": "python",
   "name": "python3"
  },
  "language_info": {
   "codemirror_mode": {
    "name": "ipython",
    "version": 3
   },
   "file_extension": ".py",
   "mimetype": "text/x-python",
   "name": "python",
   "nbconvert_exporter": "python",
   "pygments_lexer": "ipython3",
   "version": "3.9.4"
  },
  "orig_nbformat": 4,
  "vscode": {
   "interpreter": {
    "hash": "c1241d3ae1d9ef889cb983698819564df5bcd3d314d5bb2265dfbf272bfe2174"
   }
  }
 },
 "nbformat": 4,
 "nbformat_minor": 2
}
