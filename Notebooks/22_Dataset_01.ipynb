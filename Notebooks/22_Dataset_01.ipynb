{
 "cells": [
  {
   "attachments": {},
   "cell_type": "markdown",
   "metadata": {},
   "source": [
    "# Universo / Target"
   ]
  },
  {
   "attachments": {},
   "cell_type": "markdown",
   "metadata": {},
   "source": [
    "## Definición de target\n",
    "\n",
    "Target = 1 cuando el alumno no curso ni rindió finales por 2 ciclos lectivos consecutivos y no haya finalizado la carrera\n",
    "\n",
    "## Dataset a armar\n",
    "\n",
    "ejemplo\n",
    "\n",
    "| Alumno | Ciclo | Target |\n",
    "| --- | --- | --- |\n",
    "| 1 | 2010 | 0 |\n",
    "| 1 | 2011 | 0 |\n",
    "| 1 | 2012 | 1 |\n",
    "| 1 | 2013 | 1 |\n",
    "| 2 | 2012 | 0 |\n",
    "| 2 | 2013 | 0 |\n",
    "| 2 | 2014 | 0 |\n",
    "| 2 | 2015 | 0 |\n",
    "\n",
    "- ciclo minimo es el año de ingreso del alumno\n",
    "- ciclo maximo es el año de egreso del alumno o del ultimo registro (cursadas o finales) + 2\n",
    "\n",
    "\n"
   ]
  },
  {
   "cell_type": "code",
   "execution_count": 2,
   "metadata": {},
   "outputs": [],
   "source": [
    "import pandas as pd\n",
    "import numpy as np"
   ]
  },
  {
   "cell_type": "code",
   "execution_count": 22,
   "metadata": {},
   "outputs": [],
   "source": [
    "import seaborn as sns"
   ]
  },
  {
   "cell_type": "code",
   "execution_count": 3,
   "metadata": {},
   "outputs": [
    {
     "name": "stderr",
     "output_type": "stream",
     "text": [
      "/Users/sjaremczuk/Library/Caches/pypoetry/virtualenvs/tesis-ds-polkNLC9-py3.9/lib/python3.9/site-packages/numba/core/decorators.py:262: NumbaDeprecationWarning: numba.generated_jit is deprecated. Please see the documentation at: https://numba.readthedocs.io/en/stable/reference/deprecation.html#deprecation-of-generated-jit for more information and advice on a suitable replacement.\n",
      "  warnings.warn(msg, NumbaDeprecationWarning)\n",
      "/Users/sjaremczuk/Library/Caches/pypoetry/virtualenvs/tesis-ds-polkNLC9-py3.9/lib/python3.9/site-packages/visions/backends/shared/nan_handling.py:51: NumbaDeprecationWarning: The 'nopython' keyword argument was not supplied to the 'numba.jit' decorator. The implicit default value for this argument is currently False, but it will be changed to True in Numba 0.59.0. See https://numba.readthedocs.io/en/stable/reference/deprecation.html#deprecation-of-object-mode-fall-back-behaviour-when-using-jit for details.\n",
      "  def hasna(x: np.ndarray) -> bool:\n"
     ]
    }
   ],
   "source": [
    "from ydata_profiling import ProfileReport"
   ]
  },
  {
   "attachments": {},
   "cell_type": "markdown",
   "metadata": {},
   "source": [
    "## Datos de entrada"
   ]
  },
  {
   "cell_type": "code",
   "execution_count": 4,
   "metadata": {},
   "outputs": [
    {
     "name": "stdout",
     "output_type": "stream",
     "text": [
      "cur shape:  (465939, 9)\n",
      "cur_comp shape:  (171997, 9)\n",
      "datdf shape:  (20250, 5)\n",
      "fin shape:  (431968, 8)\n",
      "df_ultimos_registros shape:  (20250, 8)\n"
     ]
    }
   ],
   "source": [
    "curdf = pd.read_pickle('../data/raw_cleaned/curdf_02.pkl')\n",
    "print('cur shape: ',curdf.shape)\n",
    "curdf_comp = pd.read_pickle('../data/raw_cleaned/curdf_complementario_02.pkl')\n",
    "print('cur_comp shape: ',curdf_comp.shape)\n",
    "datdf = pd.read_pickle('../data/raw_cleaned/datdf_02.pkl')\n",
    "print('datdf shape: ',datdf.shape)\n",
    "findf = pd.read_pickle('../data/raw_cleaned/findf_02.pkl')\n",
    "print('fin shape: ',findf.shape)\n",
    "df_ultimos_registros = pd.read_pickle('../data/processed/dataset_intermedio_primeros_y_ultimos_registros.pkl')\n",
    "print('df_ultimos_registros shape: ',df_ultimos_registros.shape)"
   ]
  },
  {
   "attachments": {},
   "cell_type": "markdown",
   "metadata": {},
   "source": [
    "## Reduccion de alumnos\n",
    "\n",
    "- solo quedan los alumnos de las carreras:\n",
    "\n",
    "|cod|carrera|alumnos|\n",
    "|---|----------|----------|\n",
    "| K | sistemas |     8702 |\n",
    "|R|electronica|     3278|\n",
    "|S|mecanica     |2822|\n",
    "|V|quimica     |2475|\n",
    "|O|civil     |2045|\n",
    "|Q|eléctrica|      928|"
   ]
  },
  {
   "cell_type": "code",
   "execution_count": 6,
   "metadata": {},
   "outputs": [
    {
     "data": {
      "text/plain": [
       "Index(['codigo_alumno', 'anio_ingreso', 'codigo_carrera_ingreso',\n",
       "       'ultima_cursada', 'ultimo_final', 'final_proyecto_final',\n",
       "       'nota_txt_proyecto_final', 'codigo_fin_carrera'],\n",
       "      dtype='object')"
      ]
     },
     "execution_count": 6,
     "metadata": {},
     "output_type": "execute_result"
    }
   ],
   "source": [
    "df_ultimos_registros.columns"
   ]
  },
  {
   "cell_type": "code",
   "execution_count": 7,
   "metadata": {},
   "outputs": [
    {
     "data": {
      "text/html": [
       "<div>\n",
       "<style scoped>\n",
       "    .dataframe tbody tr th:only-of-type {\n",
       "        vertical-align: middle;\n",
       "    }\n",
       "\n",
       "    .dataframe tbody tr th {\n",
       "        vertical-align: top;\n",
       "    }\n",
       "\n",
       "    .dataframe thead th {\n",
       "        text-align: right;\n",
       "    }\n",
       "</style>\n",
       "<table border=\"1\" class=\"dataframe\">\n",
       "  <thead>\n",
       "    <tr style=\"text-align: right;\">\n",
       "      <th></th>\n",
       "      <th>codigo_alumno</th>\n",
       "      <th>anio_ingreso</th>\n",
       "      <th>codigo_carrera_ingreso</th>\n",
       "      <th>ultima_cursada</th>\n",
       "      <th>ultimo_final</th>\n",
       "      <th>final_proyecto_final</th>\n",
       "      <th>nota_txt_proyecto_final</th>\n",
       "      <th>codigo_fin_carrera</th>\n",
       "    </tr>\n",
       "  </thead>\n",
       "  <tbody>\n",
       "    <tr>\n",
       "      <th>0</th>\n",
       "      <td>10035</td>\n",
       "      <td>2002</td>\n",
       "      <td>K</td>\n",
       "      <td>2009.0</td>\n",
       "      <td>2009.0</td>\n",
       "      <td>NaN</td>\n",
       "      <td>NaN</td>\n",
       "      <td>NaN</td>\n",
       "    </tr>\n",
       "    <tr>\n",
       "      <th>1</th>\n",
       "      <td>10036</td>\n",
       "      <td>2003</td>\n",
       "      <td>K</td>\n",
       "      <td>2007.0</td>\n",
       "      <td>2004.0</td>\n",
       "      <td>NaN</td>\n",
       "      <td>NaN</td>\n",
       "      <td>NaN</td>\n",
       "    </tr>\n",
       "    <tr>\n",
       "      <th>2</th>\n",
       "      <td>10039</td>\n",
       "      <td>2000</td>\n",
       "      <td>K</td>\n",
       "      <td>2007.0</td>\n",
       "      <td>2007.0</td>\n",
       "      <td>NaN</td>\n",
       "      <td>NaN</td>\n",
       "      <td>NaN</td>\n",
       "    </tr>\n",
       "    <tr>\n",
       "      <th>3</th>\n",
       "      <td>10042</td>\n",
       "      <td>2000</td>\n",
       "      <td>K</td>\n",
       "      <td>2008.0</td>\n",
       "      <td>2007.0</td>\n",
       "      <td>NaN</td>\n",
       "      <td>NaN</td>\n",
       "      <td>NaN</td>\n",
       "    </tr>\n",
       "    <tr>\n",
       "      <th>4</th>\n",
       "      <td>10044</td>\n",
       "      <td>2006</td>\n",
       "      <td>K</td>\n",
       "      <td>2007.0</td>\n",
       "      <td>2006.0</td>\n",
       "      <td>NaN</td>\n",
       "      <td>NaN</td>\n",
       "      <td>NaN</td>\n",
       "    </tr>\n",
       "  </tbody>\n",
       "</table>\n",
       "</div>"
      ],
      "text/plain": [
       "  codigo_alumno  anio_ingreso codigo_carrera_ingreso  ultima_cursada  \\\n",
       "0         10035          2002                      K          2009.0   \n",
       "1         10036          2003                      K          2007.0   \n",
       "2         10039          2000                      K          2007.0   \n",
       "3         10042          2000                      K          2008.0   \n",
       "4         10044          2006                      K          2007.0   \n",
       "\n",
       "   ultimo_final  final_proyecto_final nota_txt_proyecto_final  \\\n",
       "0        2009.0                   NaN                     NaN   \n",
       "1        2004.0                   NaN                     NaN   \n",
       "2        2007.0                   NaN                     NaN   \n",
       "3        2007.0                   NaN                     NaN   \n",
       "4        2006.0                   NaN                     NaN   \n",
       "\n",
       "  codigo_fin_carrera  \n",
       "0                NaN  \n",
       "1                NaN  \n",
       "2                NaN  \n",
       "3                NaN  \n",
       "4                NaN  "
      ]
     },
     "execution_count": 7,
     "metadata": {},
     "output_type": "execute_result"
    }
   ],
   "source": [
    "df_ultimos_registros.head()"
   ]
  },
  {
   "cell_type": "code",
   "execution_count": 8,
   "metadata": {},
   "outputs": [],
   "source": [
    "df = df_ultimos_registros.copy()\n",
    "# agrego ultimo registro\n",
    "df['ultimo_registro'] = df.apply(lambda x: max( [x.ultima_cursada, x.ultimo_final] ), axis=1)"
   ]
  },
  {
   "cell_type": "code",
   "execution_count": 13,
   "metadata": {},
   "outputs": [
    {
     "data": {
      "text/plain": [
       "Aprobada    1513\n",
       "Name: nota_txt_proyecto_final, dtype: int64"
      ]
     },
     "execution_count": 13,
     "metadata": {},
     "output_type": "execute_result"
    }
   ],
   "source": [
    "df.nota_txt_proyecto_final.value_counts()"
   ]
  },
  {
   "cell_type": "code",
   "execution_count": 14,
   "metadata": {},
   "outputs": [],
   "source": [
    "df['anio_desertor'] = df.apply(lambda x: x.ultimo_registro + 2, axis=1)\n",
    "df['desertor'] = df.apply(lambda x: 1 if ((x.anio_desertor < 2022)&(x.nota_txt_proyecto_final != 'Aprobada' )) else 0, axis=1)"
   ]
  },
  {
   "cell_type": "code",
   "execution_count": 15,
   "metadata": {},
   "outputs": [
    {
     "data": {
      "text/html": [
       "<div>\n",
       "<style scoped>\n",
       "    .dataframe tbody tr th:only-of-type {\n",
       "        vertical-align: middle;\n",
       "    }\n",
       "\n",
       "    .dataframe tbody tr th {\n",
       "        vertical-align: top;\n",
       "    }\n",
       "\n",
       "    .dataframe thead th {\n",
       "        text-align: right;\n",
       "    }\n",
       "</style>\n",
       "<table border=\"1\" class=\"dataframe\">\n",
       "  <thead>\n",
       "    <tr style=\"text-align: right;\">\n",
       "      <th></th>\n",
       "      <th>codigo_alumno</th>\n",
       "      <th>anio_ingreso</th>\n",
       "      <th>codigo_carrera_ingreso</th>\n",
       "      <th>ultima_cursada</th>\n",
       "      <th>ultimo_final</th>\n",
       "      <th>final_proyecto_final</th>\n",
       "      <th>nota_txt_proyecto_final</th>\n",
       "      <th>codigo_fin_carrera</th>\n",
       "      <th>ultimo_registro</th>\n",
       "      <th>anio_desertor</th>\n",
       "      <th>desertor</th>\n",
       "    </tr>\n",
       "  </thead>\n",
       "  <tbody>\n",
       "    <tr>\n",
       "      <th>0</th>\n",
       "      <td>10035</td>\n",
       "      <td>2002</td>\n",
       "      <td>K</td>\n",
       "      <td>2009.0</td>\n",
       "      <td>2009.0</td>\n",
       "      <td>NaN</td>\n",
       "      <td>NaN</td>\n",
       "      <td>NaN</td>\n",
       "      <td>2009.0</td>\n",
       "      <td>2011.0</td>\n",
       "      <td>1</td>\n",
       "    </tr>\n",
       "    <tr>\n",
       "      <th>1</th>\n",
       "      <td>10036</td>\n",
       "      <td>2003</td>\n",
       "      <td>K</td>\n",
       "      <td>2007.0</td>\n",
       "      <td>2004.0</td>\n",
       "      <td>NaN</td>\n",
       "      <td>NaN</td>\n",
       "      <td>NaN</td>\n",
       "      <td>2007.0</td>\n",
       "      <td>2009.0</td>\n",
       "      <td>1</td>\n",
       "    </tr>\n",
       "    <tr>\n",
       "      <th>2</th>\n",
       "      <td>10039</td>\n",
       "      <td>2000</td>\n",
       "      <td>K</td>\n",
       "      <td>2007.0</td>\n",
       "      <td>2007.0</td>\n",
       "      <td>NaN</td>\n",
       "      <td>NaN</td>\n",
       "      <td>NaN</td>\n",
       "      <td>2007.0</td>\n",
       "      <td>2009.0</td>\n",
       "      <td>1</td>\n",
       "    </tr>\n",
       "    <tr>\n",
       "      <th>3</th>\n",
       "      <td>10042</td>\n",
       "      <td>2000</td>\n",
       "      <td>K</td>\n",
       "      <td>2008.0</td>\n",
       "      <td>2007.0</td>\n",
       "      <td>NaN</td>\n",
       "      <td>NaN</td>\n",
       "      <td>NaN</td>\n",
       "      <td>2008.0</td>\n",
       "      <td>2010.0</td>\n",
       "      <td>1</td>\n",
       "    </tr>\n",
       "    <tr>\n",
       "      <th>4</th>\n",
       "      <td>10044</td>\n",
       "      <td>2006</td>\n",
       "      <td>K</td>\n",
       "      <td>2007.0</td>\n",
       "      <td>2006.0</td>\n",
       "      <td>NaN</td>\n",
       "      <td>NaN</td>\n",
       "      <td>NaN</td>\n",
       "      <td>2007.0</td>\n",
       "      <td>2009.0</td>\n",
       "      <td>1</td>\n",
       "    </tr>\n",
       "  </tbody>\n",
       "</table>\n",
       "</div>"
      ],
      "text/plain": [
       "  codigo_alumno  anio_ingreso codigo_carrera_ingreso  ultima_cursada  \\\n",
       "0         10035          2002                      K          2009.0   \n",
       "1         10036          2003                      K          2007.0   \n",
       "2         10039          2000                      K          2007.0   \n",
       "3         10042          2000                      K          2008.0   \n",
       "4         10044          2006                      K          2007.0   \n",
       "\n",
       "   ultimo_final  final_proyecto_final nota_txt_proyecto_final  \\\n",
       "0        2009.0                   NaN                     NaN   \n",
       "1        2004.0                   NaN                     NaN   \n",
       "2        2007.0                   NaN                     NaN   \n",
       "3        2007.0                   NaN                     NaN   \n",
       "4        2006.0                   NaN                     NaN   \n",
       "\n",
       "  codigo_fin_carrera  ultimo_registro  anio_desertor  desertor  \n",
       "0                NaN           2009.0         2011.0         1  \n",
       "1                NaN           2007.0         2009.0         1  \n",
       "2                NaN           2007.0         2009.0         1  \n",
       "3                NaN           2008.0         2010.0         1  \n",
       "4                NaN           2007.0         2009.0         1  "
      ]
     },
     "execution_count": 15,
     "metadata": {},
     "output_type": "execute_result"
    }
   ],
   "source": [
    "df.head()"
   ]
  },
  {
   "cell_type": "code",
   "execution_count": 16,
   "metadata": {},
   "outputs": [
    {
     "data": {
      "text/plain": [
       "1    11786\n",
       "0     8464\n",
       "Name: desertor, dtype: int64"
      ]
     },
     "execution_count": 16,
     "metadata": {},
     "output_type": "execute_result"
    }
   ],
   "source": [
    "\n",
    "df.desertor.value_counts()"
   ]
  },
  {
   "cell_type": "code",
   "execution_count": 31,
   "metadata": {},
   "outputs": [
    {
     "data": {
      "text/plain": [
       "count    11786.000000\n",
       "mean         4.962498\n",
       "std          4.383188\n",
       "min          0.000000\n",
       "25%          2.000000\n",
       "50%          4.000000\n",
       "75%          7.000000\n",
       "max         40.000000\n",
       "Name: cant_anios, dtype: float64"
      ]
     },
     "execution_count": 31,
     "metadata": {},
     "output_type": "execute_result"
    }
   ],
   "source": [
    "aux = pd.DataFrame( {\n",
    "    'cant_anios': df['ultimo_registro'] - df['anio_ingreso'], \n",
    "    'desertor':df['desertor'],\n",
    "    'carrera': df['codigo_carrera_ingreso']\n",
    "    } )\n",
    "aux[aux.desertor == 1]['cant_anios'].describe()"
   ]
  },
  {
   "cell_type": "code",
   "execution_count": 32,
   "metadata": {},
   "outputs": [
    {
     "data": {
      "text/plain": [
       "<Axes: xlabel='desertor', ylabel='cant_anios'>"
      ]
     },
     "execution_count": 32,
     "metadata": {},
     "output_type": "execute_result"
    },
    {
     "data": {
      "image/png": "[encoded data removed]",
      "text/plain": [
       "<Figure size 640x480 with 1 Axes>"
      ]
     },
     "metadata": {},
     "output_type": "display_data"
    }
   ],
   "source": [
    "sns.boxplot( y=aux['cant_anios'], x=aux['desertor'], hue=aux['carrera'] )"
   ]
  },
  {
   "cell_type": "code",
   "execution_count": 33,
   "metadata": {},
   "outputs": [
    {
     "data": {
      "text/plain": [
       "count    20250.000000\n",
       "mean      2009.781185\n",
       "std          5.793368\n",
       "min       1972.000000\n",
       "25%       2006.000000\n",
       "50%       2010.000000\n",
       "75%       2014.000000\n",
       "max       2019.000000\n",
       "Name: anio_ingreso, dtype: float64"
      ]
     },
     "execution_count": 33,
     "metadata": {},
     "output_type": "execute_result"
    }
   ],
   "source": [
    "df.anio_ingreso.describe()"
   ]
  },
  {
   "cell_type": "code",
   "execution_count": 39,
   "metadata": {},
   "outputs": [],
   "source": [
    "perc = [x for x in np.round(np.arange(0,1,0.05),2) ]"
   ]
  },
  {
   "cell_type": "code",
   "execution_count": 40,
   "metadata": {},
   "outputs": [
    {
     "data": {
      "text/plain": [
       "count    20250.000000\n",
       "mean      2009.781185\n",
       "std          5.793368\n",
       "min       1972.000000\n",
       "0%        1972.000000\n",
       "5%        1999.000000\n",
       "10%       2002.000000\n",
       "15%       2004.000000\n",
       "20%       2005.000000\n",
       "25%       2006.000000\n",
       "30%       2007.000000\n",
       "35%       2008.000000\n",
       "40%       2009.000000\n",
       "45%       2009.000000\n",
       "50%       2010.000000\n",
       "55%       2011.000000\n",
       "60%       2012.000000\n",
       "65%       2013.000000\n",
       "70%       2013.000000\n",
       "75%       2014.000000\n",
       "80%       2015.000000\n",
       "85%       2016.000000\n",
       "90%       2017.000000\n",
       "95%       2018.000000\n",
       "max       2019.000000\n",
       "Name: anio_ingreso, dtype: float64"
      ]
     },
     "execution_count": 40,
     "metadata": {},
     "output_type": "execute_result"
    }
   ],
   "source": [
    "df.anio_ingreso.describe(percentiles= perc)"
   ]
  },
  {
   "cell_type": "code",
   "execution_count": 47,
   "metadata": {},
   "outputs": [
    {
     "data": {
      "text/plain": [
       "K    416\n",
       "R    162\n",
       "V     59\n",
       "S     51\n",
       "O     34\n",
       "Q     20\n",
       "Name: codigo_carrera_ingreso, dtype: int64"
      ]
     },
     "execution_count": 47,
     "metadata": {},
     "output_type": "execute_result"
    }
   ],
   "source": [
    "df[df.anio_ingreso < 1999]['codigo_carrera_ingreso'].value_counts()"
   ]
  },
  {
   "cell_type": "code",
   "execution_count": 48,
   "metadata": {},
   "outputs": [
    {
     "data": {
      "text/plain": [
       "count     742.000000\n",
       "mean     1994.799191\n",
       "std         3.976496\n",
       "min      1972.000000\n",
       "0%       1972.000000\n",
       "5%       1986.000000\n",
       "10%      1991.000000\n",
       "15%      1992.000000\n",
       "20%      1993.000000\n",
       "25%      1994.000000\n",
       "30%      1994.000000\n",
       "35%      1995.000000\n",
       "40%      1995.000000\n",
       "45%      1996.000000\n",
       "50%      1996.000000\n",
       "55%      1996.000000\n",
       "60%      1997.000000\n",
       "65%      1997.000000\n",
       "70%      1997.000000\n",
       "75%      1997.000000\n",
       "80%      1998.000000\n",
       "85%      1998.000000\n",
       "90%      1998.000000\n",
       "95%      1998.000000\n",
       "max      1998.000000\n",
       "Name: anio_ingreso, dtype: float64"
      ]
     },
     "execution_count": 48,
     "metadata": {},
     "output_type": "execute_result"
    }
   ],
   "source": [
    "df[df.anio_ingreso < 1999]['anio_ingreso'].describe(percentiles= perc)"
   ]
  },
  {
   "cell_type": "code",
   "execution_count": 50,
   "metadata": {},
   "outputs": [
    {
     "data": {
      "text/plain": [
       "<Axes: xlabel='anio_ingreso'>"
      ]
     },
     "execution_count": 50,
     "metadata": {},
     "output_type": "execute_result"
    },
    {
     "data": {
      "image/png": "[encoded data removed]",
      "text/plain": [
       "<Figure size 640x480 with 1 Axes>"
      ]
     },
     "metadata": {},
     "output_type": "display_data"
    }
   ],
   "source": [
    "sns.boxplot(x = df[df.anio_ingreso < 1999]['anio_ingreso'])"
   ]
  },
  {
   "attachments": {},
   "cell_type": "markdown",
   "metadata": {},
   "source": [
    "## Criterio\n",
    "\n",
    "- se podria reducir el dataset para aquellos alumnos que entraton dsps de 1994 asi entran con los planes de carrera 95 y 95A ya que los planes de carrera anteriores son muy distintos"
   ]
  },
  {
   "cell_type": "code",
   "execution_count": 51,
   "metadata": {},
   "outputs": [
    {
     "data": {
      "text/plain": [
       "11       1986\n",
       "25       1993\n",
       "119      1993\n",
       "254      1992\n",
       "634      1992\n",
       "         ... \n",
       "20061    1994\n",
       "20076    1994\n",
       "20098    1992\n",
       "20099    1990\n",
       "20120    1994\n",
       "Name: anio_ingreso, Length: 234, dtype: int64"
      ]
     },
     "execution_count": 51,
     "metadata": {},
     "output_type": "execute_result"
    }
   ],
   "source": [
    "df[df.anio_ingreso < 1995]['anio_ingreso']"
   ]
  },
  {
   "attachments": {},
   "cell_type": "markdown",
   "metadata": {},
   "source": [
    "### conclusion\n",
    "\n",
    "de los 20.250 alumnos que entraron a la facultad, se descartarian solo 234 alumnos y de carrearas variadas. Sigue siendo una muestra representativa y reduce significativamente la complejidad de análisis"
   ]
  },
  {
   "attachments": {},
   "cell_type": "markdown",
   "metadata": {},
   "source": [
    "## Reducimos dataset y guardamos"
   ]
  },
  {
   "cell_type": "code",
   "execution_count": 52,
   "metadata": {},
   "outputs": [
    {
     "data": {
      "text/plain": [
       "Index(['codigo_alumno', 'anio_ingreso', 'codigo_carrera_ingreso',\n",
       "       'ultima_cursada', 'ultimo_final', 'final_proyecto_final',\n",
       "       'nota_txt_proyecto_final', 'codigo_fin_carrera', 'ultimo_registro',\n",
       "       'anio_desertor', 'desertor'],\n",
       "      dtype='object')"
      ]
     },
     "execution_count": 52,
     "metadata": {},
     "output_type": "execute_result"
    }
   ],
   "source": [
    "df.columns"
   ]
  },
  {
   "cell_type": "code",
   "execution_count": 53,
   "metadata": {},
   "outputs": [],
   "source": [
    "delete = df.codigo_alumno[df.anio_ingreso < 1995]"
   ]
  },
  {
   "cell_type": "code",
   "execution_count": 54,
   "metadata": {},
   "outputs": [],
   "source": [
    "df = df[~df.codigo_alumno.isin(delete)]"
   ]
  },
  {
   "cell_type": "code",
   "execution_count": 55,
   "metadata": {},
   "outputs": [
    {
     "data": {
      "text/plain": [
       "(20016, 11)"
      ]
     },
     "execution_count": 55,
     "metadata": {},
     "output_type": "execute_result"
    }
   ],
   "source": [
    "df.shape"
   ]
  },
  {
   "cell_type": "code",
   "execution_count": 56,
   "metadata": {},
   "outputs": [],
   "source": [
    "cur = curdf[curdf.codigo_alumno.isin(df.codigo_alumno)]\n",
    "fin = findf[findf.codigo_alumno.isin(df.codigo_alumno)]\n",
    "curcomp = curdf_comp[curdf_comp.codigo_alumno.isin(df.codigo_alumno)]\n",
    "dat = datdf[datdf.codigo_alumno.isin(df.codigo_alumno)]\n",
    "\n",
    "df_ult = df_ultimos_registros[df_ultimos_registros.codigo_alumno.isin(df.codigo_alumno)]"
   ]
  },
  {
   "cell_type": "code",
   "execution_count": 57,
   "metadata": {},
   "outputs": [],
   "source": [
    "cur.to_pickle('../data/raw_cleaned/curdf_03.pkl')\n",
    "cur.to_csv('../data/raw_cleaned/curdf_03.csv')\n",
    "fin.to_pickle('../data/raw_cleaned/findf_03.pkl')\n",
    "fin.to_csv('../data/raw_cleaned/findf_03.csv')\n",
    "curcomp.to_pickle('../data/raw_cleaned/curdf_complementario_03.pkl')\n",
    "curcomp.to_csv('../data/raw_cleaned/curdf_complementario_03.csv')\n",
    "dat.to_pickle('../data/raw_cleaned/datdf_03.pkl')\n",
    "dat.to_csv('../data/raw_cleaned/datdf_03.csv')\n",
    "df_ult.to_pickle('../data/processed/dataset_intermedio_primeros_y_ultimos_registros_03.pkl')\n",
    "df_ult.to_csv('../data/processed/dataset_intermedio_primeros_y_ultimos_registros_03.csv')\n",
    "df.to_pickle('../data/processed/df_agrupado_target_03.pkl')\n",
    "df.to_csv('../data/processed/df_agrupado_target_03.csv')"
   ]
  },
  {
   "cell_type": "code",
   "execution_count": 58,
   "metadata": {},
   "outputs": [
    {
     "name": "stdout",
     "output_type": "stream",
     "text": [
      "cur shape:  (464280, 9)\n",
      "cur_comp shape:  (165810, 9)\n",
      "datdf shape:  (20016, 5)\n",
      "fin shape:  (424410, 8)\n",
      "df_ultimos_registros shape:  (20016, 8)\n",
      "df_agrupado_target shape:  (20016, 11)\n"
     ]
    }
   ],
   "source": [
    "print('cur shape: ',cur.shape)\n",
    "print('cur_comp shape: ',curcomp.shape)\n",
    "print('datdf shape: ',dat.shape)\n",
    "print('fin shape: ',fin.shape)\n",
    "print('df_ultimos_registros shape: ',df_ult.shape)\n",
    "print('df_agrupado_target shape: ',df.shape)"
   ]
  },
  {
   "cell_type": "code",
   "execution_count": null,
   "metadata": {},
   "outputs": [],
   "source": []
  }
 ],
 "metadata": {
  "kernelspec": {
   "display_name": "Python 3.8.10 ('tesis-9WwmOtq2-py3.8')",
   "language": "python",
   "name": "python3"
  },
  "language_info": {
   "codemirror_mode": {
    "name": "ipython",
    "version": 3
   },
   "file_extension": ".py",
   "mimetype": "text/x-python",
   "name": "python",
   "nbconvert_exporter": "python",
   "pygments_lexer": "ipython3",
   "version": "3.9.4"
  },
  "orig_nbformat": 4,
  "vscode": {
   "interpreter": {
    "hash": "c1241d3ae1d9ef889cb983698819564df5bcd3d314d5bb2265dfbf272bfe2174"
   }
  }
 },
 "nbformat": 4,
 "nbformat_minor": 2
}
