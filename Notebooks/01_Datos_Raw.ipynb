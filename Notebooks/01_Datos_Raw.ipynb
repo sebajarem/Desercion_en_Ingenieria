{
 "cells": [
  {
   "attachments": {},
   "cell_type": "markdown",
   "metadata": {},
   "source": [
    "# Exploracion Inicial"
   ]
  },
  {
   "cell_type": "code",
   "execution_count": 1,
   "metadata": {},
   "outputs": [],
   "source": [
    "import pandas as pd\n",
    "import numpy as np"
   ]
  },
  {
   "attachments": {},
   "cell_type": "markdown",
   "metadata": {},
   "source": [
    "## Leer archivos raw"
   ]
  },
  {
   "cell_type": "code",
   "execution_count": 4,
   "metadata": {},
   "outputs": [],
   "source": [
    "cur = pd.read_excel('../data/raw/Cursadas-Alumnos-SIGA-v2.xlsx')\n",
    "dat = pd.read_excel('../data/raw/Datos-Alumnos-SIGA-v2.xlsx')\n",
    "fin = pd.read_excel('../data/raw/Finales-Alumnos-SIGA-v2.xlsx')"
   ]
  },
  {
   "cell_type": "code",
   "execution_count": 6,
   "metadata": {},
   "outputs": [
    {
     "name": "stdout",
     "output_type": "stream",
     "text": [
      "shape cur: (812169, 12)\n",
      "shape dat: (84395, 10)\n",
      "shape fin: (1002745, 7)\n"
     ]
    }
   ],
   "source": [
    "print('shape cur:' ,cur.shape)\n",
    "print('shape dat:' ,dat.shape)\n",
    "print('shape fin:' ,fin.shape)"
   ]
  },
  {
   "cell_type": "code",
   "execution_count": 7,
   "metadata": {},
   "outputs": [
    {
     "data": {
      "text/html": [
       "<div>\n",
       "<style scoped>\n",
       "    .dataframe tbody tr th:only-of-type {\n",
       "        vertical-align: middle;\n",
       "    }\n",
       "\n",
       "    .dataframe tbody tr th {\n",
       "        vertical-align: top;\n",
       "    }\n",
       "\n",
       "    .dataframe thead th {\n",
       "        text-align: right;\n",
       "    }\n",
       "</style>\n",
       "<table border=\"1\" class=\"dataframe\">\n",
       "  <thead>\n",
       "    <tr style=\"text-align: right;\">\n",
       "      <th></th>\n",
       "      <th>codigo_alumno</th>\n",
       "      <th>curso</th>\n",
       "      <th>codigo_materia</th>\n",
       "      <th>departamento</th>\n",
       "      <th>modalidad</th>\n",
       "      <th>turno</th>\n",
       "      <th>ciclo_lectivo</th>\n",
       "      <th>tipo_de_aprobacion</th>\n",
       "      <th>cantidad_recursada_regular</th>\n",
       "      <th>descripción_recursada_regular</th>\n",
       "      <th>cantidad_recursada_libre</th>\n",
       "      <th>descripción_de_recursada_libre</th>\n",
       "    </tr>\n",
       "  </thead>\n",
       "  <tbody>\n",
       "    <tr>\n",
       "      <th>0</th>\n",
       "      <td>27</td>\n",
       "      <td>K5051</td>\n",
       "      <td>952037</td>\n",
       "      <td>NaN</td>\n",
       "      <td>Presencial</td>\n",
       "      <td>Noche</td>\n",
       "      <td>2006</td>\n",
       "      <td>Regularidad, Promoción</td>\n",
       "      <td>0</td>\n",
       "      <td>NaN</td>\n",
       "      <td>0</td>\n",
       "      <td>NaN</td>\n",
       "    </tr>\n",
       "    <tr>\n",
       "      <th>1</th>\n",
       "      <td>27</td>\n",
       "      <td>K5052</td>\n",
       "      <td>952052</td>\n",
       "      <td>NaN</td>\n",
       "      <td>Presencial</td>\n",
       "      <td>Noche</td>\n",
       "      <td>2006</td>\n",
       "      <td>Regularidad, Promoción</td>\n",
       "      <td>0</td>\n",
       "      <td>NaN</td>\n",
       "      <td>0</td>\n",
       "      <td>NaN</td>\n",
       "    </tr>\n",
       "    <tr>\n",
       "      <th>2</th>\n",
       "      <td>27</td>\n",
       "      <td>K5151</td>\n",
       "      <td>952054</td>\n",
       "      <td>NaN</td>\n",
       "      <td>Presencial</td>\n",
       "      <td>Noche</td>\n",
       "      <td>2006</td>\n",
       "      <td>Promoción, Regularidad</td>\n",
       "      <td>0</td>\n",
       "      <td>NaN</td>\n",
       "      <td>0</td>\n",
       "      <td>NaN</td>\n",
       "    </tr>\n",
       "    <tr>\n",
       "      <th>3</th>\n",
       "      <td>27</td>\n",
       "      <td>K5152</td>\n",
       "      <td>952056</td>\n",
       "      <td>NaN</td>\n",
       "      <td>Presencial</td>\n",
       "      <td>Noche</td>\n",
       "      <td>2006</td>\n",
       "      <td>Promoción, Regularidad</td>\n",
       "      <td>0</td>\n",
       "      <td>NaN</td>\n",
       "      <td>0</td>\n",
       "      <td>NaN</td>\n",
       "    </tr>\n",
       "    <tr>\n",
       "      <th>4</th>\n",
       "      <td>53</td>\n",
       "      <td>K4051</td>\n",
       "      <td>952046</td>\n",
       "      <td>NaN</td>\n",
       "      <td>Presencial</td>\n",
       "      <td>Noche</td>\n",
       "      <td>2010</td>\n",
       "      <td>Regularidad, Promoción</td>\n",
       "      <td>0</td>\n",
       "      <td>NaN</td>\n",
       "      <td>0</td>\n",
       "      <td>NaN</td>\n",
       "    </tr>\n",
       "  </tbody>\n",
       "</table>\n",
       "</div>"
      ],
      "text/plain": [
       "   codigo_alumno  curso codigo_materia departamento   modalidad  turno  \\\n",
       "0             27  K5051         952037          NaN  Presencial  Noche   \n",
       "1             27  K5052         952052          NaN  Presencial  Noche   \n",
       "2             27  K5151         952054          NaN  Presencial  Noche   \n",
       "3             27  K5152         952056          NaN  Presencial  Noche   \n",
       "4             53  K4051         952046          NaN  Presencial  Noche   \n",
       "\n",
       "   ciclo_lectivo      tipo_de_aprobacion  cantidad_recursada_regular  \\\n",
       "0           2006  Regularidad, Promoción                           0   \n",
       "1           2006  Regularidad, Promoción                           0   \n",
       "2           2006  Promoción, Regularidad                           0   \n",
       "3           2006  Promoción, Regularidad                           0   \n",
       "4           2010  Regularidad, Promoción                           0   \n",
       "\n",
       "  descripción_recursada_regular  cantidad_recursada_libre  \\\n",
       "0                           NaN                         0   \n",
       "1                           NaN                         0   \n",
       "2                           NaN                         0   \n",
       "3                           NaN                         0   \n",
       "4                           NaN                         0   \n",
       "\n",
       "   descripción_de_recursada_libre  \n",
       "0                             NaN  \n",
       "1                             NaN  \n",
       "2                             NaN  \n",
       "3                             NaN  \n",
       "4                             NaN  "
      ]
     },
     "execution_count": 7,
     "metadata": {},
     "output_type": "execute_result"
    }
   ],
   "source": [
    "cur.head()"
   ]
  },
  {
   "cell_type": "code",
   "execution_count": 8,
   "metadata": {},
   "outputs": [
    {
     "data": {
      "text/html": [
       "<div>\n",
       "<style scoped>\n",
       "    .dataframe tbody tr th:only-of-type {\n",
       "        vertical-align: middle;\n",
       "    }\n",
       "\n",
       "    .dataframe tbody tr th {\n",
       "        vertical-align: top;\n",
       "    }\n",
       "\n",
       "    .dataframe thead th {\n",
       "        text-align: right;\n",
       "    }\n",
       "</style>\n",
       "<table border=\"1\" class=\"dataframe\">\n",
       "  <thead>\n",
       "    <tr style=\"text-align: right;\">\n",
       "      <th></th>\n",
       "      <th>codigo_alumno</th>\n",
       "      <th>pais</th>\n",
       "      <th>localidad</th>\n",
       "      <th>provincia</th>\n",
       "      <th>titulo_secundario</th>\n",
       "      <th>estado_civil</th>\n",
       "      <th>sexo</th>\n",
       "      <th>año_nacimiento</th>\n",
       "      <th>año_ingreso</th>\n",
       "      <th>codigo_propuesta</th>\n",
       "    </tr>\n",
       "  </thead>\n",
       "  <tbody>\n",
       "    <tr>\n",
       "      <th>0</th>\n",
       "      <td>4</td>\n",
       "      <td>NaN</td>\n",
       "      <td>NaN</td>\n",
       "      <td>NaN</td>\n",
       "      <td>NaN</td>\n",
       "      <td>Soltero</td>\n",
       "      <td>M</td>\n",
       "      <td>1974</td>\n",
       "      <td>1993</td>\n",
       "      <td>K</td>\n",
       "    </tr>\n",
       "    <tr>\n",
       "      <th>1</th>\n",
       "      <td>5</td>\n",
       "      <td>NaN</td>\n",
       "      <td>NaN</td>\n",
       "      <td>NaN</td>\n",
       "      <td>NaN</td>\n",
       "      <td>Soltero</td>\n",
       "      <td>M</td>\n",
       "      <td>1974</td>\n",
       "      <td>1993</td>\n",
       "      <td>K</td>\n",
       "    </tr>\n",
       "    <tr>\n",
       "      <th>2</th>\n",
       "      <td>6</td>\n",
       "      <td>NaN</td>\n",
       "      <td>NaN</td>\n",
       "      <td>NaN</td>\n",
       "      <td>NaN</td>\n",
       "      <td>Soltero</td>\n",
       "      <td>M</td>\n",
       "      <td>1974</td>\n",
       "      <td>1998</td>\n",
       "      <td>K</td>\n",
       "    </tr>\n",
       "    <tr>\n",
       "      <th>3</th>\n",
       "      <td>8</td>\n",
       "      <td>NaN</td>\n",
       "      <td>NaN</td>\n",
       "      <td>NaN</td>\n",
       "      <td>NaN</td>\n",
       "      <td>Soltero</td>\n",
       "      <td>M</td>\n",
       "      <td>1974</td>\n",
       "      <td>1994</td>\n",
       "      <td>K</td>\n",
       "    </tr>\n",
       "    <tr>\n",
       "      <th>4</th>\n",
       "      <td>9</td>\n",
       "      <td>NaN</td>\n",
       "      <td>NaN</td>\n",
       "      <td>NaN</td>\n",
       "      <td>NaN</td>\n",
       "      <td>Soltero</td>\n",
       "      <td>M</td>\n",
       "      <td>1974</td>\n",
       "      <td>1993</td>\n",
       "      <td>K</td>\n",
       "    </tr>\n",
       "  </tbody>\n",
       "</table>\n",
       "</div>"
      ],
      "text/plain": [
       "   codigo_alumno pais localidad provincia titulo_secundario estado_civil sexo  \\\n",
       "0              4  NaN       NaN       NaN               NaN      Soltero    M   \n",
       "1              5  NaN       NaN       NaN               NaN      Soltero    M   \n",
       "2              6  NaN       NaN       NaN               NaN      Soltero    M   \n",
       "3              8  NaN       NaN       NaN               NaN      Soltero    M   \n",
       "4              9  NaN       NaN       NaN               NaN      Soltero    M   \n",
       "\n",
       "   año_nacimiento  año_ingreso codigo_propuesta  \n",
       "0            1974         1993                K  \n",
       "1            1974         1993                K  \n",
       "2            1974         1998                K  \n",
       "3            1974         1994                K  \n",
       "4            1974         1993                K  "
      ]
     },
     "execution_count": 8,
     "metadata": {},
     "output_type": "execute_result"
    }
   ],
   "source": [
    "dat.head()"
   ]
  },
  {
   "cell_type": "code",
   "execution_count": 9,
   "metadata": {},
   "outputs": [
    {
     "data": {
      "text/html": [
       "<div>\n",
       "<style scoped>\n",
       "    .dataframe tbody tr th:only-of-type {\n",
       "        vertical-align: middle;\n",
       "    }\n",
       "\n",
       "    .dataframe tbody tr th {\n",
       "        vertical-align: top;\n",
       "    }\n",
       "\n",
       "    .dataframe thead th {\n",
       "        text-align: right;\n",
       "    }\n",
       "</style>\n",
       "<table border=\"1\" class=\"dataframe\">\n",
       "  <thead>\n",
       "    <tr style=\"text-align: right;\">\n",
       "      <th></th>\n",
       "      <th>codigo_alumno</th>\n",
       "      <th>codigo_materia</th>\n",
       "      <th>anio_academico</th>\n",
       "      <th>nota</th>\n",
       "      <th>aprobado</th>\n",
       "      <th>promociono</th>\n",
       "      <th>año_cursada</th>\n",
       "    </tr>\n",
       "  </thead>\n",
       "  <tbody>\n",
       "    <tr>\n",
       "      <th>0</th>\n",
       "      <td>4</td>\n",
       "      <td>841346</td>\n",
       "      <td>1993.0</td>\n",
       "      <td>5</td>\n",
       "      <td>5</td>\n",
       "      <td>NaN</td>\n",
       "      <td>NaN</td>\n",
       "    </tr>\n",
       "    <tr>\n",
       "      <th>1</th>\n",
       "      <td>4</td>\n",
       "      <td>854003</td>\n",
       "      <td>1993.0</td>\n",
       "      <td>2</td>\n",
       "      <td>NaN</td>\n",
       "      <td>NaN</td>\n",
       "      <td>NaN</td>\n",
       "    </tr>\n",
       "    <tr>\n",
       "      <th>2</th>\n",
       "      <td>4</td>\n",
       "      <td>854005</td>\n",
       "      <td>1993.0</td>\n",
       "      <td>6</td>\n",
       "      <td>6</td>\n",
       "      <td>NaN</td>\n",
       "      <td>NaN</td>\n",
       "    </tr>\n",
       "    <tr>\n",
       "      <th>3</th>\n",
       "      <td>4</td>\n",
       "      <td>864013</td>\n",
       "      <td>1993.0</td>\n",
       "      <td>7</td>\n",
       "      <td>7</td>\n",
       "      <td>NaN</td>\n",
       "      <td>NaN</td>\n",
       "    </tr>\n",
       "    <tr>\n",
       "      <th>4</th>\n",
       "      <td>4</td>\n",
       "      <td>651302</td>\n",
       "      <td>1994.0</td>\n",
       "      <td>5</td>\n",
       "      <td>5</td>\n",
       "      <td>NaN</td>\n",
       "      <td>NaN</td>\n",
       "    </tr>\n",
       "  </tbody>\n",
       "</table>\n",
       "</div>"
      ],
      "text/plain": [
       "   codigo_alumno codigo_materia  anio_academico nota aprobado promociono  \\\n",
       "0              4         841346          1993.0    5        5        NaN   \n",
       "1              4         854003          1993.0    2      NaN        NaN   \n",
       "2              4         854005          1993.0    6        6        NaN   \n",
       "3              4         864013          1993.0    7        7        NaN   \n",
       "4              4         651302          1994.0    5        5        NaN   \n",
       "\n",
       "   año_cursada  \n",
       "0          NaN  \n",
       "1          NaN  \n",
       "2          NaN  \n",
       "3          NaN  \n",
       "4          NaN  "
      ]
     },
     "execution_count": 9,
     "metadata": {},
     "output_type": "execute_result"
    }
   ],
   "source": [
    "fin.head()"
   ]
  },
  {
   "cell_type": "code",
   "execution_count": 10,
   "metadata": {},
   "outputs": [
    {
     "name": "stdout",
     "output_type": "stream",
     "text": [
      "35626\n",
      "84278\n",
      "49017\n"
     ]
    }
   ],
   "source": [
    "# cuantos alumnos en cada file\n",
    "print(cur.codigo_alumno.nunique())\n",
    "print(dat.codigo_alumno.nunique())\n",
    "print(fin.codigo_alumno.nunique())"
   ]
  },
  {
   "cell_type": "code",
   "execution_count": 11,
   "metadata": {},
   "outputs": [
    {
     "data": {
      "text/plain": [
       "Index(['codigo_alumno', 'curso', 'codigo_materia', 'departamento', 'modalidad',\n",
       "       'turno', 'ciclo_lectivo', 'tipo_de_aprobacion',\n",
       "       'cantidad_recursada_regular', 'descripción_recursada_regular',\n",
       "       'cantidad_recursada_libre', 'descripción_de_recursada_libre'],\n",
       "      dtype='object')"
      ]
     },
     "execution_count": 11,
     "metadata": {},
     "output_type": "execute_result"
    }
   ],
   "source": [
    "cur.columns"
   ]
  },
  {
   "cell_type": "code",
   "execution_count": 12,
   "metadata": {},
   "outputs": [
    {
     "data": {
      "text/plain": [
       "Index(['codigo_alumno', 'codigo_materia', 'anio_academico', 'nota', 'aprobado',\n",
       "       'promociono', 'año_cursada'],\n",
       "      dtype='object')"
      ]
     },
     "execution_count": 12,
     "metadata": {},
     "output_type": "execute_result"
    }
   ],
   "source": [
    "fin.columns"
   ]
  },
  {
   "cell_type": "code",
   "execution_count": 13,
   "metadata": {},
   "outputs": [
    {
     "data": {
      "text/plain": [
       "Index(['codigo_alumno', 'pais', 'localidad', 'provincia', 'titulo_secundario',\n",
       "       'estado_civil', 'sexo', 'año_nacimiento', 'año_ingreso',\n",
       "       'codigo_propuesta'],\n",
       "      dtype='object')"
      ]
     },
     "execution_count": 13,
     "metadata": {},
     "output_type": "execute_result"
    }
   ],
   "source": [
    "dat.columns"
   ]
  },
  {
   "attachments": {},
   "cell_type": "markdown",
   "metadata": {},
   "source": [
    "## Reduccion de Dataset"
   ]
  },
  {
   "cell_type": "code",
   "execution_count": 17,
   "metadata": {},
   "outputs": [
    {
     "data": {
      "text/plain": [
       "(17737116, 18)"
      ]
     },
     "execution_count": 17,
     "metadata": {},
     "output_type": "execute_result"
    }
   ],
   "source": [
    "df = pd.merge(cur, fin, how = 'inner', on = 'codigo_alumno')\n",
    "df.shape"
   ]
  },
  {
   "cell_type": "code",
   "execution_count": 18,
   "metadata": {},
   "outputs": [
    {
     "data": {
      "text/plain": [
       "24830"
      ]
     },
     "execution_count": 18,
     "metadata": {},
     "output_type": "execute_result"
    }
   ],
   "source": [
    "df.codigo_alumno.nunique()"
   ]
  },
  {
   "cell_type": "code",
   "execution_count": 19,
   "metadata": {},
   "outputs": [
    {
     "data": {
      "text/plain": [
       "(17748140, 27)"
      ]
     },
     "execution_count": 19,
     "metadata": {},
     "output_type": "execute_result"
    }
   ],
   "source": [
    "df = pd.merge(df, dat, how= 'inner', on = 'codigo_alumno')\n",
    "df.shape"
   ]
  },
  {
   "cell_type": "code",
   "execution_count": 20,
   "metadata": {},
   "outputs": [
    {
     "data": {
      "text/plain": [
       "24830"
      ]
     },
     "execution_count": 20,
     "metadata": {},
     "output_type": "execute_result"
    }
   ],
   "source": [
    "df.codigo_alumno.nunique()"
   ]
  },
  {
   "cell_type": "code",
   "execution_count": 21,
   "metadata": {},
   "outputs": [],
   "source": [
    "df = df.codigo_alumno.unique()"
   ]
  },
  {
   "cell_type": "code",
   "execution_count": 22,
   "metadata": {},
   "outputs": [
    {
     "data": {
      "text/plain": [
       "24830"
      ]
     },
     "execution_count": 22,
     "metadata": {},
     "output_type": "execute_result"
    }
   ],
   "source": [
    "len(df)"
   ]
  },
  {
   "cell_type": "code",
   "execution_count": 23,
   "metadata": {},
   "outputs": [],
   "source": [
    "df = pd.DataFrame(df)"
   ]
  },
  {
   "cell_type": "code",
   "execution_count": 24,
   "metadata": {},
   "outputs": [],
   "source": [
    "df.columns = ['codigo_alumno']"
   ]
  },
  {
   "cell_type": "code",
   "execution_count": 25,
   "metadata": {},
   "outputs": [
    {
     "data": {
      "text/html": [
       "<div>\n",
       "<style scoped>\n",
       "    .dataframe tbody tr th:only-of-type {\n",
       "        vertical-align: middle;\n",
       "    }\n",
       "\n",
       "    .dataframe tbody tr th {\n",
       "        vertical-align: top;\n",
       "    }\n",
       "\n",
       "    .dataframe thead th {\n",
       "        text-align: right;\n",
       "    }\n",
       "</style>\n",
       "<table border=\"1\" class=\"dataframe\">\n",
       "  <thead>\n",
       "    <tr style=\"text-align: right;\">\n",
       "      <th></th>\n",
       "      <th>codigo_alumno</th>\n",
       "    </tr>\n",
       "  </thead>\n",
       "  <tbody>\n",
       "    <tr>\n",
       "      <th>0</th>\n",
       "      <td>27</td>\n",
       "    </tr>\n",
       "    <tr>\n",
       "      <th>1</th>\n",
       "      <td>53</td>\n",
       "    </tr>\n",
       "    <tr>\n",
       "      <th>2</th>\n",
       "      <td>58</td>\n",
       "    </tr>\n",
       "    <tr>\n",
       "      <th>3</th>\n",
       "      <td>72</td>\n",
       "    </tr>\n",
       "    <tr>\n",
       "      <th>4</th>\n",
       "      <td>86</td>\n",
       "    </tr>\n",
       "    <tr>\n",
       "      <th>...</th>\n",
       "      <td>...</td>\n",
       "    </tr>\n",
       "    <tr>\n",
       "      <th>24825</th>\n",
       "      <td>79993</td>\n",
       "    </tr>\n",
       "    <tr>\n",
       "      <th>24826</th>\n",
       "      <td>79994</td>\n",
       "    </tr>\n",
       "    <tr>\n",
       "      <th>24827</th>\n",
       "      <td>79995</td>\n",
       "    </tr>\n",
       "    <tr>\n",
       "      <th>24828</th>\n",
       "      <td>79997</td>\n",
       "    </tr>\n",
       "    <tr>\n",
       "      <th>24829</th>\n",
       "      <td>79999</td>\n",
       "    </tr>\n",
       "  </tbody>\n",
       "</table>\n",
       "<p>24830 rows × 1 columns</p>\n",
       "</div>"
      ],
      "text/plain": [
       "       codigo_alumno\n",
       "0                 27\n",
       "1                 53\n",
       "2                 58\n",
       "3                 72\n",
       "4                 86\n",
       "...              ...\n",
       "24825          79993\n",
       "24826          79994\n",
       "24827          79995\n",
       "24828          79997\n",
       "24829          79999\n",
       "\n",
       "[24830 rows x 1 columns]"
      ]
     },
     "execution_count": 25,
     "metadata": {},
     "output_type": "execute_result"
    }
   ],
   "source": [
    "df"
   ]
  },
  {
   "cell_type": "code",
   "execution_count": 26,
   "metadata": {},
   "outputs": [
    {
     "data": {
      "text/plain": [
       "(24839, 10)"
      ]
     },
     "execution_count": 26,
     "metadata": {},
     "output_type": "execute_result"
    }
   ],
   "source": [
    "datdf = pd.merge(df, dat, how= 'inner', on = 'codigo_alumno')\n",
    "datdf.shape"
   ]
  },
  {
   "cell_type": "code",
   "execution_count": 30,
   "metadata": {},
   "outputs": [
    {
     "data": {
      "text/plain": [
       "(581295, 12)"
      ]
     },
     "execution_count": 30,
     "metadata": {},
     "output_type": "execute_result"
    }
   ],
   "source": [
    "curdf = pd.merge(df, cur, how= 'inner', on = 'codigo_alumno')\n",
    "curdf.shape"
   ]
  },
  {
   "cell_type": "code",
   "execution_count": 29,
   "metadata": {},
   "outputs": [
    {
     "data": {
      "text/plain": [
       "(554523, 7)"
      ]
     },
     "execution_count": 29,
     "metadata": {},
     "output_type": "execute_result"
    }
   ],
   "source": [
    "findf = pd.merge(df, fin, how= 'inner', on = 'codigo_alumno')\n",
    "findf.shape"
   ]
  },
  {
   "attachments": {},
   "cell_type": "markdown",
   "metadata": {},
   "source": [
    "### Guardar dataset reducidos"
   ]
  },
  {
   "cell_type": "code",
   "execution_count": 31,
   "metadata": {},
   "outputs": [],
   "source": [
    "datdf.to_csv('../data/interim/datdf.csv', index = False)\n",
    "curdf.to_csv('../data/interim/curdf.csv', index = False)\n",
    "findf.to_csv('../data/interim/findf.csv', index = False)"
   ]
  }
 ],
 "metadata": {
  "kernelspec": {
   "display_name": "Python 3.8.10 ('tesis-9WwmOtq2-py3.8')",
   "language": "python",
   "name": "python3"
  },
  "language_info": {
   "codemirror_mode": {
    "name": "ipython",
    "version": 3
   },
   "file_extension": ".py",
   "mimetype": "text/x-python",
   "name": "python",
   "nbconvert_exporter": "python",
   "pygments_lexer": "ipython3",
   "version": "3.9.4"
  },
  "orig_nbformat": 4,
  "vscode": {
   "interpreter": {
    "hash": "c1241d3ae1d9ef889cb983698819564df5bcd3d314d5bb2265dfbf272bfe2174"
   }
  }
 },
 "nbformat": 4,
 "nbformat_minor": 2
}
